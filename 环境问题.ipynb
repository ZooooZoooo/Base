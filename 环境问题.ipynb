{
 "cells": [
  {
   "metadata": {},
   "cell_type": "markdown",
   "source": [
    "# 深度学习环境-从0开始\n",
    "1. 准备环境和安装包\n",
    "    - Anaconda\n",
    "        - 安装教程：https://blog.csdn.net/sdjklghiof/article/details/137777480\n",
    "    - Pycharm\n",
    "        - 安装教程：https://blog.csdn.net/sdjklghiof/article/details/137777480\n",
    "        - 破解网站：https://blog.csdn.net/weixin_50670076/article/details/136318252\n",
    "    - Cuda\n",
    "        - 打开CMD输入**nvidia-smi**，查看Cuda版本安装上限； CUDA Version: 12.1 \n",
    "        - 官网下载CUDA-12.1版本；https://developer.nvidia.com/cuda-toolkit-archive\n",
    "        - CMD输入nvcc -V，查看是否安装完成；\n",
    "2. 搭建所需环境\n",
    "    - 教程网址：https://blog.csdn.net/weixin_73800108/article/details/137296446\n",
    "    - 详细步骤：\n",
    "        - 打开Anaconda Prompt，输入 **conda create -n env_name -y python=x.xx**\n",
    "            - 若下载过慢，可更换镜像源：https://www.cnblogs.com/zzmx0/p/12514449.html\n",
    "            - 常见的镜像源：https://blog.csdn.net/billfanggs/article/details/133955784\n",
    "        - 安装PyTorch\n",
    "            - 安装教程：https://blog.csdn.net/qq_49497497/article/details/134090825\n",
    "            - 安装网站：https://pytorch.org/get-started/locally/\n",
    "            - 检验PyTorch是否是GUP版本:https://blog.csdn.net/m0_56182552/article/details/133129240\n",
    "        - 将环境配置到Pycharm\n",
    "            - 教程网站：https://www.bilibili.com/video/BV13z421a7LS/?spm_id_from=333.1007.top_right_bar_window_custom_collection.content.click&vd_source=6f37ffe5602d60074f3945b96655b5bd\n",
    "            - **jupyter kernelspec list** # 查看目前可用的内核\n",
    "            - **conda install ipykernel** # 安装ipykernel\n",
    "            - **python -m ipykernel install --user --name xxx --display-name xxx** # 将环境写入kernel\n",
    "        - 删除环境\n",
    "            - **conda remove --name xxx --all** # 删除指定的虚拟环境\n",
    "3. 上传到Github\n",
    "    - commit+push，快捷键：Ctrl+Shift+K\n",
    "    - 删除Github文件：网页直接操作\n",
    "    - 删除Github文件夹：**git rm -r --cached xxx**，然后上传推送\n",
    "    - 忽略上传文件更新：\n",
    "        - git rm -r --cached\n",
    "        - git add .\n",
    "        - git commit -m \"Update .gitignore\"\n",
    "    "
   ],
   "id": "7b28feedc9804c6b"
  },
  {
   "metadata": {},
   "cell_type": "markdown",
   "source": [
    "# 常用命令\n",
    "1. Anaconda\n",
    "    - conda env list # 查看虚拟环境列表\n",
    "    - conda list # 当前环境安装了那些包\n",
    "    - conda activate xx # 激活环境\n",
    "    - "
   ],
   "id": "53da33e3a0fb41c3"
  },
  {
   "metadata": {},
   "cell_type": "markdown",
   "source": [
    "# 目前搭建环境-具体信息\n",
    "## A1\n",
    "### 用途\n",
    "用于学习李沐深度学习代码\n",
    "\n",
    "### 教程\n",
    "https://blog.csdn.net/qq_49497497/article/details/134090825\n",
    "\n",
    "### 安装版本\n",
    "cuda：cuda_12.1\n",
    "\n",
    "torch：2.3.1+cu121\n",
    "pip3 install torch torchvision torchaudio --index-url https://download.pytorch.org/whl/cu121\n",
    "\n",
    "python：3.8\n",
    "\n",
    "d2l：pip install d2l==0.17.6"
   ],
   "id": "e5ab13b071472804"
  },
  {
   "metadata": {},
   "cell_type": "markdown",
   "source": [
    "\n",
    "\n",
    "\n"
   ],
   "id": "32cadf371302a616"
  }
 ],
 "metadata": {
  "kernelspec": {
   "display_name": "A1",
   "language": "python",
   "name": "a1"
  },
  "language_info": {
   "codemirror_mode": {
    "name": "ipython",
    "version": 2
   },
   "file_extension": ".py",
   "mimetype": "text/x-python",
   "name": "python",
   "nbconvert_exporter": "python",
   "pygments_lexer": "ipython2",
   "version": "2.7.6"
  }
 },
 "nbformat": 4,
 "nbformat_minor": 5
}
