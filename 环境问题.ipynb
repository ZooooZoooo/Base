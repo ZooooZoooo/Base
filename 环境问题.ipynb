{
 "cells": [
  {
   "metadata": {},
   "cell_type": "markdown",
   "source": [
    "# 简洁步骤\n",
    "\n",
    "- 安装cuda、cudnn、python、pytorch-GPU版本（考虑兼容性）；[教程](https://blog.csdn.net/tyx2985491138/article/details/130082757?spm=1001.2014.3001.5502)\n",
    "- 在Pycharm中将配置的环境添加至内核；[教程](https://www.bilibili.com/video/BV13z421a7LS/?spm_id_from=333.1007.top_right_bar_window_custom_collection.content.click&vd_source=6f37ffe5602d60074f3945b96655b5bd)\n",
    "\n",
    "## 常用命令"
   ],
   "id": "53da33e3a0fb41c3"
  },
  {
   "metadata": {},
   "cell_type": "markdown",
   "source": [
    "conda env list # 查看已创建的虚拟环境\n",
    "\n",
    "conda activate xxx # 激活环境\n",
    "\n",
    "conda remove --name xxx --all # 删除指定的虚拟环境\n",
    "\n",
    "jupyter kernelspec list # 查看目前可用的内核\n",
    "\n",
    "conda install ipykernel # 安装ipykernel\n",
    "\n",
    "python -m ipykernel install --user --name xxx --display-name xxx # 将环境写入kernel\n",
    "\n",
    "删除GitHub文件夹：git rm -r --cached xxx\n",
    "\n",
    "查看文件：dir  ls -a\n",
    "\n",
    "忽略上传文件更新：\n",
    "git rm -r --cached\n",
    "git add .\n",
    "git commit -m \"Update .gitignore\""
   ],
   "id": "64e23ec61bcca5a3"
  },
  {
   "metadata": {},
   "cell_type": "markdown",
   "source": [
    "# A1环境-具体信息\n",
    "## 版本信息\n",
    "cuda：cuda_12.1.1_531.14_windows\n",
    "\n",
    "cudann：cudnn-windows-x86_64-8.9.7.29_cuda12-archive\n",
    "\n",
    "torch：torch-2.3.1+cu121-cp311-cp311-win_amd64\n",
    "\n",
    "python：3.11\n"
   ],
   "id": "e5ab13b071472804"
  },
  {
   "metadata": {
    "ExecuteTime": {
     "end_time": "2024-06-26T05:28:26.088939Z",
     "start_time": "2024-06-26T05:28:25.137587Z"
    }
   },
   "cell_type": "code",
   "source": [
    "import torch\n",
    "\n",
    "if torch.cuda.is_available():\n",
    "    device = torch.device(\"cuda\")\n",
    "    print(\"PyTorch is using GPU\")\n",
    "else:\n",
    "    device = torch.device(\"cpu\")\n",
    "    print(\"PyTorch is using CPU\")\n",
    "    \n",
    "print(torch.__version__)"
   ],
   "id": "d705f75af7c4555e",
   "outputs": [
    {
     "ename": "OSError",
     "evalue": "[WinError 127] 找不到指定的程序。 Error loading \"D:\\conda\\envs\\A1\\lib\\site-packages\\torch\\lib\\c10_cuda.dll\" or one of its dependencies.",
     "output_type": "error",
     "traceback": [
      "\u001B[1;31m---------------------------------------------------------------------------\u001B[0m",
      "\u001B[1;31mOSError\u001B[0m                                   Traceback (most recent call last)",
      "Cell \u001B[1;32mIn[1], line 1\u001B[0m\n\u001B[1;32m----> 1\u001B[0m \u001B[38;5;28;01mimport\u001B[39;00m \u001B[38;5;21;01mtorch\u001B[39;00m\n\u001B[0;32m      3\u001B[0m \u001B[38;5;28;01mif\u001B[39;00m torch\u001B[38;5;241m.\u001B[39mcuda\u001B[38;5;241m.\u001B[39mis_available():\n\u001B[0;32m      4\u001B[0m     device \u001B[38;5;241m=\u001B[39m torch\u001B[38;5;241m.\u001B[39mdevice(\u001B[38;5;124m\"\u001B[39m\u001B[38;5;124mcuda\u001B[39m\u001B[38;5;124m\"\u001B[39m)\n",
      "File \u001B[1;32mD:\\conda\\envs\\A1\\lib\\site-packages\\torch\\__init__.py:130\u001B[0m\n\u001B[0;32m    128\u001B[0m     err \u001B[38;5;241m=\u001B[39m ctypes\u001B[38;5;241m.\u001B[39mWinError(last_error)\n\u001B[0;32m    129\u001B[0m     err\u001B[38;5;241m.\u001B[39mstrerror \u001B[38;5;241m+\u001B[39m\u001B[38;5;241m=\u001B[39m \u001B[38;5;124mf\u001B[39m\u001B[38;5;124m'\u001B[39m\u001B[38;5;124m Error loading \u001B[39m\u001B[38;5;124m\"\u001B[39m\u001B[38;5;132;01m{\u001B[39;00mdll\u001B[38;5;132;01m}\u001B[39;00m\u001B[38;5;124m\"\u001B[39m\u001B[38;5;124m or one of its dependencies.\u001B[39m\u001B[38;5;124m'\u001B[39m\n\u001B[1;32m--> 130\u001B[0m     \u001B[38;5;28;01mraise\u001B[39;00m err\n\u001B[0;32m    131\u001B[0m \u001B[38;5;28;01melif\u001B[39;00m res \u001B[38;5;129;01mis\u001B[39;00m \u001B[38;5;129;01mnot\u001B[39;00m \u001B[38;5;28;01mNone\u001B[39;00m:\n\u001B[0;32m    132\u001B[0m     is_loaded \u001B[38;5;241m=\u001B[39m \u001B[38;5;28;01mTrue\u001B[39;00m\n",
      "\u001B[1;31mOSError\u001B[0m: [WinError 127] 找不到指定的程序。 Error loading \"D:\\conda\\envs\\A1\\lib\\site-packages\\torch\\lib\\c10_cuda.dll\" or one of its dependencies."
     ]
    }
   ],
   "execution_count": 1
  },
  {
   "metadata": {},
   "cell_type": "markdown",
   "source": [
    "# Github 操作\n",
    "- 删除：删除单个文件（网页就能删）、删除文件夹（本地同步提交）\n"
   ],
   "id": "9464e549112b0d59"
  }
 ],
 "metadata": {
  "kernelspec": {
   "display_name": "A1",
   "language": "python",
   "name": "a1"
  },
  "language_info": {
   "codemirror_mode": {
    "name": "ipython",
    "version": 2
   },
   "file_extension": ".py",
   "mimetype": "text/x-python",
   "name": "python",
   "nbconvert_exporter": "python",
   "pygments_lexer": "ipython2",
   "version": "2.7.6"
  }
 },
 "nbformat": 4,
 "nbformat_minor": 5
}
