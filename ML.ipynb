{
 "cells": [
  {
   "metadata": {
    "ExecuteTime": {
     "end_time": "2024-06-02T11:28:59.658881Z",
     "start_time": "2024-06-02T11:28:59.655661Z"
    }
   },
   "cell_type": "code",
   "source": [
    "# Deep Learning Basic Knowledge\n",
    "\n",
    "## 预备知识\n",
    "### 数据操作\n",
    "\n",
    "import torch\n",
    "\n",
    "\n",
    "\n",
    "### 数据预处理\n",
    "\n",
    "# 哈哈哈哈测试\n",
    "\n",
    "## 线性神经网络\n",
    "\n",
    "### 线性回归\n",
    "\n",
    "import torch\n",
    "\n",
    "## 多层感知机\n"
   ],
   "id": "c4ac583cef56751",
   "outputs": [],
   "execution_count": 3
  },
  {
   "metadata": {},
   "cell_type": "markdown",
   "source": "",
   "id": "87512bdb3492d1b8"
  },
  {
   "metadata": {
    "ExecuteTime": {
     "end_time": "2024-06-02T11:29:45.180336Z",
     "start_time": "2024-06-02T11:29:45.177181Z"
    }
   },
   "cell_type": "code",
   "source": "",
   "id": "d4eeb2fcc9c2613e",
   "outputs": [],
   "execution_count": 3
  },
  {
   "metadata": {},
   "cell_type": "code",
   "outputs": [],
   "execution_count": null,
   "source": "",
   "id": "6c67cb2ee6442253"
  }
 ],
 "metadata": {
  "kernelspec": {
   "display_name": "Base",
   "language": "python",
   "name": "base"
  },
  "language_info": {
   "codemirror_mode": {
    "name": "ipython",
    "version": 2
   },
   "file_extension": ".py",
   "mimetype": "text/x-python",
   "name": "python",
   "nbconvert_exporter": "python",
   "pygments_lexer": "ipython2",
   "version": "2.7.6"
  }
 },
 "nbformat": 4,
 "nbformat_minor": 5
}
