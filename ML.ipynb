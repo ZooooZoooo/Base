{
 "cells": [
  {
   "metadata": {},
   "cell_type": "markdown",
   "source": [
    "# Deep Learning Basic Knowledge\n",
    "\n",
    "## 预备知识_Preliminaries\n",
    "### 数据操作\n",
    "*本节总结：深度学习存储和操作数据的主要接口是张量，其功能包括基本数学运算、广播、索引、切片、内存节省和转换其他Python对象。*\n",
    "#### 创建\n",
    "张量是由数值组成的数组，具有一个轴的张量对应数学上的*向量*，具有两个轴的张量对应数学上的*矩阵*。"
   ],
   "id": "277dab52210f501a"
  },
  {
   "metadata": {
    "ExecuteTime": {
     "end_time": "2024-06-03T06:16:48.061900Z",
     "start_time": "2024-06-03T06:16:48.054058Z"
    }
   },
   "cell_type": "code",
   "source": [
    "import torch\n",
    "x = torch.arange(12)  # arange创建向量，默认为整数\n",
    "x"
   ],
   "id": "8c718aa4be25e62f",
   "outputs": [
    {
     "data": {
      "text/plain": [
       "tensor([ 0,  1,  2,  3,  4,  5,  6,  7,  8,  9, 10, 11])"
      ]
     },
     "execution_count": 77,
     "metadata": {},
     "output_type": "execute_result"
    }
   ],
   "execution_count": 77
  },
  {
   "metadata": {
    "ExecuteTime": {
     "end_time": "2024-06-03T06:16:48.345116Z",
     "start_time": "2024-06-03T06:16:48.339765Z"
    }
   },
   "cell_type": "code",
   "source": [
    "x.shape # 形状\n",
    "x.numel() # 元素总数"
   ],
   "id": "7445ff84249de352",
   "outputs": [
    {
     "data": {
      "text/plain": [
       "12"
      ]
     },
     "execution_count": 78,
     "metadata": {},
     "output_type": "execute_result"
    }
   ],
   "execution_count": 78
  },
  {
   "metadata": {
    "ExecuteTime": {
     "end_time": "2024-06-03T06:16:48.365880Z",
     "start_time": "2024-06-03T06:16:48.360121Z"
    }
   },
   "cell_type": "code",
   "source": [
    "X = x.reshape(3, 4) # 改变形状\n",
    "X"
   ],
   "id": "2e85f01564c4ac38",
   "outputs": [
    {
     "data": {
      "text/plain": [
       "tensor([[ 0,  1,  2,  3],\n",
       "        [ 4,  5,  6,  7],\n",
       "        [ 8,  9, 10, 11]])"
      ]
     },
     "execution_count": 79,
     "metadata": {},
     "output_type": "execute_result"
    }
   ],
   "execution_count": 79
  },
  {
   "metadata": {
    "ExecuteTime": {
     "end_time": "2024-06-03T06:16:48.446023Z",
     "start_time": "2024-06-03T06:16:48.438406Z"
    }
   },
   "cell_type": "code",
   "source": [
    "torch.zeros((2, 3, 4)) # 创建一个形状为（2,3,4）的张量，所有元素都设置为0\n",
    "torch.ones((2, 3, 4)) # 创建一个形状为（2,3,4）的张量，所有元素都设置为1"
   ],
   "id": "b6ea4c3a0fde346c",
   "outputs": [
    {
     "data": {
      "text/plain": [
       "tensor([[[1., 1., 1., 1.],\n",
       "         [1., 1., 1., 1.],\n",
       "         [1., 1., 1., 1.]],\n",
       "\n",
       "        [[1., 1., 1., 1.],\n",
       "         [1., 1., 1., 1.],\n",
       "         [1., 1., 1., 1.]]])"
      ]
     },
     "execution_count": 80,
     "metadata": {},
     "output_type": "execute_result"
    }
   ],
   "execution_count": 80
  },
  {
   "metadata": {
    "ExecuteTime": {
     "end_time": "2024-06-03T06:16:48.587413Z",
     "start_time": "2024-06-03T06:16:48.579697Z"
    }
   },
   "cell_type": "code",
   "source": "torch.randn(3, 4) # 每个元素都从均值为0、标准差为1的标准高斯分布（正态分布）中随机采样。",
   "id": "c1cff1c844173bb9",
   "outputs": [
    {
     "data": {
      "text/plain": [
       "tensor([[ 0.9238, -0.4860,  0.1004,  0.1723],\n",
       "        [ 0.7211,  1.2031,  0.6312,  1.8767],\n",
       "        [-0.3231,  0.4526, -0.0828,  1.4909]])"
      ]
     },
     "execution_count": 81,
     "metadata": {},
     "output_type": "execute_result"
    }
   ],
   "execution_count": 81
  },
  {
   "metadata": {
    "ExecuteTime": {
     "end_time": "2024-06-03T06:16:48.719253Z",
     "start_time": "2024-06-03T06:16:48.712702Z"
    }
   },
   "cell_type": "code",
   "source": "torch.tensor([[2, 1, 4, 3], [1, 2, 3, 4], [4, 3, 2, 1]]) # 从0开始",
   "id": "329ca1dae65119a6",
   "outputs": [
    {
     "data": {
      "text/plain": [
       "tensor([[2, 1, 4, 3],\n",
       "        [1, 2, 3, 4],\n",
       "        [4, 3, 2, 1]])"
      ]
     },
     "execution_count": 82,
     "metadata": {},
     "output_type": "execute_result"
    }
   ],
   "execution_count": 82
  },
  {
   "metadata": {},
   "cell_type": "markdown",
   "source": [
    "#### 运算符\n",
    "简单的元素运算如下：\n"
   ],
   "id": "578771a0d2d3045c"
  },
  {
   "metadata": {
    "ExecuteTime": {
     "end_time": "2024-06-03T06:16:48.768242Z",
     "start_time": "2024-06-03T06:16:48.760775Z"
    }
   },
   "cell_type": "code",
   "source": [
    "x = torch.tensor([1.0, 2, 4, 8])\n",
    "y = torch.tensor([2, 2, 2, 2])\n",
    "x + y, x - y, x * y, x / y, x ** y  # **是求幂运算\n",
    "torch.exp(x) # 求幂"
   ],
   "id": "3aad36a52e569ad5",
   "outputs": [
    {
     "data": {
      "text/plain": [
       "tensor([2.7183e+00, 7.3891e+00, 5.4598e+01, 2.9810e+03])"
      ]
     },
     "execution_count": 83,
     "metadata": {},
     "output_type": "execute_result"
    }
   ],
   "execution_count": 83
  },
  {
   "metadata": {
    "ExecuteTime": {
     "end_time": "2024-06-03T06:16:48.914617Z",
     "start_time": "2024-06-03T06:16:48.905740Z"
    }
   },
   "cell_type": "code",
   "source": [
    "# 连结张量\n",
    "X = torch.arange(12, dtype=torch.float32).reshape((3,4))\n",
    "Y = torch.tensor([[2.0, 1, 4, 3], [1, 2, 3, 4], [4, 3, 2, 1]])\n",
    "(torch.cat((X, Y), dim=0), torch.cat((X, Y), dim=1))  # 0为按行拼接，1为按列拼接"
   ],
   "id": "6c27570ab0231822",
   "outputs": [
    {
     "data": {
      "text/plain": [
       "(tensor([[ 0.,  1.,  2.,  3.],\n",
       "         [ 4.,  5.,  6.,  7.],\n",
       "         [ 8.,  9., 10., 11.],\n",
       "         [ 2.,  1.,  4.,  3.],\n",
       "         [ 1.,  2.,  3.,  4.],\n",
       "         [ 4.,  3.,  2.,  1.]]),\n",
       " tensor([[ 0.,  1.,  2.,  3.,  2.,  1.,  4.,  3.],\n",
       "         [ 4.,  5.,  6.,  7.,  1.,  2.,  3.,  4.],\n",
       "         [ 8.,  9., 10., 11.,  4.,  3.,  2.,  1.]]))"
      ]
     },
     "execution_count": 84,
     "metadata": {},
     "output_type": "execute_result"
    }
   ],
   "execution_count": 84
  },
  {
   "metadata": {},
   "cell_type": "markdown",
   "source": [
    "#### 广播机制\n",
    "即使形状不同，仍可以通过**广播机制**来执行按元素操作。例如："
   ],
   "id": "68c6442f327a9d5d"
  },
  {
   "metadata": {
    "ExecuteTime": {
     "end_time": "2024-06-03T06:16:48.954681Z",
     "start_time": "2024-06-03T06:16:48.948443Z"
    }
   },
   "cell_type": "code",
   "source": [
    "a = torch.arange(3).reshape((3, 1))\n",
    "b = torch.arange(2).reshape((1, 2))\n",
    "a, b"
   ],
   "id": "e370c2436a870221",
   "outputs": [
    {
     "data": {
      "text/plain": [
       "(tensor([[0],\n",
       "         [1],\n",
       "         [2]]),\n",
       " tensor([[0, 1]]))"
      ]
     },
     "execution_count": 85,
     "metadata": {},
     "output_type": "execute_result"
    }
   ],
   "execution_count": 85
  },
  {
   "metadata": {
    "ExecuteTime": {
     "end_time": "2024-06-03T06:16:49.032208Z",
     "start_time": "2024-06-03T06:16:49.026703Z"
    }
   },
   "cell_type": "code",
   "source": "a + b",
   "id": "92c1433f99f570c",
   "outputs": [
    {
     "data": {
      "text/plain": [
       "tensor([[0, 1],\n",
       "        [1, 2],\n",
       "        [2, 3]])"
      ]
     },
     "execution_count": 86,
     "metadata": {},
     "output_type": "execute_result"
    }
   ],
   "execution_count": 86
  },
  {
   "metadata": {},
   "cell_type": "markdown",
   "source": "#### 索引和切片\n",
   "id": "7f3a387b519271f0"
  },
  {
   "metadata": {
    "ExecuteTime": {
     "end_time": "2024-06-03T06:16:49.111769Z",
     "start_time": "2024-06-03T06:16:49.104225Z"
    }
   },
   "cell_type": "code",
   "source": "X[-1], X[1:3] # 第一个元素的索引是0，-1为最后一个元素，1:3为第二个和第3个元素（左闭右开）",
   "id": "b8555d57095574e9",
   "outputs": [
    {
     "data": {
      "text/plain": [
       "(tensor([ 8.,  9., 10., 11.]),\n",
       " tensor([[ 4.,  5.,  6.,  7.],\n",
       "         [ 8.,  9., 10., 11.]]))"
      ]
     },
     "execution_count": 87,
     "metadata": {},
     "output_type": "execute_result"
    }
   ],
   "execution_count": 87
  },
  {
   "metadata": {
    "ExecuteTime": {
     "end_time": "2024-06-03T06:16:49.197438Z",
     "start_time": "2024-06-03T06:16:49.191303Z"
    }
   },
   "cell_type": "code",
   "source": [
    "X[1, 2] = 9 # 更改元素\n",
    "X"
   ],
   "id": "97274ace0a717ba0",
   "outputs": [
    {
     "data": {
      "text/plain": [
       "tensor([[ 0.,  1.,  2.,  3.],\n",
       "        [ 4.,  5.,  9.,  7.],\n",
       "        [ 8.,  9., 10., 11.]])"
      ]
     },
     "execution_count": 88,
     "metadata": {},
     "output_type": "execute_result"
    }
   ],
   "execution_count": 88
  },
  {
   "metadata": {
    "ExecuteTime": {
     "end_time": "2024-06-03T06:16:49.275249Z",
     "start_time": "2024-06-03T06:16:49.268960Z"
    }
   },
   "cell_type": "code",
   "source": [
    "X[0:2, :] = 12 # 访问第一行和第二行的所有元素，并赋值为12\n",
    "X"
   ],
   "id": "9f7d6fbf958010e5",
   "outputs": [
    {
     "data": {
      "text/plain": [
       "tensor([[12., 12., 12., 12.],\n",
       "        [12., 12., 12., 12.],\n",
       "        [ 8.,  9., 10., 11.]])"
      ]
     },
     "execution_count": 89,
     "metadata": {},
     "output_type": "execute_result"
    }
   ],
   "execution_count": 89
  },
  {
   "metadata": {},
   "cell_type": "markdown",
   "source": [
    "#### 节省内存\n",
    "浅拷贝和深拷贝？ \n",
    "一般采用**X[:] = X + Y**或**X += Y**来减少操作的开销"
   ],
   "id": "f16275da70879861"
  },
  {
   "metadata": {},
   "cell_type": "markdown",
   "source": [
    "#### 转换为其他python对象\n",
    "张量和NumPy张量相互转换"
   ],
   "id": "3bc3b1da5e1f1b73"
  },
  {
   "metadata": {
    "ExecuteTime": {
     "end_time": "2024-06-03T06:16:49.401789Z",
     "start_time": "2024-06-03T06:16:49.396432Z"
    }
   },
   "cell_type": "code",
   "source": [
    "A = X.numpy()\n",
    "B = torch.tensor(A)\n",
    "type(A), type(B)"
   ],
   "id": "d7318ff971ee984",
   "outputs": [
    {
     "data": {
      "text/plain": [
       "(numpy.ndarray, torch.Tensor)"
      ]
     },
     "execution_count": 90,
     "metadata": {},
     "output_type": "execute_result"
    }
   ],
   "execution_count": 90
  },
  {
   "metadata": {},
   "cell_type": "markdown",
   "source": "将张量转换为Python标量，可以调用item函数或Python的内置函数",
   "id": "abb7e7d9c9874005"
  },
  {
   "metadata": {
    "ExecuteTime": {
     "end_time": "2024-06-03T06:16:49.430211Z",
     "start_time": "2024-06-03T06:16:49.423798Z"
    }
   },
   "cell_type": "code",
   "source": [
    "a = torch.tensor([3.5])\n",
    "a, a.item(), float(a), int(a)"
   ],
   "id": "a5cfd1a1ed3830a2",
   "outputs": [
    {
     "data": {
      "text/plain": [
       "(tensor([3.5000]), 3.5, 3.5, 3)"
      ]
     },
     "execution_count": 91,
     "metadata": {},
     "output_type": "execute_result"
    }
   ],
   "execution_count": 91
  },
  {
   "metadata": {},
   "cell_type": "markdown",
   "source": [
    "### 数据预处理\n",
    "上一节中主要介绍了深度学习主要针对的数据对象类型及操作，这一节介绍如何将数据导入并简单处理。\n",
    "\n",
    "*本节总结：用pandas处理缺失的数据时，可根据情况选择用插值法和删除。*\n",
    "\n",
    "#### 读取数据集"
   ],
   "id": "57ad70269e56b20f"
  },
  {
   "metadata": {
    "ExecuteTime": {
     "end_time": "2024-06-03T06:16:49.515237Z",
     "start_time": "2024-06-03T06:16:49.503789Z"
    }
   },
   "cell_type": "code",
   "source": [
    "import os \n",
    "import pandas as pd\n",
    "\n",
    "os.makedirs(os.path.join('..', 'data'), exist_ok=True)\n",
    "data_file = os.path.join('..', 'data', 'test1.csv')   # 创建数据集，并存储在test1.csv文件\n",
    "with open(data_file, 'w') as f:\n",
    "    f.write('NumRooms,Alley,Price\\n')  # 列名\n",
    "    f.write('NA,Pave,127500\\n')  # 数据\n",
    "    f.write('2,NA,106000\\n')\n",
    "    f.write('4,NA,178100\\n')\n",
    "    f.write('NA,NA,140000\\n')\n",
    "data = pd.read_csv(data_file)\n",
    "print(data)"
   ],
   "id": "30876211e830dbe4",
   "outputs": [
    {
     "name": "stdout",
     "output_type": "stream",
     "text": [
      "   NumRooms Alley   Price\n",
      "0       NaN  Pave  127500\n",
      "1       2.0   NaN  106000\n",
      "2       4.0   NaN  178100\n",
      "3       NaN   NaN  140000\n"
     ]
    }
   ],
   "execution_count": 92
  },
  {
   "metadata": {},
   "cell_type": "markdown",
   "source": [
    "#### 处理缺失值\n",
    "插值法或删除"
   ],
   "id": "d686ebd3ff7dc811"
  },
  {
   "metadata": {
    "ExecuteTime": {
     "end_time": "2024-06-03T06:16:49.597962Z",
     "start_time": "2024-06-03T06:16:49.590762Z"
    }
   },
   "cell_type": "code",
   "source": [
    "inputs, outputs = data.iloc[:, 0:2], data.iloc[:, 2]\n",
    "inputs = inputs.fillna(inputs.mean(numeric_only=True))  # 用纯数字元素的均值替换空缺值\n",
    "print(inputs)"
   ],
   "id": "8fa0baad0b83cebf",
   "outputs": [
    {
     "name": "stdout",
     "output_type": "stream",
     "text": [
      "   NumRooms Alley\n",
      "0       3.0  Pave\n",
      "1       2.0   NaN\n",
      "2       4.0   NaN\n",
      "3       3.0   NaN\n"
     ]
    }
   ],
   "execution_count": 93
  },
  {
   "metadata": {
    "ExecuteTime": {
     "end_time": "2024-06-03T06:16:49.656537Z",
     "start_time": "2024-06-03T06:16:49.648947Z"
    }
   },
   "cell_type": "code",
   "source": [
    "inputs = pd.get_dummies(inputs, dummy_na=True)  # 转换，分类为True和False\n",
    "print(inputs)"
   ],
   "id": "2db29aa3f2d4b1fa",
   "outputs": [
    {
     "name": "stdout",
     "output_type": "stream",
     "text": [
      "   NumRooms  Alley_Pave  Alley_nan\n",
      "0       3.0        True      False\n",
      "1       2.0       False       True\n",
      "2       4.0       False       True\n",
      "3       3.0       False       True\n"
     ]
    }
   ],
   "execution_count": 94
  },
  {
   "metadata": {},
   "cell_type": "markdown",
   "source": [
    "#### 转换为张量格式\n",
    "将数据转换为张量格式"
   ],
   "id": "1605c3a78acc4055"
  },
  {
   "metadata": {
    "ExecuteTime": {
     "end_time": "2024-06-03T06:16:49.708718Z",
     "start_time": "2024-06-03T06:16:49.701166Z"
    }
   },
   "cell_type": "code",
   "source": [
    "import torch\n",
    "\n",
    "X = torch.tensor(inputs.to_numpy(dtype=float))  # 转换为张量\n",
    "y = torch.tensor(outputs.to_numpy(dtype=float))\n",
    "X, y"
   ],
   "id": "e6bb08eab5b8f39f",
   "outputs": [
    {
     "data": {
      "text/plain": [
       "(tensor([[3., 1., 0.],\n",
       "         [2., 0., 1.],\n",
       "         [4., 0., 1.],\n",
       "         [3., 0., 1.]], dtype=torch.float64),\n",
       " tensor([127500., 106000., 178100., 140000.], dtype=torch.float64))"
      ]
     },
     "execution_count": 95,
     "metadata": {},
     "output_type": "execute_result"
    }
   ],
   "execution_count": 95
  },
  {
   "metadata": {},
   "cell_type": "markdown",
   "source": [
    "### 线性代数\n",
    "简单记录一下。\n",
    "\n",
    "$x$、$y$和$z$：标量变量，仅包含一个数值   *torch.tensor(3.0)*\n",
    "\n",
    "$\\mathbb{R}$：所有实数标量的空间-实数集合\n",
    "\n",
    "$\\mathbf{x}$、$\\mathbf{y}$和$\\mathbf{z})$：向量，标量值组成的列表 *torch.arange(4)*\n",
    "\n",
    "$\\mathbf{X}$、$\\mathbf{X} \\in \\mathbb{R}^{m \\times n}$：矩阵，具有两个轴的张量 *torch.arange(20).reshape(5, 4)*\n",
    "\n",
    "$\\mathbf{a}^\\top$：转置  *A.T*\n",
    "\n",
    "张量：具有任意数量轴的$n$维数组的通用方法，向量是一阶张量，矩阵是二阶张量\n",
    "\n",
    "矩阵和矩阵的运算，两个矩阵的按元素乘法被称为他们的Hadamard积。\n",
    "\n",
    "求和：sum(axis=0)对每一列进行求和，sum(axis=1)对每一行进行求和，sum(axis=[0, 1])=sum()整个矩阵求和\n",
    "\n",
    "均值：A.mean(), A.sum() / A.numel()\n",
    "\n",
    "两个向量相乘为点积，矩阵-向量积，矩阵-矩阵(m * n，n * k --> m * k)\n"
   ],
   "id": "c89c112821963315"
  },
  {
   "metadata": {},
   "cell_type": "markdown",
   "source": [
    "### 范数\n",
    "L2范数：$$\\|\\mathbf{x}\\|_2 = \\sqrt{\\sum_{i=1}^n x_i^2},$$"
   ],
   "id": "f3ff0f0b96fe4481"
  },
  {
   "metadata": {
    "ExecuteTime": {
     "end_time": "2024-06-03T06:16:49.807008Z",
     "start_time": "2024-06-03T06:16:49.801905Z"
    }
   },
   "cell_type": "code",
   "source": [
    "u = torch.tensor([3.0, -4.0])\n",
    "torch.norm(u)"
   ],
   "id": "9aa7edb783f02745",
   "outputs": [
    {
     "data": {
      "text/plain": [
       "tensor(5.)"
      ]
     },
     "execution_count": 96,
     "metadata": {},
     "output_type": "execute_result"
    }
   ],
   "execution_count": 96
  },
  {
   "metadata": {},
   "cell_type": "markdown",
   "source": "L1范数：$$\\|\\mathbf{x}\\|_1 = \\sum_{i=1}^n \\left|x_i \\right|.$$",
   "id": "6de972fe5e6ff409"
  },
  {
   "metadata": {
    "ExecuteTime": {
     "end_time": "2024-06-03T06:16:49.851638Z",
     "start_time": "2024-06-03T06:16:49.843549Z"
    }
   },
   "cell_type": "code",
   "source": "torch.abs(u).sum()",
   "id": "38844801d00b860b",
   "outputs": [
    {
     "data": {
      "text/plain": [
       "tensor(7.)"
      ]
     },
     "execution_count": 97,
     "metadata": {},
     "output_type": "execute_result"
    }
   ],
   "execution_count": 97
  },
  {
   "metadata": {},
   "cell_type": "markdown",
   "source": "Frobenius范数：$$\\|\\mathbf{X}\\|_F = \\sqrt{\\sum_{i=1}^m \\sum_{j=1}^n x_{ij}^2}.$$",
   "id": "f6bcc64853d86b6f"
  },
  {
   "metadata": {
    "ExecuteTime": {
     "end_time": "2024-06-03T06:16:49.966295Z",
     "start_time": "2024-06-03T06:16:49.960406Z"
    }
   },
   "cell_type": "code",
   "source": "torch.norm(torch.ones((4, 9)))",
   "id": "124762a2a4615bc",
   "outputs": [
    {
     "data": {
      "text/plain": [
       "tensor(6.)"
      ]
     },
     "execution_count": 98,
     "metadata": {},
     "output_type": "execute_result"
    }
   ],
   "execution_count": 98
  },
  {
   "metadata": {},
   "cell_type": "markdown",
   "source": [
    "### 微积分\n",
    "*本节小结：微分和积分是微积分的两个分支，前者可以应用于深度学习中的优化问题。梯度是一个向量，其分量是多变量函数相对于其所有变量的偏导数。链式法则可以用来微分复合函数。*\n",
    "\n",
    "#### 导数和微分\n",
    "具体实例："
   ],
   "id": "8795ef57b36ff038"
  },
  {
   "metadata": {
    "ExecuteTime": {
     "end_time": "2024-06-03T06:16:50.019992Z",
     "start_time": "2024-06-03T06:16:50.015139Z"
    }
   },
   "cell_type": "code",
   "source": [
    "import numpy as np\n",
    "from matplotlib_inline import backend_inline\n",
    "from d2l import torch as d2l   # 一定要用0.17.5版本的d2l，更高版本因为更新的原因会报错\n",
    "\n",
    "def f(x):\n",
    "    return 3 * x ** 2 - 4 * x"
   ],
   "id": "310921cae6ff665f",
   "outputs": [],
   "execution_count": 99
  },
  {
   "metadata": {
    "ExecuteTime": {
     "end_time": "2024-06-03T06:16:50.083579Z",
     "start_time": "2024-06-03T06:16:50.078469Z"
    }
   },
   "cell_type": "code",
   "source": [
    "def numerical_lim(f, x, h):\n",
    "    return (f(x + h) - f(x)) / h\n",
    "\n",
    "h = 0.1\n",
    "for i in range(5):\n",
    "    print(f'h={h:.5f}, numerical limit={numerical_lim(f, 1, h):.5f}')\n",
    "    h *= 0.1"
   ],
   "id": "eb5c7cb881a4d000",
   "outputs": [
    {
     "name": "stdout",
     "output_type": "stream",
     "text": [
      "h=0.10000, numerical limit=2.30000\n",
      "h=0.01000, numerical limit=2.03000\n",
      "h=0.00100, numerical limit=2.00300\n",
      "h=0.00010, numerical limit=2.00030\n",
      "h=0.00001, numerical limit=2.00003\n"
     ]
    }
   ],
   "execution_count": 100
  },
  {
   "metadata": {
    "ExecuteTime": {
     "end_time": "2024-06-03T06:16:50.148449Z",
     "start_time": "2024-06-03T06:16:50.144208Z"
    }
   },
   "cell_type": "code",
   "source": [
    "def use_svg_display():  #@save\n",
    "    \"\"\"使用svg格式在Jupyter中显示绘图\"\"\"\n",
    "    backend_inline.set_matplotlib_formats('svg')"
   ],
   "id": "fe6e9c1ce8a4b54",
   "outputs": [],
   "execution_count": 101
  },
  {
   "metadata": {
    "ExecuteTime": {
     "end_time": "2024-06-03T06:16:50.224238Z",
     "start_time": "2024-06-03T06:16:50.220468Z"
    }
   },
   "cell_type": "code",
   "source": [
    "def set_figsize(figsize=(3.5, 2.5)):  #@save\n",
    "    \"\"\"设置matplotlib的图表大小\"\"\"\n",
    "    use_svg_display()\n",
    "    d2l.plt.rcParams['figure.figsize'] = figsize"
   ],
   "id": "bc72d17c124f07cd",
   "outputs": [],
   "execution_count": 102
  },
  {
   "metadata": {
    "ExecuteTime": {
     "end_time": "2024-06-03T06:16:50.252472Z",
     "start_time": "2024-06-03T06:16:50.246761Z"
    }
   },
   "cell_type": "code",
   "source": [
    "#@save\n",
    "def set_axes(axes, xlabel, ylabel, xlim, ylim, xscale, yscale, legend):\n",
    "    \"\"\"设置matplotlib的轴\"\"\"\n",
    "    axes.set_xlabel(xlabel)\n",
    "    axes.set_ylabel(ylabel)\n",
    "    axes.set_xscale(xscale)\n",
    "    axes.set_yscale(yscale)\n",
    "    axes.set_xlim(xlim)\n",
    "    axes.set_ylim(ylim)\n",
    "    if legend:\n",
    "        axes.legend(legend)\n",
    "    axes.grid()"
   ],
   "id": "4738358afe27400c",
   "outputs": [],
   "execution_count": 103
  },
  {
   "metadata": {
    "ExecuteTime": {
     "end_time": "2024-06-03T06:16:50.290748Z",
     "start_time": "2024-06-03T06:16:50.282560Z"
    }
   },
   "cell_type": "code",
   "source": [
    "#@save\n",
    "def plot(X, Y=None, xlabel=None, ylabel=None, legend=None, xlim=None,\n",
    "         ylim=None, xscale='linear', yscale='linear',\n",
    "         fmts=('-', 'm--', 'g-.', 'r:'), figsize=(3.5, 2.5), axes=None):\n",
    "    \"\"\"绘制数据点\"\"\"\n",
    "    if legend is None:\n",
    "        legend = []\n",
    "\n",
    "    set_figsize(figsize)\n",
    "    axes = axes if axes else d2l.plt.gca()\n",
    "\n",
    "    # 如果X有一个轴，输出True\n",
    "    def has_one_axis(X):\n",
    "        return (hasattr(X, \"ndim\") and X.ndim == 1 or isinstance(X, list)\n",
    "                and not hasattr(X[0], \"__len__\"))\n",
    "\n",
    "    if has_one_axis(X):\n",
    "        X = [X]\n",
    "    if Y is None:\n",
    "        X, Y = [[]] * len(X), X\n",
    "    elif has_one_axis(Y):\n",
    "        Y = [Y]\n",
    "    if len(X) != len(Y):\n",
    "        X = X * len(Y)\n",
    "    axes.cla()\n",
    "    for x, y, fmt in zip(X, Y, fmts):\n",
    "        if len(x):\n",
    "            axes.plot(x, y, fmt)\n",
    "        else:\n",
    "            axes.plot(y, fmt)\n",
    "    set_axes(axes, xlabel, ylabel, xlim, ylim, xscale, yscale, legend)"
   ],
   "id": "3439091bf5f84e70",
   "outputs": [],
   "execution_count": 104
  },
  {
   "metadata": {
    "ExecuteTime": {
     "end_time": "2024-06-03T06:16:50.514232Z",
     "start_time": "2024-06-03T06:16:50.390098Z"
    }
   },
   "cell_type": "code",
   "source": [
    "x = np.arange(0, 3, 0.1)\n",
    "plot(x, [f(x), 2 * x - 3], 'x', 'f(x)', legend=['f(x)', 'Tangent line (x=1)'])"
   ],
   "id": "9cce147d157c4847",
   "outputs": [
    {
     "data": {
      "text/plain": [
       "<Figure size 350x250 with 1 Axes>"
      ],
      "image/svg+xml": "<?xml version=\"1.0\" encoding=\"utf-8\" standalone=\"no\"?>\n<!DOCTYPE svg PUBLIC \"-//W3C//DTD SVG 1.1//EN\"\n  \"http://www.w3.org/Graphics/SVG/1.1/DTD/svg11.dtd\">\n<svg xmlns:xlink=\"http://www.w3.org/1999/xlink\" width=\"243.529359pt\" height=\"183.35625pt\" viewBox=\"0 0 243.529359 183.35625\" xmlns=\"http://www.w3.org/2000/svg\" version=\"1.1\">\n <metadata>\n  <rdf:RDF xmlns:dc=\"http://purl.org/dc/elements/1.1/\" xmlns:cc=\"http://creativecommons.org/ns#\" xmlns:rdf=\"http://www.w3.org/1999/02/22-rdf-syntax-ns#\">\n   <cc:Work>\n    <dc:type rdf:resource=\"http://purl.org/dc/dcmitype/StillImage\"/>\n    <dc:date>2024-06-03T14:16:50.483258</dc:date>\n    <dc:format>image/svg+xml</dc:format>\n    <dc:creator>\n     <cc:Agent>\n      <dc:title>Matplotlib v3.9.0, https://matplotlib.org/</dc:title>\n     </cc:Agent>\n    </dc:creator>\n   </cc:Work>\n  </rdf:RDF>\n </metadata>\n <defs>\n  <style type=\"text/css\">*{stroke-linejoin: round; stroke-linecap: butt}</style>\n </defs>\n <g id=\"figure_1\">\n  <g id=\"patch_1\">\n   <path d=\"M 0 183.35625 \nL 243.529359 183.35625 \nL 243.529359 0 \nL 0 0 \nz\n\" style=\"fill: #ffffff\"/>\n  </g>\n  <g id=\"axes_1\">\n   <g id=\"patch_2\">\n    <path d=\"M 40.603125 145.8 \nL 235.903125 145.8 \nL 235.903125 7.2 \nL 40.603125 7.2 \nz\n\" style=\"fill: #ffffff\"/>\n   </g>\n   <g id=\"matplotlib.axis_1\">\n    <g id=\"xtick_1\">\n     <g id=\"line2d_1\">\n      <path d=\"M 49.480398 145.8 \nL 49.480398 7.2 \n\" clip-path=\"url(#p59f665e29c)\" style=\"fill: none; stroke: #b0b0b0; stroke-width: 0.8; stroke-linecap: square\"/>\n     </g>\n     <g id=\"line2d_2\">\n      <defs>\n       <path id=\"m30195455b9\" d=\"M 0 0 \nL 0 3.5 \n\" style=\"stroke: #000000; stroke-width: 0.8\"/>\n      </defs>\n      <g>\n       <use xlink:href=\"#m30195455b9\" x=\"49.480398\" y=\"145.8\" style=\"stroke: #000000; stroke-width: 0.8\"/>\n      </g>\n     </g>\n     <g id=\"text_1\">\n      <!-- 0 -->\n      <g transform=\"translate(46.299148 160.398438) scale(0.1 -0.1)\">\n       <defs>\n        <path id=\"DejaVuSans-30\" d=\"M 2034 4250 \nQ 1547 4250 1301 3770 \nQ 1056 3291 1056 2328 \nQ 1056 1369 1301 889 \nQ 1547 409 2034 409 \nQ 2525 409 2770 889 \nQ 3016 1369 3016 2328 \nQ 3016 3291 2770 3770 \nQ 2525 4250 2034 4250 \nz\nM 2034 4750 \nQ 2819 4750 3233 4129 \nQ 3647 3509 3647 2328 \nQ 3647 1150 3233 529 \nQ 2819 -91 2034 -91 \nQ 1250 -91 836 529 \nQ 422 1150 422 2328 \nQ 422 3509 836 4129 \nQ 1250 4750 2034 4750 \nz\n\" transform=\"scale(0.015625)\"/>\n       </defs>\n       <use xlink:href=\"#DejaVuSans-30\"/>\n      </g>\n     </g>\n    </g>\n    <g id=\"xtick_2\">\n     <g id=\"line2d_3\">\n      <path d=\"M 110.702968 145.8 \nL 110.702968 7.2 \n\" clip-path=\"url(#p59f665e29c)\" style=\"fill: none; stroke: #b0b0b0; stroke-width: 0.8; stroke-linecap: square\"/>\n     </g>\n     <g id=\"line2d_4\">\n      <g>\n       <use xlink:href=\"#m30195455b9\" x=\"110.702968\" y=\"145.8\" style=\"stroke: #000000; stroke-width: 0.8\"/>\n      </g>\n     </g>\n     <g id=\"text_2\">\n      <!-- 1 -->\n      <g transform=\"translate(107.521718 160.398438) scale(0.1 -0.1)\">\n       <defs>\n        <path id=\"DejaVuSans-31\" d=\"M 794 531 \nL 1825 531 \nL 1825 4091 \nL 703 3866 \nL 703 4441 \nL 1819 4666 \nL 2450 4666 \nL 2450 531 \nL 3481 531 \nL 3481 0 \nL 794 0 \nL 794 531 \nz\n\" transform=\"scale(0.015625)\"/>\n       </defs>\n       <use xlink:href=\"#DejaVuSans-31\"/>\n      </g>\n     </g>\n    </g>\n    <g id=\"xtick_3\">\n     <g id=\"line2d_5\">\n      <path d=\"M 171.925539 145.8 \nL 171.925539 7.2 \n\" clip-path=\"url(#p59f665e29c)\" style=\"fill: none; stroke: #b0b0b0; stroke-width: 0.8; stroke-linecap: square\"/>\n     </g>\n     <g id=\"line2d_6\">\n      <g>\n       <use xlink:href=\"#m30195455b9\" x=\"171.925539\" y=\"145.8\" style=\"stroke: #000000; stroke-width: 0.8\"/>\n      </g>\n     </g>\n     <g id=\"text_3\">\n      <!-- 2 -->\n      <g transform=\"translate(168.744289 160.398438) scale(0.1 -0.1)\">\n       <defs>\n        <path id=\"DejaVuSans-32\" d=\"M 1228 531 \nL 3431 531 \nL 3431 0 \nL 469 0 \nL 469 531 \nQ 828 903 1448 1529 \nQ 2069 2156 2228 2338 \nQ 2531 2678 2651 2914 \nQ 2772 3150 2772 3378 \nQ 2772 3750 2511 3984 \nQ 2250 4219 1831 4219 \nQ 1534 4219 1204 4116 \nQ 875 4013 500 3803 \nL 500 4441 \nQ 881 4594 1212 4672 \nQ 1544 4750 1819 4750 \nQ 2544 4750 2975 4387 \nQ 3406 4025 3406 3419 \nQ 3406 3131 3298 2873 \nQ 3191 2616 2906 2266 \nQ 2828 2175 2409 1742 \nQ 1991 1309 1228 531 \nz\n\" transform=\"scale(0.015625)\"/>\n       </defs>\n       <use xlink:href=\"#DejaVuSans-32\"/>\n      </g>\n     </g>\n    </g>\n    <g id=\"xtick_4\">\n     <g id=\"line2d_7\">\n      <path d=\"M 233.148109 145.8 \nL 233.148109 7.2 \n\" clip-path=\"url(#p59f665e29c)\" style=\"fill: none; stroke: #b0b0b0; stroke-width: 0.8; stroke-linecap: square\"/>\n     </g>\n     <g id=\"line2d_8\">\n      <g>\n       <use xlink:href=\"#m30195455b9\" x=\"233.148109\" y=\"145.8\" style=\"stroke: #000000; stroke-width: 0.8\"/>\n      </g>\n     </g>\n     <g id=\"text_4\">\n      <!-- 3 -->\n      <g transform=\"translate(229.966859 160.398438) scale(0.1 -0.1)\">\n       <defs>\n        <path id=\"DejaVuSans-33\" d=\"M 2597 2516 \nQ 3050 2419 3304 2112 \nQ 3559 1806 3559 1356 \nQ 3559 666 3084 287 \nQ 2609 -91 1734 -91 \nQ 1441 -91 1130 -33 \nQ 819 25 488 141 \nL 488 750 \nQ 750 597 1062 519 \nQ 1375 441 1716 441 \nQ 2309 441 2620 675 \nQ 2931 909 2931 1356 \nQ 2931 1769 2642 2001 \nQ 2353 2234 1838 2234 \nL 1294 2234 \nL 1294 2753 \nL 1863 2753 \nQ 2328 2753 2575 2939 \nQ 2822 3125 2822 3475 \nQ 2822 3834 2567 4026 \nQ 2313 4219 1838 4219 \nQ 1578 4219 1281 4162 \nQ 984 4106 628 3988 \nL 628 4550 \nQ 988 4650 1302 4700 \nQ 1616 4750 1894 4750 \nQ 2613 4750 3031 4423 \nQ 3450 4097 3450 3541 \nQ 3450 3153 3228 2886 \nQ 3006 2619 2597 2516 \nz\n\" transform=\"scale(0.015625)\"/>\n       </defs>\n       <use xlink:href=\"#DejaVuSans-33\"/>\n      </g>\n     </g>\n    </g>\n    <g id=\"text_5\">\n     <!-- x -->\n     <g transform=\"translate(135.29375 174.076563) scale(0.1 -0.1)\">\n      <defs>\n       <path id=\"DejaVuSans-78\" d=\"M 3513 3500 \nL 2247 1797 \nL 3578 0 \nL 2900 0 \nL 1881 1375 \nL 863 0 \nL 184 0 \nL 1544 1831 \nL 300 3500 \nL 978 3500 \nL 1906 2253 \nL 2834 3500 \nL 3513 3500 \nz\n\" transform=\"scale(0.015625)\"/>\n      </defs>\n      <use xlink:href=\"#DejaVuSans-78\"/>\n     </g>\n    </g>\n   </g>\n   <g id=\"matplotlib.axis_2\">\n    <g id=\"ytick_1\">\n     <g id=\"line2d_9\">\n      <path d=\"M 40.603125 116.769994 \nL 235.903125 116.769994 \n\" clip-path=\"url(#p59f665e29c)\" style=\"fill: none; stroke: #b0b0b0; stroke-width: 0.8; stroke-linecap: square\"/>\n     </g>\n     <g id=\"line2d_10\">\n      <defs>\n       <path id=\"md51f928d0c\" d=\"M 0 0 \nL -3.5 0 \n\" style=\"stroke: #000000; stroke-width: 0.8\"/>\n      </defs>\n      <g>\n       <use xlink:href=\"#md51f928d0c\" x=\"40.603125\" y=\"116.769994\" style=\"stroke: #000000; stroke-width: 0.8\"/>\n      </g>\n     </g>\n     <g id=\"text_6\">\n      <!-- 0 -->\n      <g transform=\"translate(27.240625 120.569213) scale(0.1 -0.1)\">\n       <use xlink:href=\"#DejaVuSans-30\"/>\n      </g>\n     </g>\n    </g>\n    <g id=\"ytick_2\">\n     <g id=\"line2d_11\">\n      <path d=\"M 40.603125 78.886651 \nL 235.903125 78.886651 \n\" clip-path=\"url(#p59f665e29c)\" style=\"fill: none; stroke: #b0b0b0; stroke-width: 0.8; stroke-linecap: square\"/>\n     </g>\n     <g id=\"line2d_12\">\n      <g>\n       <use xlink:href=\"#md51f928d0c\" x=\"40.603125\" y=\"78.886651\" style=\"stroke: #000000; stroke-width: 0.8\"/>\n      </g>\n     </g>\n     <g id=\"text_7\">\n      <!-- 5 -->\n      <g transform=\"translate(27.240625 82.685869) scale(0.1 -0.1)\">\n       <defs>\n        <path id=\"DejaVuSans-35\" d=\"M 691 4666 \nL 3169 4666 \nL 3169 4134 \nL 1269 4134 \nL 1269 2991 \nQ 1406 3038 1543 3061 \nQ 1681 3084 1819 3084 \nQ 2600 3084 3056 2656 \nQ 3513 2228 3513 1497 \nQ 3513 744 3044 326 \nQ 2575 -91 1722 -91 \nQ 1428 -91 1123 -41 \nQ 819 9 494 109 \nL 494 744 \nQ 775 591 1075 516 \nQ 1375 441 1709 441 \nQ 2250 441 2565 725 \nQ 2881 1009 2881 1497 \nQ 2881 1984 2565 2268 \nQ 2250 2553 1709 2553 \nQ 1456 2553 1204 2497 \nQ 953 2441 691 2322 \nL 691 4666 \nz\n\" transform=\"scale(0.015625)\"/>\n       </defs>\n       <use xlink:href=\"#DejaVuSans-35\"/>\n      </g>\n     </g>\n    </g>\n    <g id=\"ytick_3\">\n     <g id=\"line2d_13\">\n      <path d=\"M 40.603125 41.003307 \nL 235.903125 41.003307 \n\" clip-path=\"url(#p59f665e29c)\" style=\"fill: none; stroke: #b0b0b0; stroke-width: 0.8; stroke-linecap: square\"/>\n     </g>\n     <g id=\"line2d_14\">\n      <g>\n       <use xlink:href=\"#md51f928d0c\" x=\"40.603125\" y=\"41.003307\" style=\"stroke: #000000; stroke-width: 0.8\"/>\n      </g>\n     </g>\n     <g id=\"text_8\">\n      <!-- 10 -->\n      <g transform=\"translate(20.878125 44.802526) scale(0.1 -0.1)\">\n       <use xlink:href=\"#DejaVuSans-31\"/>\n       <use xlink:href=\"#DejaVuSans-30\" x=\"63.623047\"/>\n      </g>\n     </g>\n    </g>\n    <g id=\"text_9\">\n     <!-- f(x) -->\n     <g transform=\"translate(14.798437 85.121094) rotate(-90) scale(0.1 -0.1)\">\n      <defs>\n       <path id=\"DejaVuSans-66\" d=\"M 2375 4863 \nL 2375 4384 \nL 1825 4384 \nQ 1516 4384 1395 4259 \nQ 1275 4134 1275 3809 \nL 1275 3500 \nL 2222 3500 \nL 2222 3053 \nL 1275 3053 \nL 1275 0 \nL 697 0 \nL 697 3053 \nL 147 3053 \nL 147 3500 \nL 697 3500 \nL 697 3744 \nQ 697 4328 969 4595 \nQ 1241 4863 1831 4863 \nL 2375 4863 \nz\n\" transform=\"scale(0.015625)\"/>\n       <path id=\"DejaVuSans-28\" d=\"M 1984 4856 \nQ 1566 4138 1362 3434 \nQ 1159 2731 1159 2009 \nQ 1159 1288 1364 580 \nQ 1569 -128 1984 -844 \nL 1484 -844 \nQ 1016 -109 783 600 \nQ 550 1309 550 2009 \nQ 550 2706 781 3412 \nQ 1013 4119 1484 4856 \nL 1984 4856 \nz\n\" transform=\"scale(0.015625)\"/>\n       <path id=\"DejaVuSans-29\" d=\"M 513 4856 \nL 1013 4856 \nQ 1481 4119 1714 3412 \nQ 1947 2706 1947 2009 \nQ 1947 1309 1714 600 \nQ 1481 -109 1013 -844 \nL 513 -844 \nQ 928 -128 1133 580 \nQ 1338 1288 1338 2009 \nQ 1338 2731 1133 3434 \nQ 928 4138 513 4856 \nz\n\" transform=\"scale(0.015625)\"/>\n      </defs>\n      <use xlink:href=\"#DejaVuSans-66\"/>\n      <use xlink:href=\"#DejaVuSans-28\" x=\"35.205078\"/>\n      <use xlink:href=\"#DejaVuSans-78\" x=\"74.21875\"/>\n      <use xlink:href=\"#DejaVuSans-29\" x=\"133.398438\"/>\n     </g>\n    </g>\n   </g>\n   <g id=\"line2d_15\">\n    <path d=\"M 49.480398 116.769994 \nL 55.602655 119.573361 \nL 61.724912 121.922129 \nL 67.847169 123.816296 \nL 73.969426 125.255863 \nL 80.091683 126.24083 \nL 86.21394 126.771197 \nL 92.336197 126.846963 \nL 98.458454 126.46813 \nL 104.580711 125.634696 \nL 110.702968 124.346663 \nL 116.825225 122.604029 \nL 122.947482 120.406795 \nL 129.069739 117.754961 \nL 135.191996 114.648527 \nL 141.314254 111.087492 \nL 147.436511 107.071858 \nL 153.558768 102.601624 \nL 159.681025 97.676789 \nL 165.803282 92.297354 \nL 171.925539 86.463319 \nL 178.047796 80.174684 \nL 184.170053 73.431449 \nL 190.29231 66.233614 \nL 196.414567 58.581179 \nL 202.536824 50.474143 \nL 208.659081 41.912508 \nL 214.781338 32.896272 \nL 220.903595 23.425436 \nL 227.025852 13.5 \n\" clip-path=\"url(#p59f665e29c)\" style=\"fill: none; stroke: #1f77b4; stroke-width: 1.5; stroke-linecap: square\"/>\n   </g>\n   <g id=\"line2d_16\">\n    <path d=\"M 49.480398 139.5 \nL 55.602655 137.984666 \nL 61.724912 136.469333 \nL 67.847169 134.953999 \nL 73.969426 133.438665 \nL 80.091683 131.923331 \nL 86.21394 130.407998 \nL 92.336197 128.892664 \nL 98.458454 127.37733 \nL 104.580711 125.861996 \nL 110.702968 124.346663 \nL 116.825225 122.831329 \nL 122.947482 121.315995 \nL 129.069739 119.800661 \nL 135.191996 118.285328 \nL 141.314254 116.769994 \nL 147.436511 115.25466 \nL 153.558768 113.739327 \nL 159.681025 112.223993 \nL 165.803282 110.708659 \nL 171.925539 109.193325 \nL 178.047796 107.677992 \nL 184.170053 106.162658 \nL 190.29231 104.647324 \nL 196.414567 103.13199 \nL 202.536824 101.616657 \nL 208.659081 100.101323 \nL 214.781338 98.585989 \nL 220.903595 97.070655 \nL 227.025852 95.555322 \n\" clip-path=\"url(#p59f665e29c)\" style=\"fill: none; stroke-dasharray: 5.55,2.4; stroke-dashoffset: 0; stroke: #bf00bf; stroke-width: 1.5\"/>\n   </g>\n   <g id=\"patch_3\">\n    <path d=\"M 40.603125 145.8 \nL 40.603125 7.2 \n\" style=\"fill: none; stroke: #000000; stroke-width: 0.8; stroke-linejoin: miter; stroke-linecap: square\"/>\n   </g>\n   <g id=\"patch_4\">\n    <path d=\"M 235.903125 145.8 \nL 235.903125 7.2 \n\" style=\"fill: none; stroke: #000000; stroke-width: 0.8; stroke-linejoin: miter; stroke-linecap: square\"/>\n   </g>\n   <g id=\"patch_5\">\n    <path d=\"M 40.603125 145.8 \nL 235.903125 145.8 \n\" style=\"fill: none; stroke: #000000; stroke-width: 0.8; stroke-linejoin: miter; stroke-linecap: square\"/>\n   </g>\n   <g id=\"patch_6\">\n    <path d=\"M 40.603125 7.2 \nL 235.903125 7.2 \n\" style=\"fill: none; stroke: #000000; stroke-width: 0.8; stroke-linejoin: miter; stroke-linecap: square\"/>\n   </g>\n   <g id=\"legend_1\">\n    <g id=\"patch_7\">\n     <path d=\"M 47.603125 44.55625 \nL 172.153125 44.55625 \nQ 174.153125 44.55625 174.153125 42.55625 \nL 174.153125 14.2 \nQ 174.153125 12.2 172.153125 12.2 \nL 47.603125 12.2 \nQ 45.603125 12.2 45.603125 14.2 \nL 45.603125 42.55625 \nQ 45.603125 44.55625 47.603125 44.55625 \nz\n\" style=\"fill: #ffffff; opacity: 0.8; stroke: #cccccc; stroke-linejoin: miter\"/>\n    </g>\n    <g id=\"line2d_17\">\n     <path d=\"M 49.603125 20.298438 \nL 59.603125 20.298438 \nL 69.603125 20.298438 \n\" style=\"fill: none; stroke: #1f77b4; stroke-width: 1.5; stroke-linecap: square\"/>\n    </g>\n    <g id=\"text_10\">\n     <!-- f(x) -->\n     <g transform=\"translate(77.603125 23.798438) scale(0.1 -0.1)\">\n      <use xlink:href=\"#DejaVuSans-66\"/>\n      <use xlink:href=\"#DejaVuSans-28\" x=\"35.205078\"/>\n      <use xlink:href=\"#DejaVuSans-78\" x=\"74.21875\"/>\n      <use xlink:href=\"#DejaVuSans-29\" x=\"133.398438\"/>\n     </g>\n    </g>\n    <g id=\"line2d_18\">\n     <path d=\"M 49.603125 34.976562 \nL 59.603125 34.976562 \nL 69.603125 34.976562 \n\" style=\"fill: none; stroke-dasharray: 5.55,2.4; stroke-dashoffset: 0; stroke: #bf00bf; stroke-width: 1.5\"/>\n    </g>\n    <g id=\"text_11\">\n     <!-- Tangent line (x=1) -->\n     <g transform=\"translate(77.603125 38.476562) scale(0.1 -0.1)\">\n      <defs>\n       <path id=\"DejaVuSans-54\" d=\"M -19 4666 \nL 3928 4666 \nL 3928 4134 \nL 2272 4134 \nL 2272 0 \nL 1638 0 \nL 1638 4134 \nL -19 4134 \nL -19 4666 \nz\n\" transform=\"scale(0.015625)\"/>\n       <path id=\"DejaVuSans-61\" d=\"M 2194 1759 \nQ 1497 1759 1228 1600 \nQ 959 1441 959 1056 \nQ 959 750 1161 570 \nQ 1363 391 1709 391 \nQ 2188 391 2477 730 \nQ 2766 1069 2766 1631 \nL 2766 1759 \nL 2194 1759 \nz\nM 3341 1997 \nL 3341 0 \nL 2766 0 \nL 2766 531 \nQ 2569 213 2275 61 \nQ 1981 -91 1556 -91 \nQ 1019 -91 701 211 \nQ 384 513 384 1019 \nQ 384 1609 779 1909 \nQ 1175 2209 1959 2209 \nL 2766 2209 \nL 2766 2266 \nQ 2766 2663 2505 2880 \nQ 2244 3097 1772 3097 \nQ 1472 3097 1187 3025 \nQ 903 2953 641 2809 \nL 641 3341 \nQ 956 3463 1253 3523 \nQ 1550 3584 1831 3584 \nQ 2591 3584 2966 3190 \nQ 3341 2797 3341 1997 \nz\n\" transform=\"scale(0.015625)\"/>\n       <path id=\"DejaVuSans-6e\" d=\"M 3513 2113 \nL 3513 0 \nL 2938 0 \nL 2938 2094 \nQ 2938 2591 2744 2837 \nQ 2550 3084 2163 3084 \nQ 1697 3084 1428 2787 \nQ 1159 2491 1159 1978 \nL 1159 0 \nL 581 0 \nL 581 3500 \nL 1159 3500 \nL 1159 2956 \nQ 1366 3272 1645 3428 \nQ 1925 3584 2291 3584 \nQ 2894 3584 3203 3211 \nQ 3513 2838 3513 2113 \nz\n\" transform=\"scale(0.015625)\"/>\n       <path id=\"DejaVuSans-67\" d=\"M 2906 1791 \nQ 2906 2416 2648 2759 \nQ 2391 3103 1925 3103 \nQ 1463 3103 1205 2759 \nQ 947 2416 947 1791 \nQ 947 1169 1205 825 \nQ 1463 481 1925 481 \nQ 2391 481 2648 825 \nQ 2906 1169 2906 1791 \nz\nM 3481 434 \nQ 3481 -459 3084 -895 \nQ 2688 -1331 1869 -1331 \nQ 1566 -1331 1297 -1286 \nQ 1028 -1241 775 -1147 \nL 775 -588 \nQ 1028 -725 1275 -790 \nQ 1522 -856 1778 -856 \nQ 2344 -856 2625 -561 \nQ 2906 -266 2906 331 \nL 2906 616 \nQ 2728 306 2450 153 \nQ 2172 0 1784 0 \nQ 1141 0 747 490 \nQ 353 981 353 1791 \nQ 353 2603 747 3093 \nQ 1141 3584 1784 3584 \nQ 2172 3584 2450 3431 \nQ 2728 3278 2906 2969 \nL 2906 3500 \nL 3481 3500 \nL 3481 434 \nz\n\" transform=\"scale(0.015625)\"/>\n       <path id=\"DejaVuSans-65\" d=\"M 3597 1894 \nL 3597 1613 \nL 953 1613 \nQ 991 1019 1311 708 \nQ 1631 397 2203 397 \nQ 2534 397 2845 478 \nQ 3156 559 3463 722 \nL 3463 178 \nQ 3153 47 2828 -22 \nQ 2503 -91 2169 -91 \nQ 1331 -91 842 396 \nQ 353 884 353 1716 \nQ 353 2575 817 3079 \nQ 1281 3584 2069 3584 \nQ 2775 3584 3186 3129 \nQ 3597 2675 3597 1894 \nz\nM 3022 2063 \nQ 3016 2534 2758 2815 \nQ 2500 3097 2075 3097 \nQ 1594 3097 1305 2825 \nQ 1016 2553 972 2059 \nL 3022 2063 \nz\n\" transform=\"scale(0.015625)\"/>\n       <path id=\"DejaVuSans-74\" d=\"M 1172 4494 \nL 1172 3500 \nL 2356 3500 \nL 2356 3053 \nL 1172 3053 \nL 1172 1153 \nQ 1172 725 1289 603 \nQ 1406 481 1766 481 \nL 2356 481 \nL 2356 0 \nL 1766 0 \nQ 1100 0 847 248 \nQ 594 497 594 1153 \nL 594 3053 \nL 172 3053 \nL 172 3500 \nL 594 3500 \nL 594 4494 \nL 1172 4494 \nz\n\" transform=\"scale(0.015625)\"/>\n       <path id=\"DejaVuSans-20\" transform=\"scale(0.015625)\"/>\n       <path id=\"DejaVuSans-6c\" d=\"M 603 4863 \nL 1178 4863 \nL 1178 0 \nL 603 0 \nL 603 4863 \nz\n\" transform=\"scale(0.015625)\"/>\n       <path id=\"DejaVuSans-69\" d=\"M 603 3500 \nL 1178 3500 \nL 1178 0 \nL 603 0 \nL 603 3500 \nz\nM 603 4863 \nL 1178 4863 \nL 1178 4134 \nL 603 4134 \nL 603 4863 \nz\n\" transform=\"scale(0.015625)\"/>\n       <path id=\"DejaVuSans-3d\" d=\"M 678 2906 \nL 4684 2906 \nL 4684 2381 \nL 678 2381 \nL 678 2906 \nz\nM 678 1631 \nL 4684 1631 \nL 4684 1100 \nL 678 1100 \nL 678 1631 \nz\n\" transform=\"scale(0.015625)\"/>\n      </defs>\n      <use xlink:href=\"#DejaVuSans-54\"/>\n      <use xlink:href=\"#DejaVuSans-61\" x=\"44.583984\"/>\n      <use xlink:href=\"#DejaVuSans-6e\" x=\"105.863281\"/>\n      <use xlink:href=\"#DejaVuSans-67\" x=\"169.242188\"/>\n      <use xlink:href=\"#DejaVuSans-65\" x=\"232.71875\"/>\n      <use xlink:href=\"#DejaVuSans-6e\" x=\"294.242188\"/>\n      <use xlink:href=\"#DejaVuSans-74\" x=\"357.621094\"/>\n      <use xlink:href=\"#DejaVuSans-20\" x=\"396.830078\"/>\n      <use xlink:href=\"#DejaVuSans-6c\" x=\"428.617188\"/>\n      <use xlink:href=\"#DejaVuSans-69\" x=\"456.400391\"/>\n      <use xlink:href=\"#DejaVuSans-6e\" x=\"484.183594\"/>\n      <use xlink:href=\"#DejaVuSans-65\" x=\"547.5625\"/>\n      <use xlink:href=\"#DejaVuSans-20\" x=\"609.085938\"/>\n      <use xlink:href=\"#DejaVuSans-28\" x=\"640.873047\"/>\n      <use xlink:href=\"#DejaVuSans-78\" x=\"679.886719\"/>\n      <use xlink:href=\"#DejaVuSans-3d\" x=\"739.066406\"/>\n      <use xlink:href=\"#DejaVuSans-31\" x=\"822.855469\"/>\n      <use xlink:href=\"#DejaVuSans-29\" x=\"886.478516\"/>\n     </g>\n    </g>\n   </g>\n  </g>\n </g>\n <defs>\n  <clipPath id=\"p59f665e29c\">\n   <rect x=\"40.603125\" y=\"7.2\" width=\"195.3\" height=\"138.6\"/>\n  </clipPath>\n </defs>\n</svg>\n"
     },
     "metadata": {},
     "output_type": "display_data"
    }
   ],
   "execution_count": 105
  },
  {
   "metadata": {},
   "cell_type": "markdown",
   "source": [
    "微分的定义\n",
    "\n",
    "梯度\n",
    "\n",
    "链式法则求解多元函数微分\n"
   ],
   "id": "a0df96cce7aaf20d"
  },
  {
   "metadata": {},
   "cell_type": "markdown",
   "source": [
    "### 自动求导\n",
    "*本节小结：这一节再多看几遍*\n",
    "\n",
    "计算图：将代码分解成操作子；将计算表示为一个无环图\n",
    "\n",
    "自动求导的两种模式：正向积累和反向积累\n",
    "\n",
    "链式法则 $$\\frac{dy}{dx} = \\frac{dy}{du} \\frac{du}{dx}.$$\n",
    "\n",
    "下面对函数$y=2\\mathbf{x}^{\\top}\\mathbf{x}$关于列向量$\\mathbf{x}$求导："
   ],
   "id": "d283851aee9068e"
  },
  {
   "metadata": {
    "ExecuteTime": {
     "end_time": "2024-06-03T06:16:50.523266Z",
     "start_time": "2024-06-03T06:16:50.515237Z"
    }
   },
   "cell_type": "code",
   "source": [
    "import torch\n",
    "\n",
    "x = torch.arange(4.0,requires_grad=True) # 在x里面存储梯度\n",
    "x.grad  # 默认为None\n",
    "y = 2 * torch.dot(x, x)\n",
    "y.backward() # 反向传播\n",
    "x.grad \n",
    "# 在默认情况下，PyTorch会累积梯度，我们需要清除之前的值 x.grad.zero_()\n",
    "# 在绝大多数情况下，很少对向量进行求导，都是对标量。y.sum().backward()\n",
    "# u = y.detach() 把u看作是一个关于y的常量\n",
    "# 还可以利用Python控制流（例如，条件、循环或任意函数调用），来计算导数"
   ],
   "id": "4028709dfde4026c",
   "outputs": [
    {
     "data": {
      "text/plain": [
       "tensor([ 0.,  4.,  8., 12.])"
      ]
     },
     "execution_count": 106,
     "metadata": {},
     "output_type": "execute_result"
    }
   ],
   "execution_count": 106
  },
  {
   "metadata": {},
   "cell_type": "markdown",
   "source": [
    "## 线性神经网络-linearnetworks\n",
    "### Softmax回归\n",
    "*本节小结：Softmax回归是一个多分类模型，使用交叉熵来衡量真实概率和预测概率的区别。*\n",
    "\n",
    "### 图像分类数据集"
   ],
   "id": "cf84b6cda6fe0aaf"
  },
  {
   "metadata": {
    "ExecuteTime": {
     "end_time": "2024-06-03T06:16:50.528325Z",
     "start_time": "2024-06-03T06:16:50.524271Z"
    }
   },
   "cell_type": "code",
   "source": [
    "import torch\n",
    "import torchvision\n",
    "from torch.utils import data\n",
    "from torchvision import transforms\n",
    "from d2l import torch as d2l\n",
    "\n",
    "d2l.use_svg_display() # 封装函数，图像显示"
   ],
   "id": "e9652296f27f9110",
   "outputs": [],
   "execution_count": 107
  },
  {
   "metadata": {
    "ExecuteTime": {
     "end_time": "2024-06-03T06:16:50.636189Z",
     "start_time": "2024-06-03T06:16:50.575723Z"
    }
   },
   "cell_type": "code",
   "source": [
    "trans = transforms.ToTensor() # 将图像数据从PIL类型变换成32位浮点数格式\n",
    "mnist_train = torchvision.datasets.FashionMNIST(  \n",
    "    root=\"../data\", train=True, transform=trans, download=True)  # 必须科学上网才能下载\n",
    "mnist_test = torchvision.datasets.FashionMNIST(\n",
    "    root=\"../data\", train=False, transform=trans, download=True)"
   ],
   "id": "19bfdfd83cdb4a55",
   "outputs": [],
   "execution_count": 108
  },
  {
   "metadata": {
    "ExecuteTime": {
     "end_time": "2024-06-03T06:16:50.643536Z",
     "start_time": "2024-06-03T06:16:50.637191Z"
    }
   },
   "cell_type": "code",
   "source": [
    "len(mnist_train), len(mnist_test) # 查看数量\n",
    "mnist_train[0][0].shape # 查看输入图像的高度和宽度"
   ],
   "id": "c2f93dcadae726ce",
   "outputs": [
    {
     "data": {
      "text/plain": [
       "torch.Size([1, 28, 28])"
      ]
     },
     "execution_count": 109,
     "metadata": {},
     "output_type": "execute_result"
    }
   ],
   "execution_count": 109
  },
  {
   "metadata": {
    "ExecuteTime": {
     "end_time": "2024-06-03T06:16:50.725467Z",
     "start_time": "2024-06-03T06:16:50.721397Z"
    }
   },
   "cell_type": "code",
   "source": [
    "def get_fashion_mnist_labels(labels):  #@save\n",
    "    text_labels = ['t-shirt', 'trouser', 'pullover', 'dress', 'coat',\n",
    "                   'sandal', 'shirt', 'sneaker', 'bag', 'ankle boot']\n",
    "    return [text_labels[int(i)] for i in labels]"
   ],
   "id": "7368a79065ba2e22",
   "outputs": [],
   "execution_count": 110
  },
  {
   "metadata": {
    "ExecuteTime": {
     "end_time": "2024-06-03T06:16:50.807566Z",
     "start_time": "2024-06-03T06:16:50.802522Z"
    }
   },
   "cell_type": "code",
   "source": [
    "def show_images(imgs, num_rows, num_cols, titles=None, scale=1.5):  #@save 可视化样本\n",
    "    figsize = (num_cols * scale, num_rows * scale)\n",
    "    _, axes = d2l.plt.subplots(num_rows, num_cols, figsize=figsize)\n",
    "    axes = axes.flatten()\n",
    "    for i, (ax, img) in enumerate(zip(axes, imgs)):\n",
    "        if torch.is_tensor(img):\n",
    "            ax.imshow(img.numpy()) # 图片张量\n",
    "        else:\n",
    "            ax.imshow(img)\n",
    "        ax.axes.get_xaxis().set_visible(False)\n",
    "        ax.axes.get_yaxis().set_visible(False)\n",
    "        if titles:\n",
    "            ax.set_title(titles[i])\n",
    "    return axes"
   ],
   "id": "f254f4df455b05bb",
   "outputs": [],
   "execution_count": 111
  },
  {
   "metadata": {
    "ExecuteTime": {
     "end_time": "2024-06-03T06:17:11.650849Z",
     "start_time": "2024-06-03T06:16:50.825573Z"
    }
   },
   "cell_type": "code",
   "source": [
    "X, y = next(iter(data.DataLoader(mnist_train, batch_size=18)))\n",
    "show_images(X.reshape(18, 28, 28), 2, 9, titles=get_fashion_mnist_labels(y));"
   ],
   "id": "ceb756aa29d22fe9",
   "outputs": [
    {
     "data": {
      "text/plain": [
       "<Figure size 1350x300 with 18 Axes>"
      ],
      "image/svg+xml": "<?xml version=\"1.0\" encoding=\"utf-8\" standalone=\"no\"?>\n<!DOCTYPE svg PUBLIC \"-//W3C//DTD SVG 1.1//EN\"\n  \"http://www.w3.org/Graphics/SVG/1.1/DTD/svg11.dtd\">\n<svg xmlns:xlink=\"http://www.w3.org/1999/xlink\" width=\"767.7pt\" height=\"191.304163pt\" viewBox=\"0 0 767.7 191.304163\" xmlns=\"http://www.w3.org/2000/svg\" version=\"1.1\">\n <metadata>\n  <rdf:RDF xmlns:dc=\"http://purl.org/dc/elements/1.1/\" xmlns:cc=\"http://creativecommons.org/ns#\" xmlns:rdf=\"http://www.w3.org/1999/02/22-rdf-syntax-ns#\">\n   <cc:Work>\n    <dc:type rdf:resource=\"http://purl.org/dc/dcmitype/StillImage\"/>\n    <dc:date>2024-06-03T14:17:11.582721</dc:date>\n    <dc:format>image/svg+xml</dc:format>\n    <dc:creator>\n     <cc:Agent>\n      <dc:title>Matplotlib v3.9.0, https://matplotlib.org/</dc:title>\n     </cc:Agent>\n    </dc:creator>\n   </cc:Work>\n  </rdf:RDF>\n </metadata>\n <defs>\n  <style type=\"text/css\">*{stroke-linejoin: round; stroke-linecap: butt}</style>\n </defs>\n <g id=\"figure_1\">\n  <g id=\"patch_1\">\n   <path d=\"M 0 191.304163 \nL 767.7 191.304163 \nL 767.7 0 \nL 0 0 \nz\n\" style=\"fill: #ffffff\"/>\n  </g>\n  <g id=\"axes_1\">\n   <g id=\"patch_2\">\n    <path d=\"M 7.2 93.384163 \nL 78.266038 93.384163 \nL 78.266038 22.318125 \nL 7.2 22.318125 \nz\n\" style=\"fill: #ffffff\"/>\n   </g>\n   <g clip-path=\"url(#p43cc848c48)\">\n    <image xlink:href=\"data:image/png;base64,\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\" id=\"imagea257da1118\" transform=\"scale(1 -1) translate(0 -71.28)\" x=\"7.2\" y=\"-22.104163\" width=\"71.28\" height=\"71.28\"/>\n   </g>\n   <g id=\"patch_3\">\n    <path d=\"M 7.2 93.384163 \nL 7.2 22.318125 \n\" style=\"fill: none; stroke: #000000; stroke-width: 0.8; stroke-linejoin: miter; stroke-linecap: square\"/>\n   </g>\n   <g id=\"patch_4\">\n    <path d=\"M 78.266038 93.384163 \nL 78.266038 22.318125 \n\" style=\"fill: none; stroke: #000000; stroke-width: 0.8; stroke-linejoin: miter; stroke-linecap: square\"/>\n   </g>\n   <g id=\"patch_5\">\n    <path d=\"M 7.2 93.384163 \nL 78.266038 93.384163 \n\" style=\"fill: none; stroke: #000000; stroke-width: 0.8; stroke-linejoin: miter; stroke-linecap: square\"/>\n   </g>\n   <g id=\"patch_6\">\n    <path d=\"M 7.2 22.318125 \nL 78.266038 22.318125 \n\" style=\"fill: none; stroke: #000000; stroke-width: 0.8; stroke-linejoin: miter; stroke-linecap: square\"/>\n   </g>\n   <g id=\"text_1\">\n    <!-- ankle boot -->\n    <g transform=\"translate(11.009894 16.318125) scale(0.12 -0.12)\">\n     <defs>\n      <path id=\"DejaVuSans-61\" d=\"M 2194 1759 \nQ 1497 1759 1228 1600 \nQ 959 1441 959 1056 \nQ 959 750 1161 570 \nQ 1363 391 1709 391 \nQ 2188 391 2477 730 \nQ 2766 1069 2766 1631 \nL 2766 1759 \nL 2194 1759 \nz\nM 3341 1997 \nL 3341 0 \nL 2766 0 \nL 2766 531 \nQ 2569 213 2275 61 \nQ 1981 -91 1556 -91 \nQ 1019 -91 701 211 \nQ 384 513 384 1019 \nQ 384 1609 779 1909 \nQ 1175 2209 1959 2209 \nL 2766 2209 \nL 2766 2266 \nQ 2766 2663 2505 2880 \nQ 2244 3097 1772 3097 \nQ 1472 3097 1187 3025 \nQ 903 2953 641 2809 \nL 641 3341 \nQ 956 3463 1253 3523 \nQ 1550 3584 1831 3584 \nQ 2591 3584 2966 3190 \nQ 3341 2797 3341 1997 \nz\n\" transform=\"scale(0.015625)\"/>\n      <path id=\"DejaVuSans-6e\" d=\"M 3513 2113 \nL 3513 0 \nL 2938 0 \nL 2938 2094 \nQ 2938 2591 2744 2837 \nQ 2550 3084 2163 3084 \nQ 1697 3084 1428 2787 \nQ 1159 2491 1159 1978 \nL 1159 0 \nL 581 0 \nL 581 3500 \nL 1159 3500 \nL 1159 2956 \nQ 1366 3272 1645 3428 \nQ 1925 3584 2291 3584 \nQ 2894 3584 3203 3211 \nQ 3513 2838 3513 2113 \nz\n\" transform=\"scale(0.015625)\"/>\n      <path id=\"DejaVuSans-6b\" d=\"M 581 4863 \nL 1159 4863 \nL 1159 1991 \nL 2875 3500 \nL 3609 3500 \nL 1753 1863 \nL 3688 0 \nL 2938 0 \nL 1159 1709 \nL 1159 0 \nL 581 0 \nL 581 4863 \nz\n\" transform=\"scale(0.015625)\"/>\n      <path id=\"DejaVuSans-6c\" d=\"M 603 4863 \nL 1178 4863 \nL 1178 0 \nL 603 0 \nL 603 4863 \nz\n\" transform=\"scale(0.015625)\"/>\n      <path id=\"DejaVuSans-65\" d=\"M 3597 1894 \nL 3597 1613 \nL 953 1613 \nQ 991 1019 1311 708 \nQ 1631 397 2203 397 \nQ 2534 397 2845 478 \nQ 3156 559 3463 722 \nL 3463 178 \nQ 3153 47 2828 -22 \nQ 2503 -91 2169 -91 \nQ 1331 -91 842 396 \nQ 353 884 353 1716 \nQ 353 2575 817 3079 \nQ 1281 3584 2069 3584 \nQ 2775 3584 3186 3129 \nQ 3597 2675 3597 1894 \nz\nM 3022 2063 \nQ 3016 2534 2758 2815 \nQ 2500 3097 2075 3097 \nQ 1594 3097 1305 2825 \nQ 1016 2553 972 2059 \nL 3022 2063 \nz\n\" transform=\"scale(0.015625)\"/>\n      <path id=\"DejaVuSans-20\" transform=\"scale(0.015625)\"/>\n      <path id=\"DejaVuSans-62\" d=\"M 3116 1747 \nQ 3116 2381 2855 2742 \nQ 2594 3103 2138 3103 \nQ 1681 3103 1420 2742 \nQ 1159 2381 1159 1747 \nQ 1159 1113 1420 752 \nQ 1681 391 2138 391 \nQ 2594 391 2855 752 \nQ 3116 1113 3116 1747 \nz\nM 1159 2969 \nQ 1341 3281 1617 3432 \nQ 1894 3584 2278 3584 \nQ 2916 3584 3314 3078 \nQ 3713 2572 3713 1747 \nQ 3713 922 3314 415 \nQ 2916 -91 2278 -91 \nQ 1894 -91 1617 61 \nQ 1341 213 1159 525 \nL 1159 0 \nL 581 0 \nL 581 4863 \nL 1159 4863 \nL 1159 2969 \nz\n\" transform=\"scale(0.015625)\"/>\n      <path id=\"DejaVuSans-6f\" d=\"M 1959 3097 \nQ 1497 3097 1228 2736 \nQ 959 2375 959 1747 \nQ 959 1119 1226 758 \nQ 1494 397 1959 397 \nQ 2419 397 2687 759 \nQ 2956 1122 2956 1747 \nQ 2956 2369 2687 2733 \nQ 2419 3097 1959 3097 \nz\nM 1959 3584 \nQ 2709 3584 3137 3096 \nQ 3566 2609 3566 1747 \nQ 3566 888 3137 398 \nQ 2709 -91 1959 -91 \nQ 1206 -91 779 398 \nQ 353 888 353 1747 \nQ 353 2609 779 3096 \nQ 1206 3584 1959 3584 \nz\n\" transform=\"scale(0.015625)\"/>\n      <path id=\"DejaVuSans-74\" d=\"M 1172 4494 \nL 1172 3500 \nL 2356 3500 \nL 2356 3053 \nL 1172 3053 \nL 1172 1153 \nQ 1172 725 1289 603 \nQ 1406 481 1766 481 \nL 2356 481 \nL 2356 0 \nL 1766 0 \nQ 1100 0 847 248 \nQ 594 497 594 1153 \nL 594 3053 \nL 172 3053 \nL 172 3500 \nL 594 3500 \nL 594 4494 \nL 1172 4494 \nz\n\" transform=\"scale(0.015625)\"/>\n     </defs>\n     <use xlink:href=\"#DejaVuSans-61\"/>\n     <use xlink:href=\"#DejaVuSans-6e\" x=\"61.279297\"/>\n     <use xlink:href=\"#DejaVuSans-6b\" x=\"124.658203\"/>\n     <use xlink:href=\"#DejaVuSans-6c\" x=\"182.568359\"/>\n     <use xlink:href=\"#DejaVuSans-65\" x=\"210.351562\"/>\n     <use xlink:href=\"#DejaVuSans-20\" x=\"271.875\"/>\n     <use xlink:href=\"#DejaVuSans-62\" x=\"303.662109\"/>\n     <use xlink:href=\"#DejaVuSans-6f\" x=\"367.138672\"/>\n     <use xlink:href=\"#DejaVuSans-6f\" x=\"428.320312\"/>\n     <use xlink:href=\"#DejaVuSans-74\" x=\"489.501953\"/>\n    </g>\n   </g>\n  </g>\n  <g id=\"axes_2\">\n   <g id=\"patch_7\">\n    <path d=\"M 92.479245 93.384163 \nL 163.545283 93.384163 \nL 163.545283 22.318125 \nL 92.479245 22.318125 \nz\n\" style=\"fill: #ffffff\"/>\n   </g>\n   <g clip-path=\"url(#pbb9f6c647a)\">\n    <image xlink:href=\"data:image/png;base64,\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\" id=\"imagea62e7853e7\" transform=\"scale(1 -1) translate(0 -71.28)\" x=\"92.479245\" y=\"-22.104163\" width=\"71.28\" height=\"71.28\"/>\n   </g>\n   <g id=\"patch_8\">\n    <path d=\"M 92.479245 93.384163 \nL 92.479245 22.318125 \n\" style=\"fill: none; stroke: #000000; stroke-width: 0.8; stroke-linejoin: miter; stroke-linecap: square\"/>\n   </g>\n   <g id=\"patch_9\">\n    <path d=\"M 163.545283 93.384163 \nL 163.545283 22.318125 \n\" style=\"fill: none; stroke: #000000; stroke-width: 0.8; stroke-linejoin: miter; stroke-linecap: square\"/>\n   </g>\n   <g id=\"patch_10\">\n    <path d=\"M 92.479245 93.384163 \nL 163.545283 93.384163 \n\" style=\"fill: none; stroke: #000000; stroke-width: 0.8; stroke-linejoin: miter; stroke-linecap: square\"/>\n   </g>\n   <g id=\"patch_11\">\n    <path d=\"M 92.479245 22.318125 \nL 163.545283 22.318125 \n\" style=\"fill: none; stroke: #000000; stroke-width: 0.8; stroke-linejoin: miter; stroke-linecap: square\"/>\n   </g>\n   <g id=\"text_2\">\n    <!-- t-shirt -->\n    <g transform=\"translate(110.081639 16.318125) scale(0.12 -0.12)\">\n     <defs>\n      <path id=\"DejaVuSans-2d\" d=\"M 313 2009 \nL 1997 2009 \nL 1997 1497 \nL 313 1497 \nL 313 2009 \nz\n\" transform=\"scale(0.015625)\"/>\n      <path id=\"DejaVuSans-73\" d=\"M 2834 3397 \nL 2834 2853 \nQ 2591 2978 2328 3040 \nQ 2066 3103 1784 3103 \nQ 1356 3103 1142 2972 \nQ 928 2841 928 2578 \nQ 928 2378 1081 2264 \nQ 1234 2150 1697 2047 \nL 1894 2003 \nQ 2506 1872 2764 1633 \nQ 3022 1394 3022 966 \nQ 3022 478 2636 193 \nQ 2250 -91 1575 -91 \nQ 1294 -91 989 -36 \nQ 684 19 347 128 \nL 347 722 \nQ 666 556 975 473 \nQ 1284 391 1588 391 \nQ 1994 391 2212 530 \nQ 2431 669 2431 922 \nQ 2431 1156 2273 1281 \nQ 2116 1406 1581 1522 \nL 1381 1569 \nQ 847 1681 609 1914 \nQ 372 2147 372 2553 \nQ 372 3047 722 3315 \nQ 1072 3584 1716 3584 \nQ 2034 3584 2315 3537 \nQ 2597 3491 2834 3397 \nz\n\" transform=\"scale(0.015625)\"/>\n      <path id=\"DejaVuSans-68\" d=\"M 3513 2113 \nL 3513 0 \nL 2938 0 \nL 2938 2094 \nQ 2938 2591 2744 2837 \nQ 2550 3084 2163 3084 \nQ 1697 3084 1428 2787 \nQ 1159 2491 1159 1978 \nL 1159 0 \nL 581 0 \nL 581 4863 \nL 1159 4863 \nL 1159 2956 \nQ 1366 3272 1645 3428 \nQ 1925 3584 2291 3584 \nQ 2894 3584 3203 3211 \nQ 3513 2838 3513 2113 \nz\n\" transform=\"scale(0.015625)\"/>\n      <path id=\"DejaVuSans-69\" d=\"M 603 3500 \nL 1178 3500 \nL 1178 0 \nL 603 0 \nL 603 3500 \nz\nM 603 4863 \nL 1178 4863 \nL 1178 4134 \nL 603 4134 \nL 603 4863 \nz\n\" transform=\"scale(0.015625)\"/>\n      <path id=\"DejaVuSans-72\" d=\"M 2631 2963 \nQ 2534 3019 2420 3045 \nQ 2306 3072 2169 3072 \nQ 1681 3072 1420 2755 \nQ 1159 2438 1159 1844 \nL 1159 0 \nL 581 0 \nL 581 3500 \nL 1159 3500 \nL 1159 2956 \nQ 1341 3275 1631 3429 \nQ 1922 3584 2338 3584 \nQ 2397 3584 2469 3576 \nQ 2541 3569 2628 3553 \nL 2631 2963 \nz\n\" transform=\"scale(0.015625)\"/>\n     </defs>\n     <use xlink:href=\"#DejaVuSans-74\"/>\n     <use xlink:href=\"#DejaVuSans-2d\" x=\"39.208984\"/>\n     <use xlink:href=\"#DejaVuSans-73\" x=\"75.292969\"/>\n     <use xlink:href=\"#DejaVuSans-68\" x=\"127.392578\"/>\n     <use xlink:href=\"#DejaVuSans-69\" x=\"190.771484\"/>\n     <use xlink:href=\"#DejaVuSans-72\" x=\"218.554688\"/>\n     <use xlink:href=\"#DejaVuSans-74\" x=\"259.667969\"/>\n    </g>\n   </g>\n  </g>\n  <g id=\"axes_3\">\n   <g id=\"patch_12\">\n    <path d=\"M 177.758491 93.384163 \nL 248.824528 93.384163 \nL 248.824528 22.318125 \nL 177.758491 22.318125 \nz\n\" style=\"fill: #ffffff\"/>\n   </g>\n   <g clip-path=\"url(#p69bea3a6e2)\">\n    <image xlink:href=\"data:image/png;base64,\niVBORw0KGgoAAAANSUhEUgAAAGMAAABjCAYAAACPO76VAAAFTklEQVR4nO2dv48bRRTHd9d2zvE5F/kuOYIgOqSIAghKQoWEohRcT0EoKaBBVBRUdPwTNCBFES0dQlT0SCkoKPJDFAQugYDulJMT+2zvepcG7bzvszy+S9azT7rvp5rJ293Zy9fvzdvZmdl4O75eRCGJY6wXh2u++eI5qGdbm2V53FvBJtQlT+70XXP3H4AtHwzmNyrv9ZD3+TwkS2+BHBqKYQiKYYhm8BZV7E1WV8vy/ntvgu3gjPutpKtgigrxM0qmC5p8a6Msx9MNsHUf5mV5/fvbYJv2+1FI6BmGoBiGiEOnto21Naj/+elFdzM5Hts88FxIHJtk+Cfo1BZOa2B9dMalr7r9ra/vleXp7p7nZqqBnmEIimEIimGI4Kntk3dfg7qM0yv7GOwhvqtRlFiks4XqB3SXkWTz76fzyB2ddrGR0eVXynLrJ/YZxwqKYYjgYSprYyhIUlcuVCiST9baBqFpQXI+bcn0FQ+WT/Ktp2jLuq6Rlr+JSqBnGIJiGIJiGCJ4n9HdGUF9+EKnLOvhCJnOFvpnc4RBHN1PgE2YcvW/MTzr+oyTh2/umaFnGIJiGCJ4mGqM1ZsgEYp0mJgJWxXgu2bewvx5/e5ozpHLgZ5hCIphCIphiOB9RjxOPUaszqSzS0AOs+RqzKP5ZOyOW/6t0DMsQTEMET5MpSq1Ff4fa5N6aTTvvKOQNzEWxmIelw5T0RJSax/0DENQDENQDEPUntrK4Qk9+ayYW6mOoiH6EP2mcehS2wXTeSuBnmEIimGI2pcEyPRVTzqAtFelmfB0rs/TlxHLwWLdPrzBUifuPfZfuGLoGYagGIagGIYI32dkFSWJC/oJOFT0E4Ve+ixTa31rE88I8xKgZxiCYhii9tQW0ldt8oUieewRQpYGU128UDEN8dztoGcYgmIYgmIYInifUQyG+A9yNMIzHOKbnDDzhtB3rBrzgFRXZ70HnMR2bKEYhqAYhgjfZ2Tz1wE/66S1mfM8fY9Grt2At35RFEU5nzOOLRTDEOEnJKhR05mR0iWjR22bo7D7ZfqgZxiCYhiCYhgifJ/RwUW8U7E/cKJfrPnCuQz9+jhVlzNLdBost8SYrM3fzNK7GXFF0DMMQTEMEX5XnUf/QD2eXnAV75My1r1rNxQyNOlJbFnblZsDTHtDhCYJPcMQFMMQFMMQ4WeHKHzbR8i0U28O7LuGb/RXbx4pd4Zr79U7NELPMATFMISpMJV1MLWU+9zqKbJywpt3slsUeSe5eUcAAkPPMATFMATFMET9fYZINWOdvnrW9EFdn+dJl3X/Iq+z6HNBy4aeYQiKYYjaw9QJsf94qh6A4QlcnefbC933mR9fuGuEnVo7Az3DEBTDEBTDELX3GTDXNcbfRt6YH/zb+y7Y60/DpZ1E1T1bUgiTvk5o6BmGoBiGqD1M6Q0cJZ1dl9vqzy70z7tbl1+hjKIoWruP+eupB+4xf3gW/2R4In+OJcxVQM8wBMUwBMUwRO19hvxqZOdfjPX9LXd72x//DLY3Og/L8nrjKdjujF6C+s27b5flzW9xru+4J/4Lal6qQc8wBMUwRO1hKpm42JCtYG557aNbZfnqqXtgu9reLcu9RgdsF1q/Qv3ilZ2y/HnxAdg2vnPnTrr1/jbpGYagGIagGIYI/2m4Xg/qk9Oun/jwsx/B9jhzy7hu/v0O2L5K3eyzQXoCbOdW+1A/3XKv8L689APYvui/X5bXb7HPIP9DMQwRb8fXa33ubG6dL8u/ffIy2F795q+ynP3+RyXt5deuQH3vdbeObPPGL2ArxuMoJPQMQ1AMQ1AMQ/wHXZZSPwAsKAQAAAAASUVORK5CYII=\" id=\"imagebe75581907\" transform=\"scale(1 -1) translate(0 -71.28)\" x=\"177.758491\" y=\"-22.104163\" width=\"71.28\" height=\"71.28\"/>\n   </g>\n   <g id=\"patch_13\">\n    <path d=\"M 177.758491 93.384163 \nL 177.758491 22.318125 \n\" style=\"fill: none; stroke: #000000; stroke-width: 0.8; stroke-linejoin: miter; stroke-linecap: square\"/>\n   </g>\n   <g id=\"patch_14\">\n    <path d=\"M 248.824528 93.384163 \nL 248.824528 22.318125 \n\" style=\"fill: none; stroke: #000000; stroke-width: 0.8; stroke-linejoin: miter; stroke-linecap: square\"/>\n   </g>\n   <g id=\"patch_15\">\n    <path d=\"M 177.758491 93.384163 \nL 248.824528 93.384163 \n\" style=\"fill: none; stroke: #000000; stroke-width: 0.8; stroke-linejoin: miter; stroke-linecap: square\"/>\n   </g>\n   <g id=\"patch_16\">\n    <path d=\"M 177.758491 22.318125 \nL 248.824528 22.318125 \n\" style=\"fill: none; stroke: #000000; stroke-width: 0.8; stroke-linejoin: miter; stroke-linecap: square\"/>\n   </g>\n   <g id=\"text_3\">\n    <!-- t-shirt -->\n    <g transform=\"translate(195.360884 16.318125) scale(0.12 -0.12)\">\n     <use xlink:href=\"#DejaVuSans-74\"/>\n     <use xlink:href=\"#DejaVuSans-2d\" x=\"39.208984\"/>\n     <use xlink:href=\"#DejaVuSans-73\" x=\"75.292969\"/>\n     <use xlink:href=\"#DejaVuSans-68\" x=\"127.392578\"/>\n     <use xlink:href=\"#DejaVuSans-69\" x=\"190.771484\"/>\n     <use xlink:href=\"#DejaVuSans-72\" x=\"218.554688\"/>\n     <use xlink:href=\"#DejaVuSans-74\" x=\"259.667969\"/>\n    </g>\n   </g>\n  </g>\n  <g id=\"axes_4\">\n   <g id=\"patch_17\">\n    <path d=\"M 263.037736 93.384163 \nL 334.103774 93.384163 \nL 334.103774 22.318125 \nL 263.037736 22.318125 \nz\n\" style=\"fill: #ffffff\"/>\n   </g>\n   <g clip-path=\"url(#pe204b7b5ad)\">\n    <image xlink:href=\"data:image/png;base64,\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\" id=\"imagef6bb35a139\" transform=\"scale(1 -1) translate(0 -71.28)\" x=\"263.037736\" y=\"-22.104163\" width=\"71.28\" height=\"71.28\"/>\n   </g>\n   <g id=\"patch_18\">\n    <path d=\"M 263.037736 93.384163 \nL 263.037736 22.318125 \n\" style=\"fill: none; stroke: #000000; stroke-width: 0.8; stroke-linejoin: miter; stroke-linecap: square\"/>\n   </g>\n   <g id=\"patch_19\">\n    <path d=\"M 334.103774 93.384163 \nL 334.103774 22.318125 \n\" style=\"fill: none; stroke: #000000; stroke-width: 0.8; stroke-linejoin: miter; stroke-linecap: square\"/>\n   </g>\n   <g id=\"patch_20\">\n    <path d=\"M 263.037736 93.384163 \nL 334.103774 93.384163 \n\" style=\"fill: none; stroke: #000000; stroke-width: 0.8; stroke-linejoin: miter; stroke-linecap: square\"/>\n   </g>\n   <g id=\"patch_21\">\n    <path d=\"M 263.037736 22.318125 \nL 334.103774 22.318125 \n\" style=\"fill: none; stroke: #000000; stroke-width: 0.8; stroke-linejoin: miter; stroke-linecap: square\"/>\n   </g>\n   <g id=\"text_4\">\n    <!-- dress -->\n    <g transform=\"translate(282.487005 16.318125) scale(0.12 -0.12)\">\n     <defs>\n      <path id=\"DejaVuSans-64\" d=\"M 2906 2969 \nL 2906 4863 \nL 3481 4863 \nL 3481 0 \nL 2906 0 \nL 2906 525 \nQ 2725 213 2448 61 \nQ 2172 -91 1784 -91 \nQ 1150 -91 751 415 \nQ 353 922 353 1747 \nQ 353 2572 751 3078 \nQ 1150 3584 1784 3584 \nQ 2172 3584 2448 3432 \nQ 2725 3281 2906 2969 \nz\nM 947 1747 \nQ 947 1113 1208 752 \nQ 1469 391 1925 391 \nQ 2381 391 2643 752 \nQ 2906 1113 2906 1747 \nQ 2906 2381 2643 2742 \nQ 2381 3103 1925 3103 \nQ 1469 3103 1208 2742 \nQ 947 2381 947 1747 \nz\n\" transform=\"scale(0.015625)\"/>\n     </defs>\n     <use xlink:href=\"#DejaVuSans-64\"/>\n     <use xlink:href=\"#DejaVuSans-72\" x=\"63.476562\"/>\n     <use xlink:href=\"#DejaVuSans-65\" x=\"102.339844\"/>\n     <use xlink:href=\"#DejaVuSans-73\" x=\"163.863281\"/>\n     <use xlink:href=\"#DejaVuSans-73\" x=\"215.962891\"/>\n    </g>\n   </g>\n  </g>\n  <g id=\"axes_5\">\n   <g id=\"patch_22\">\n    <path d=\"M 348.316981 93.384163 \nL 419.383019 93.384163 \nL 419.383019 22.318125 \nL 348.316981 22.318125 \nz\n\" style=\"fill: #ffffff\"/>\n   </g>\n   <g clip-path=\"url(#pab5181fef7)\">\n    <image xlink:href=\"data:image/png;base64,\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\" id=\"image7067c8b95f\" transform=\"scale(1 -1) translate(0 -71.28)\" x=\"348.316981\" y=\"-22.104163\" width=\"71.28\" height=\"71.28\"/>\n   </g>\n   <g id=\"patch_23\">\n    <path d=\"M 348.316981 93.384163 \nL 348.316981 22.318125 \n\" style=\"fill: none; stroke: #000000; stroke-width: 0.8; stroke-linejoin: miter; stroke-linecap: square\"/>\n   </g>\n   <g id=\"patch_24\">\n    <path d=\"M 419.383019 93.384163 \nL 419.383019 22.318125 \n\" style=\"fill: none; stroke: #000000; stroke-width: 0.8; stroke-linejoin: miter; stroke-linecap: square\"/>\n   </g>\n   <g id=\"patch_25\">\n    <path d=\"M 348.316981 93.384163 \nL 419.383019 93.384163 \n\" style=\"fill: none; stroke: #000000; stroke-width: 0.8; stroke-linejoin: miter; stroke-linecap: square\"/>\n   </g>\n   <g id=\"patch_26\">\n    <path d=\"M 348.316981 22.318125 \nL 419.383019 22.318125 \n\" style=\"fill: none; stroke: #000000; stroke-width: 0.8; stroke-linejoin: miter; stroke-linecap: square\"/>\n   </g>\n   <g id=\"text_5\">\n    <!-- t-shirt -->\n    <g transform=\"translate(365.919375 16.318125) scale(0.12 -0.12)\">\n     <use xlink:href=\"#DejaVuSans-74\"/>\n     <use xlink:href=\"#DejaVuSans-2d\" x=\"39.208984\"/>\n     <use xlink:href=\"#DejaVuSans-73\" x=\"75.292969\"/>\n     <use xlink:href=\"#DejaVuSans-68\" x=\"127.392578\"/>\n     <use xlink:href=\"#DejaVuSans-69\" x=\"190.771484\"/>\n     <use xlink:href=\"#DejaVuSans-72\" x=\"218.554688\"/>\n     <use xlink:href=\"#DejaVuSans-74\" x=\"259.667969\"/>\n    </g>\n   </g>\n  </g>\n  <g id=\"axes_6\">\n   <g id=\"patch_27\">\n    <path d=\"M 433.596226 93.384163 \nL 504.662264 93.384163 \nL 504.662264 22.318125 \nL 433.596226 22.318125 \nz\n\" style=\"fill: #ffffff\"/>\n   </g>\n   <g clip-path=\"url(#p9561b9e5b2)\">\n    <image xlink:href=\"data:image/png;base64,\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\" id=\"image7b98a30dbc\" transform=\"scale(1 -1) translate(0 -71.28)\" x=\"433.596226\" y=\"-22.104163\" width=\"71.28\" height=\"71.28\"/>\n   </g>\n   <g id=\"patch_28\">\n    <path d=\"M 433.596226 93.384163 \nL 433.596226 22.318125 \n\" style=\"fill: none; stroke: #000000; stroke-width: 0.8; stroke-linejoin: miter; stroke-linecap: square\"/>\n   </g>\n   <g id=\"patch_29\">\n    <path d=\"M 504.662264 93.384163 \nL 504.662264 22.318125 \n\" style=\"fill: none; stroke: #000000; stroke-width: 0.8; stroke-linejoin: miter; stroke-linecap: square\"/>\n   </g>\n   <g id=\"patch_30\">\n    <path d=\"M 433.596226 93.384163 \nL 504.662264 93.384163 \n\" style=\"fill: none; stroke: #000000; stroke-width: 0.8; stroke-linejoin: miter; stroke-linecap: square\"/>\n   </g>\n   <g id=\"patch_31\">\n    <path d=\"M 433.596226 22.318125 \nL 504.662264 22.318125 \n\" style=\"fill: none; stroke: #000000; stroke-width: 0.8; stroke-linejoin: miter; stroke-linecap: square\"/>\n   </g>\n   <g id=\"text_6\">\n    <!-- pullover -->\n    <g transform=\"translate(444.802995 16.318125) scale(0.12 -0.12)\">\n     <defs>\n      <path id=\"DejaVuSans-70\" d=\"M 1159 525 \nL 1159 -1331 \nL 581 -1331 \nL 581 3500 \nL 1159 3500 \nL 1159 2969 \nQ 1341 3281 1617 3432 \nQ 1894 3584 2278 3584 \nQ 2916 3584 3314 3078 \nQ 3713 2572 3713 1747 \nQ 3713 922 3314 415 \nQ 2916 -91 2278 -91 \nQ 1894 -91 1617 61 \nQ 1341 213 1159 525 \nz\nM 3116 1747 \nQ 3116 2381 2855 2742 \nQ 2594 3103 2138 3103 \nQ 1681 3103 1420 2742 \nQ 1159 2381 1159 1747 \nQ 1159 1113 1420 752 \nQ 1681 391 2138 391 \nQ 2594 391 2855 752 \nQ 3116 1113 3116 1747 \nz\n\" transform=\"scale(0.015625)\"/>\n      <path id=\"DejaVuSans-75\" d=\"M 544 1381 \nL 544 3500 \nL 1119 3500 \nL 1119 1403 \nQ 1119 906 1312 657 \nQ 1506 409 1894 409 \nQ 2359 409 2629 706 \nQ 2900 1003 2900 1516 \nL 2900 3500 \nL 3475 3500 \nL 3475 0 \nL 2900 0 \nL 2900 538 \nQ 2691 219 2414 64 \nQ 2138 -91 1772 -91 \nQ 1169 -91 856 284 \nQ 544 659 544 1381 \nz\nM 1991 3584 \nL 1991 3584 \nz\n\" transform=\"scale(0.015625)\"/>\n      <path id=\"DejaVuSans-76\" d=\"M 191 3500 \nL 800 3500 \nL 1894 563 \nL 2988 3500 \nL 3597 3500 \nL 2284 0 \nL 1503 0 \nL 191 3500 \nz\n\" transform=\"scale(0.015625)\"/>\n     </defs>\n     <use xlink:href=\"#DejaVuSans-70\"/>\n     <use xlink:href=\"#DejaVuSans-75\" x=\"63.476562\"/>\n     <use xlink:href=\"#DejaVuSans-6c\" x=\"126.855469\"/>\n     <use xlink:href=\"#DejaVuSans-6c\" x=\"154.638672\"/>\n     <use xlink:href=\"#DejaVuSans-6f\" x=\"182.421875\"/>\n     <use xlink:href=\"#DejaVuSans-76\" x=\"243.603516\"/>\n     <use xlink:href=\"#DejaVuSans-65\" x=\"302.783203\"/>\n     <use xlink:href=\"#DejaVuSans-72\" x=\"364.306641\"/>\n    </g>\n   </g>\n  </g>\n  <g id=\"axes_7\">\n   <g id=\"patch_32\">\n    <path d=\"M 518.875472 93.384163 \nL 589.941509 93.384163 \nL 589.941509 22.318125 \nL 518.875472 22.318125 \nz\n\" style=\"fill: #ffffff\"/>\n   </g>\n   <g clip-path=\"url(#p56b92ba629)\">\n    <image xlink:href=\"data:image/png;base64,\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\" id=\"image56b9d29c19\" transform=\"scale(1 -1) translate(0 -71.28)\" x=\"518.875472\" y=\"-22.104163\" width=\"71.28\" height=\"71.28\"/>\n   </g>\n   <g id=\"patch_33\">\n    <path d=\"M 518.875472 93.384163 \nL 518.875472 22.318125 \n\" style=\"fill: none; stroke: #000000; stroke-width: 0.8; stroke-linejoin: miter; stroke-linecap: square\"/>\n   </g>\n   <g id=\"patch_34\">\n    <path d=\"M 589.941509 93.384163 \nL 589.941509 22.318125 \n\" style=\"fill: none; stroke: #000000; stroke-width: 0.8; stroke-linejoin: miter; stroke-linecap: square\"/>\n   </g>\n   <g id=\"patch_35\">\n    <path d=\"M 518.875472 93.384163 \nL 589.941509 93.384163 \n\" style=\"fill: none; stroke: #000000; stroke-width: 0.8; stroke-linejoin: miter; stroke-linecap: square\"/>\n   </g>\n   <g id=\"patch_36\">\n    <path d=\"M 518.875472 22.318125 \nL 589.941509 22.318125 \n\" style=\"fill: none; stroke: #000000; stroke-width: 0.8; stroke-linejoin: miter; stroke-linecap: square\"/>\n   </g>\n   <g id=\"text_7\">\n    <!-- sneaker -->\n    <g transform=\"translate(530.696303 16.318125) scale(0.12 -0.12)\">\n     <use xlink:href=\"#DejaVuSans-73\"/>\n     <use xlink:href=\"#DejaVuSans-6e\" x=\"52.099609\"/>\n     <use xlink:href=\"#DejaVuSans-65\" x=\"115.478516\"/>\n     <use xlink:href=\"#DejaVuSans-61\" x=\"177.001953\"/>\n     <use xlink:href=\"#DejaVuSans-6b\" x=\"238.28125\"/>\n     <use xlink:href=\"#DejaVuSans-65\" x=\"292.566406\"/>\n     <use xlink:href=\"#DejaVuSans-72\" x=\"354.089844\"/>\n    </g>\n   </g>\n  </g>\n  <g id=\"axes_8\">\n   <g id=\"patch_37\">\n    <path d=\"M 604.154717 93.384163 \nL 675.220755 93.384163 \nL 675.220755 22.318125 \nL 604.154717 22.318125 \nz\n\" style=\"fill: #ffffff\"/>\n   </g>\n   <g clip-path=\"url(#pb3c61140f0)\">\n    <image xlink:href=\"data:image/png;base64,\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\" id=\"image43f01068b0\" transform=\"scale(1 -1) translate(0 -71.28)\" x=\"604.154717\" y=\"-22.104163\" width=\"71.28\" height=\"71.28\"/>\n   </g>\n   <g id=\"patch_38\">\n    <path d=\"M 604.154717 93.384163 \nL 604.154717 22.318125 \n\" style=\"fill: none; stroke: #000000; stroke-width: 0.8; stroke-linejoin: miter; stroke-linecap: square\"/>\n   </g>\n   <g id=\"patch_39\">\n    <path d=\"M 675.220755 93.384163 \nL 675.220755 22.318125 \n\" style=\"fill: none; stroke: #000000; stroke-width: 0.8; stroke-linejoin: miter; stroke-linecap: square\"/>\n   </g>\n   <g id=\"patch_40\">\n    <path d=\"M 604.154717 93.384163 \nL 675.220755 93.384163 \n\" style=\"fill: none; stroke: #000000; stroke-width: 0.8; stroke-linejoin: miter; stroke-linecap: square\"/>\n   </g>\n   <g id=\"patch_41\">\n    <path d=\"M 604.154717 22.318125 \nL 675.220755 22.318125 \n\" style=\"fill: none; stroke: #000000; stroke-width: 0.8; stroke-linejoin: miter; stroke-linecap: square\"/>\n   </g>\n   <g id=\"text_8\">\n    <!-- pullover -->\n    <g transform=\"translate(615.361486 16.318125) scale(0.12 -0.12)\">\n     <use xlink:href=\"#DejaVuSans-70\"/>\n     <use xlink:href=\"#DejaVuSans-75\" x=\"63.476562\"/>\n     <use xlink:href=\"#DejaVuSans-6c\" x=\"126.855469\"/>\n     <use xlink:href=\"#DejaVuSans-6c\" x=\"154.638672\"/>\n     <use xlink:href=\"#DejaVuSans-6f\" x=\"182.421875\"/>\n     <use xlink:href=\"#DejaVuSans-76\" x=\"243.603516\"/>\n     <use xlink:href=\"#DejaVuSans-65\" x=\"302.783203\"/>\n     <use xlink:href=\"#DejaVuSans-72\" x=\"364.306641\"/>\n    </g>\n   </g>\n  </g>\n  <g id=\"axes_9\">\n   <g id=\"patch_42\">\n    <path d=\"M 689.433962 93.384163 \nL 760.5 93.384163 \nL 760.5 22.318125 \nL 689.433962 22.318125 \nz\n\" style=\"fill: #ffffff\"/>\n   </g>\n   <g clip-path=\"url(#pc8b570443c)\">\n    <image xlink:href=\"data:image/png;base64,\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\" id=\"imagebff28418e4\" transform=\"scale(1 -1) translate(0 -71.28)\" x=\"689.433962\" y=\"-22.104163\" width=\"71.28\" height=\"71.28\"/>\n   </g>\n   <g id=\"patch_43\">\n    <path d=\"M 689.433962 93.384163 \nL 689.433962 22.318125 \n\" style=\"fill: none; stroke: #000000; stroke-width: 0.8; stroke-linejoin: miter; stroke-linecap: square\"/>\n   </g>\n   <g id=\"patch_44\">\n    <path d=\"M 760.5 93.384163 \nL 760.5 22.318125 \n\" style=\"fill: none; stroke: #000000; stroke-width: 0.8; stroke-linejoin: miter; stroke-linecap: square\"/>\n   </g>\n   <g id=\"patch_45\">\n    <path d=\"M 689.433962 93.384163 \nL 760.5 93.384163 \n\" style=\"fill: none; stroke: #000000; stroke-width: 0.8; stroke-linejoin: miter; stroke-linecap: square\"/>\n   </g>\n   <g id=\"patch_46\">\n    <path d=\"M 689.433962 22.318125 \nL 760.5 22.318125 \n\" style=\"fill: none; stroke: #000000; stroke-width: 0.8; stroke-linejoin: miter; stroke-linecap: square\"/>\n   </g>\n   <g id=\"text_9\">\n    <!-- sandal -->\n    <g transform=\"translate(705.209169 16.318125) scale(0.12 -0.12)\">\n     <use xlink:href=\"#DejaVuSans-73\"/>\n     <use xlink:href=\"#DejaVuSans-61\" x=\"52.099609\"/>\n     <use xlink:href=\"#DejaVuSans-6e\" x=\"113.378906\"/>\n     <use xlink:href=\"#DejaVuSans-64\" x=\"176.757812\"/>\n     <use xlink:href=\"#DejaVuSans-61\" x=\"240.234375\"/>\n     <use xlink:href=\"#DejaVuSans-6c\" x=\"301.513672\"/>\n    </g>\n   </g>\n  </g>\n  <g id=\"axes_10\">\n   <g id=\"patch_47\">\n    <path d=\"M 7.2 184.104163 \nL 78.266038 184.104163 \nL 78.266038 113.038125 \nL 7.2 113.038125 \nz\n\" style=\"fill: #ffffff\"/>\n   </g>\n   <g clip-path=\"url(#pf2b943b0ed)\">\n    <image xlink:href=\"data:image/png;base64,\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\" id=\"image95e7f12bb3\" transform=\"scale(1 -1) translate(0 -71.28)\" x=\"7.2\" y=\"-112.824163\" width=\"71.28\" height=\"71.28\"/>\n   </g>\n   <g id=\"patch_48\">\n    <path d=\"M 7.2 184.104163 \nL 7.2 113.038125 \n\" style=\"fill: none; stroke: #000000; stroke-width: 0.8; stroke-linejoin: miter; stroke-linecap: square\"/>\n   </g>\n   <g id=\"patch_49\">\n    <path d=\"M 78.266038 184.104163 \nL 78.266038 113.038125 \n\" style=\"fill: none; stroke: #000000; stroke-width: 0.8; stroke-linejoin: miter; stroke-linecap: square\"/>\n   </g>\n   <g id=\"patch_50\">\n    <path d=\"M 7.2 184.104163 \nL 78.266038 184.104163 \n\" style=\"fill: none; stroke: #000000; stroke-width: 0.8; stroke-linejoin: miter; stroke-linecap: square\"/>\n   </g>\n   <g id=\"patch_51\">\n    <path d=\"M 7.2 113.038125 \nL 78.266038 113.038125 \n\" style=\"fill: none; stroke: #000000; stroke-width: 0.8; stroke-linejoin: miter; stroke-linecap: square\"/>\n   </g>\n   <g id=\"text_10\">\n    <!-- sandal -->\n    <g transform=\"translate(22.975206 107.038125) scale(0.12 -0.12)\">\n     <use xlink:href=\"#DejaVuSans-73\"/>\n     <use xlink:href=\"#DejaVuSans-61\" x=\"52.099609\"/>\n     <use xlink:href=\"#DejaVuSans-6e\" x=\"113.378906\"/>\n     <use xlink:href=\"#DejaVuSans-64\" x=\"176.757812\"/>\n     <use xlink:href=\"#DejaVuSans-61\" x=\"240.234375\"/>\n     <use xlink:href=\"#DejaVuSans-6c\" x=\"301.513672\"/>\n    </g>\n   </g>\n  </g>\n  <g id=\"axes_11\">\n   <g id=\"patch_52\">\n    <path d=\"M 92.479245 184.104163 \nL 163.545283 184.104163 \nL 163.545283 113.038125 \nL 92.479245 113.038125 \nz\n\" style=\"fill: #ffffff\"/>\n   </g>\n   <g clip-path=\"url(#p34f991490b)\">\n    <image xlink:href=\"data:image/png;base64,\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\" id=\"image9b1281e13f\" transform=\"scale(1 -1) translate(0 -71.28)\" x=\"92.479245\" y=\"-112.824163\" width=\"71.28\" height=\"71.28\"/>\n   </g>\n   <g id=\"patch_53\">\n    <path d=\"M 92.479245 184.104163 \nL 92.479245 113.038125 \n\" style=\"fill: none; stroke: #000000; stroke-width: 0.8; stroke-linejoin: miter; stroke-linecap: square\"/>\n   </g>\n   <g id=\"patch_54\">\n    <path d=\"M 163.545283 184.104163 \nL 163.545283 113.038125 \n\" style=\"fill: none; stroke: #000000; stroke-width: 0.8; stroke-linejoin: miter; stroke-linecap: square\"/>\n   </g>\n   <g id=\"patch_55\">\n    <path d=\"M 92.479245 184.104163 \nL 163.545283 184.104163 \n\" style=\"fill: none; stroke: #000000; stroke-width: 0.8; stroke-linejoin: miter; stroke-linecap: square\"/>\n   </g>\n   <g id=\"patch_56\">\n    <path d=\"M 92.479245 113.038125 \nL 163.545283 113.038125 \n\" style=\"fill: none; stroke: #000000; stroke-width: 0.8; stroke-linejoin: miter; stroke-linecap: square\"/>\n   </g>\n   <g id=\"text_11\">\n    <!-- t-shirt -->\n    <g transform=\"translate(110.081639 107.038125) scale(0.12 -0.12)\">\n     <use xlink:href=\"#DejaVuSans-74\"/>\n     <use xlink:href=\"#DejaVuSans-2d\" x=\"39.208984\"/>\n     <use xlink:href=\"#DejaVuSans-73\" x=\"75.292969\"/>\n     <use xlink:href=\"#DejaVuSans-68\" x=\"127.392578\"/>\n     <use xlink:href=\"#DejaVuSans-69\" x=\"190.771484\"/>\n     <use xlink:href=\"#DejaVuSans-72\" x=\"218.554688\"/>\n     <use xlink:href=\"#DejaVuSans-74\" x=\"259.667969\"/>\n    </g>\n   </g>\n  </g>\n  <g id=\"axes_12\">\n   <g id=\"patch_57\">\n    <path d=\"M 177.758491 184.104163 \nL 248.824528 184.104163 \nL 248.824528 113.038125 \nL 177.758491 113.038125 \nz\n\" style=\"fill: #ffffff\"/>\n   </g>\n   <g clip-path=\"url(#p6e5d62d2b4)\">\n    <image xlink:href=\"data:image/png;base64,\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\" id=\"image85d45f5432\" transform=\"scale(1 -1) translate(0 -71.28)\" x=\"177.758491\" y=\"-112.824163\" width=\"71.28\" height=\"71.28\"/>\n   </g>\n   <g id=\"patch_58\">\n    <path d=\"M 177.758491 184.104163 \nL 177.758491 113.038125 \n\" style=\"fill: none; stroke: #000000; stroke-width: 0.8; stroke-linejoin: miter; stroke-linecap: square\"/>\n   </g>\n   <g id=\"patch_59\">\n    <path d=\"M 248.824528 184.104163 \nL 248.824528 113.038125 \n\" style=\"fill: none; stroke: #000000; stroke-width: 0.8; stroke-linejoin: miter; stroke-linecap: square\"/>\n   </g>\n   <g id=\"patch_60\">\n    <path d=\"M 177.758491 184.104163 \nL 248.824528 184.104163 \n\" style=\"fill: none; stroke: #000000; stroke-width: 0.8; stroke-linejoin: miter; stroke-linecap: square\"/>\n   </g>\n   <g id=\"patch_61\">\n    <path d=\"M 177.758491 113.038125 \nL 248.824528 113.038125 \n\" style=\"fill: none; stroke: #000000; stroke-width: 0.8; stroke-linejoin: miter; stroke-linecap: square\"/>\n   </g>\n   <g id=\"text_12\">\n    <!-- ankle boot -->\n    <g transform=\"translate(181.568384 107.038125) scale(0.12 -0.12)\">\n     <use xlink:href=\"#DejaVuSans-61\"/>\n     <use xlink:href=\"#DejaVuSans-6e\" x=\"61.279297\"/>\n     <use xlink:href=\"#DejaVuSans-6b\" x=\"124.658203\"/>\n     <use xlink:href=\"#DejaVuSans-6c\" x=\"182.568359\"/>\n     <use xlink:href=\"#DejaVuSans-65\" x=\"210.351562\"/>\n     <use xlink:href=\"#DejaVuSans-20\" x=\"271.875\"/>\n     <use xlink:href=\"#DejaVuSans-62\" x=\"303.662109\"/>\n     <use xlink:href=\"#DejaVuSans-6f\" x=\"367.138672\"/>\n     <use xlink:href=\"#DejaVuSans-6f\" x=\"428.320312\"/>\n     <use xlink:href=\"#DejaVuSans-74\" x=\"489.501953\"/>\n    </g>\n   </g>\n  </g>\n  <g id=\"axes_13\">\n   <g id=\"patch_62\">\n    <path d=\"M 263.037736 184.104163 \nL 334.103774 184.104163 \nL 334.103774 113.038125 \nL 263.037736 113.038125 \nz\n\" style=\"fill: #ffffff\"/>\n   </g>\n   <g clip-path=\"url(#p4ad6aecd45)\">\n    <image xlink:href=\"data:image/png;base64,\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\" id=\"image505cc94b77\" transform=\"scale(1 -1) translate(0 -71.28)\" x=\"263.037736\" y=\"-112.824163\" width=\"71.28\" height=\"71.28\"/>\n   </g>\n   <g id=\"patch_63\">\n    <path d=\"M 263.037736 184.104163 \nL 263.037736 113.038125 \n\" style=\"fill: none; stroke: #000000; stroke-width: 0.8; stroke-linejoin: miter; stroke-linecap: square\"/>\n   </g>\n   <g id=\"patch_64\">\n    <path d=\"M 334.103774 184.104163 \nL 334.103774 113.038125 \n\" style=\"fill: none; stroke: #000000; stroke-width: 0.8; stroke-linejoin: miter; stroke-linecap: square\"/>\n   </g>\n   <g id=\"patch_65\">\n    <path d=\"M 263.037736 184.104163 \nL 334.103774 184.104163 \n\" style=\"fill: none; stroke: #000000; stroke-width: 0.8; stroke-linejoin: miter; stroke-linecap: square\"/>\n   </g>\n   <g id=\"patch_66\">\n    <path d=\"M 263.037736 113.038125 \nL 334.103774 113.038125 \n\" style=\"fill: none; stroke: #000000; stroke-width: 0.8; stroke-linejoin: miter; stroke-linecap: square\"/>\n   </g>\n   <g id=\"text_13\">\n    <!-- sandal -->\n    <g transform=\"translate(278.812942 107.038125) scale(0.12 -0.12)\">\n     <use xlink:href=\"#DejaVuSans-73\"/>\n     <use xlink:href=\"#DejaVuSans-61\" x=\"52.099609\"/>\n     <use xlink:href=\"#DejaVuSans-6e\" x=\"113.378906\"/>\n     <use xlink:href=\"#DejaVuSans-64\" x=\"176.757812\"/>\n     <use xlink:href=\"#DejaVuSans-61\" x=\"240.234375\"/>\n     <use xlink:href=\"#DejaVuSans-6c\" x=\"301.513672\"/>\n    </g>\n   </g>\n  </g>\n  <g id=\"axes_14\">\n   <g id=\"patch_67\">\n    <path d=\"M 348.316981 184.104163 \nL 419.383019 184.104163 \nL 419.383019 113.038125 \nL 348.316981 113.038125 \nz\n\" style=\"fill: #ffffff\"/>\n   </g>\n   <g clip-path=\"url(#pbd3bff8509)\">\n    <image xlink:href=\"data:image/png;base64,\niVBORw0KGgoAAAANSUhEUgAAAGMAAABjCAYAAACPO76VAAAF20lEQVR4nO2bS2wbVRSG5874EduxnTikebWkSZqUFoEEAhEiioSEKpCqQiXoY4UEbApb1ogFErBBCCRgwYYFj0qIFRKsQCzaojRURVStkjhp6jZNlDRtbdmOH/Ngd8/9pzgiVkXP4nyrM/5n5t749733zJkb9bx6JbAEFtj3uwMCIWYwQsxghJjBCDGDEWIGI8QMRogZjBAzGCFmMELMYISYwQgxgxFiBiPEDEaIGYwQMxghZjBCzGCEmMEIMYMRYgYjxAxGiBmMEDMYIWYwQsxgRKTdC1UEL7U7U6RlM6D52ZRxIvrf7O4gqebhdXGH7hngluBaLqbjIPST6ixUsW/VBp0bdUBzO+k+9Z4YaH5E6dhpYPuNNDWqsNtWvEgfRMpN0GILq9T2yipoMjIYIWYwQsxgRMTp2wEfrB4Z03F1EE/2jSm1Y12BpnyK3Q6QrGaa5ttmLjzB0nEsifOybdN8+9zuedBOL4/oOJuogeZFXDw272lhG46i43d2/QbabH1Ax/kqfk++sVClInWrFT/n98Pxvn5qL3hzFDQZGYwQMxihDhz6CMbt1Zcpjq1h+hor0tRUy+Fwd3toarATOE0kUzSMu5OboHmBkT4qvGdxk+a75KksaGbaabt4XTPVegq1sWuQsioP72NeV8/i77aRpjb8KN7TPLYxs7VqD1AbE19cB01GBiPEDEaIGYxQ7f7r8fynT+EHXc1/P9GyrL7eoo4rdSw5lK9R6STej2WMqV1XdHx9stzy/iqK97RHH4RjN0flmPJwArSGsb5UB3CtSa7QV5NdaoAWu0l9tUvYb6tB30VQw7RbpTupX0sF7LclsEHMYETbVdveGfQxuUbVUDPttCzLUl6O4ixWTRMxOrfjFk4hvx6ip9cJa7plX4ImTiHebB7bN+L02Za3sWLHJ+H4zMdf6vjw/AugHes/p+MLFZwWfSNdv3gHyxi3jHS950hoem3dNeH/RsxghJjBiIhl4xxuBUYNIGid9ZaHcF1Ym6LjzGVciswSwPiBJdTeo8ro8rOhcm+E1gI7mQTJr1I6GX7rGHihyrD5dyjVUkt//wdIEy+9puPRvpugnVp9Usc7k3dAG0ms67jUietgqRHXsb1nGDQZGYwQMxghZjAiYvlea3WL+XXnB2dAah58Qse1nA9a/2EqFed/HwFtbHZRx0MKc/Kjn/+i4x8eO4hdO33BOAj9poJQnRy0/1792f0Zxfm3Q2/6mtTmpegAaMPG29NUFJ+B6k1a3zaHcReNjAxGiBmMaLtqe1dKbE53IU09vk/HwcxF0PbO0Gux2bceAs1NU7nAqeLUo87+ta3u6vtssQHj9qM4ZfcO39ZxqYJpd/Ynqr5mrmJltjJA6Wv5eBG0TAe99Yx+0gOajAxGiBmMEDMY0f6aEU57jfRS2agFbutUs3SCytYDJxdAW/5qj44bGbxncZzS5/AODK871J7xFzrJ0Aa3Mq1Z0Q0sqzh1arM+gutC/AqtISPf4AZm5VHf5t7vAs0sqzgn46DJyGCEmMGItt/03fUkG1BaGPihc81UN/TEn/mOKqWVhUdA2zhGbdiD+NI/KBtvyYqYSkfXcVeZU6PpRrn4ds1LUBvREk6F9W5jX6yPmmvsC86/0Qfa2LeUEgfLWLW9kaCn7sG5S6DJyGCEmMEIMYMR7a8Z22GLyrC5AS2Y/hu0MWNDSPlV3DTXNX1Dx24BNxBvvI67PDYmKfdVNfz9je9f1vFcAef+7HlKPft+xOqrNf2nDp2H94J07UWjzDGEa12lgJVaExkZjBAzGNH+E/g964GRMm7jxU/h3Skd7ziPT9WJlQocrzxD/9uRXMe8u/vcmo69+UXrXrP44dPY3mUj/hp31MnIYISYwQgxgxH3f80QNDIyGCFmMELMYISYwQgxgxFiBiPEDEaIGYwQMxghZjBCzGCEmMEIMYMRYgYjxAxGiBmMEDMYIWYwQsxghJjBCDGDEWIGI8QMRogZjBAzGCFmMELMYMQ/kVN7dR+UamQAAAAASUVORK5CYII=\" id=\"image2c4ac101f6\" transform=\"scale(1 -1) translate(0 -71.28)\" x=\"348.316981\" y=\"-112.824163\" width=\"71.28\" height=\"71.28\"/>\n   </g>\n   <g id=\"patch_68\">\n    <path d=\"M 348.316981 184.104163 \nL 348.316981 113.038125 \n\" style=\"fill: none; stroke: #000000; stroke-width: 0.8; stroke-linejoin: miter; stroke-linecap: square\"/>\n   </g>\n   <g id=\"patch_69\">\n    <path d=\"M 419.383019 184.104163 \nL 419.383019 113.038125 \n\" style=\"fill: none; stroke: #000000; stroke-width: 0.8; stroke-linejoin: miter; stroke-linecap: square\"/>\n   </g>\n   <g id=\"patch_70\">\n    <path d=\"M 348.316981 184.104163 \nL 419.383019 184.104163 \n\" style=\"fill: none; stroke: #000000; stroke-width: 0.8; stroke-linejoin: miter; stroke-linecap: square\"/>\n   </g>\n   <g id=\"patch_71\">\n    <path d=\"M 348.316981 113.038125 \nL 419.383019 113.038125 \n\" style=\"fill: none; stroke: #000000; stroke-width: 0.8; stroke-linejoin: miter; stroke-linecap: square\"/>\n   </g>\n   <g id=\"text_14\">\n    <!-- sandal -->\n    <g transform=\"translate(364.092188 107.038125) scale(0.12 -0.12)\">\n     <use xlink:href=\"#DejaVuSans-73\"/>\n     <use xlink:href=\"#DejaVuSans-61\" x=\"52.099609\"/>\n     <use xlink:href=\"#DejaVuSans-6e\" x=\"113.378906\"/>\n     <use xlink:href=\"#DejaVuSans-64\" x=\"176.757812\"/>\n     <use xlink:href=\"#DejaVuSans-61\" x=\"240.234375\"/>\n     <use xlink:href=\"#DejaVuSans-6c\" x=\"301.513672\"/>\n    </g>\n   </g>\n  </g>\n  <g id=\"axes_15\">\n   <g id=\"patch_72\">\n    <path d=\"M 433.596226 184.104163 \nL 504.662264 184.104163 \nL 504.662264 113.038125 \nL 433.596226 113.038125 \nz\n\" style=\"fill: #ffffff\"/>\n   </g>\n   <g clip-path=\"url(#pfc002b3b5e)\">\n    <image xlink:href=\"data:image/png;base64,\niVBORw0KGgoAAAANSUhEUgAAAGMAAABjCAYAAACPO76VAAAEs0lEQVR4nO2cTW9UVRjH770zt9N5odCXqbRFwJiWigYTEcWXFbJgxcJI/ABuxI2JWxNdEYLxA5i4dOEHMF3JxhgFXxZqjKQ2IaZkSIzQaafjdKb35bggOc95TrkTRKh/zf+3eu48955zh1/Pc849tyU8Hb5mAgJB9G/fABEoAwjKAIIygKAMICgDCMoAgjKAoAwgKAMIygCCMoCgDCAoAwjKAIIygKAMICgDCMoAgjKAoAwgKAMIygCCMoCgDCAoAwjKAIIygKAMICgDCMoAoux/UJqalIOJfd7ZJYnTTKXCJLWxcc8LgiD0zlUY+fMQU63o63r9wv6CaMjPURTq4zC8+3lezpS8Np0+THVEpUws3zFM88LmTUn3nVfknzxurenuiu+S7DaUAURZlaUgCLJbt+XAjR8QYUWXoiCT8hPVajo1GMh1XqkJG/XiTtJUHZq+tJM7bd5J/vO/ovs7LbjfwkxOqBxHBhCUAQRlAFH2a/gf51+wcfsZXXvnHr23OWS9V1XHjVGp06dmflW5bib9j8e6/Zl43cb74w2VGw2Tu8ZBEARH4o5up9yw8cDoc3u5HNeiWOWuJ5K7ke5Vud+Spo0To5fyLhupngdfbizb+J0L51WOIwMIygCi3Hr1sPrgg7c/tvGbS2+o3NpX+20cb3oNbckCr+Kt9cKufLDUnC68bjDhPSk77Yyv6CfwpOo+OevrjNdM0pAPMm9lnToVNfdv3CEb9a6bcspd4nWYy3Flckulfp6btfH0FV2WOTKAoAwgKAOIcMf/qhM5y7TnnlSpzmOyTOtPaI/bYxKnNd1k3HXru76BZEzOrd3UtXfzhNRb09a7pvVVaWj+7IrKHaitq+MvPjkRFOGuPEveTsm2s5ot97zr6nLf/nwSb8j3GPHm1s5x2YlevNRVOY4MICgDCMoAYsebviB31vNXf1KpsatOHOniX3LeCprZpsp1H5fiu+XNNckeiTcW9fbL+NdSjNvH9HNGvyk1++m9LZVb+VM/y/Rmi58fIudxoTevt0qCUK5LR/TbvGzgvvX0nnPmnO9R0W0enZJni/ymnog4MoCgDCDC09E5PYZDx4/xXrQ/gLdiPqUn5m3cuqirZimS/tstvWsar0uZqLR1mYg39X2aM20bdzp6RznvS58jv+v+K2vSbuRVsM6ClM36Ab1+7d6St5CfvvKRyn3ZW7Dx5af2qBxHBhCUAQRlAFHeMQ+YIb9wNoxhvyg2ZK7JrslWxszren87O3nUxp2z+ucmPyjbCvnCtspV63rb+vY3svVv9ul58OBlOR797Erhffo84sTpqeMqd+bD7218qKzv5a3rz9q4GSyrHEcGEJQBxM5d24feo/827/66j44t2nj1fb0b0F/VS8aXTv5i428/1zvRh96799J0P9x490V1PP2DrJErS9+pHEcGEJQBBGUAsftzxm7gzUvdc8/beGxZ/zJc/uO1wusexvbPMDgygKAMIP6fZeo/CkcGEJQBBGUAQRlAUAYQlAEEZQBBGUBQBhCUAQRlAEEZQFAGEJQBBGUAQRlAUAYQlAEEZQBBGUBQBhCUAQRlAEEZQFAGEJQBBGUAQRlAUAYQlAEEZQDxF4s3GsdfThmkAAAAAElFTkSuQmCC\" id=\"imagec07a2a785d\" transform=\"scale(1 -1) translate(0 -71.28)\" x=\"433.596226\" y=\"-112.824163\" width=\"71.28\" height=\"71.28\"/>\n   </g>\n   <g id=\"patch_73\">\n    <path d=\"M 433.596226 184.104163 \nL 433.596226 113.038125 \n\" style=\"fill: none; stroke: #000000; stroke-width: 0.8; stroke-linejoin: miter; stroke-linecap: square\"/>\n   </g>\n   <g id=\"patch_74\">\n    <path d=\"M 504.662264 184.104163 \nL 504.662264 113.038125 \n\" style=\"fill: none; stroke: #000000; stroke-width: 0.8; stroke-linejoin: miter; stroke-linecap: square\"/>\n   </g>\n   <g id=\"patch_75\">\n    <path d=\"M 433.596226 184.104163 \nL 504.662264 184.104163 \n\" style=\"fill: none; stroke: #000000; stroke-width: 0.8; stroke-linejoin: miter; stroke-linecap: square\"/>\n   </g>\n   <g id=\"patch_76\">\n    <path d=\"M 433.596226 113.038125 \nL 504.662264 113.038125 \n\" style=\"fill: none; stroke: #000000; stroke-width: 0.8; stroke-linejoin: miter; stroke-linecap: square\"/>\n   </g>\n   <g id=\"text_15\">\n    <!-- sneaker -->\n    <g transform=\"translate(445.417058 107.038125) scale(0.12 -0.12)\">\n     <use xlink:href=\"#DejaVuSans-73\"/>\n     <use xlink:href=\"#DejaVuSans-6e\" x=\"52.099609\"/>\n     <use xlink:href=\"#DejaVuSans-65\" x=\"115.478516\"/>\n     <use xlink:href=\"#DejaVuSans-61\" x=\"177.001953\"/>\n     <use xlink:href=\"#DejaVuSans-6b\" x=\"238.28125\"/>\n     <use xlink:href=\"#DejaVuSans-65\" x=\"292.566406\"/>\n     <use xlink:href=\"#DejaVuSans-72\" x=\"354.089844\"/>\n    </g>\n   </g>\n  </g>\n  <g id=\"axes_16\">\n   <g id=\"patch_77\">\n    <path d=\"M 518.875472 184.104163 \nL 589.941509 184.104163 \nL 589.941509 113.038125 \nL 518.875472 113.038125 \nz\n\" style=\"fill: #ffffff\"/>\n   </g>\n   <g clip-path=\"url(#pd927436c3e)\">\n    <image xlink:href=\"data:image/png;base64,\niVBORw0KGgoAAAANSUhEUgAAAGMAAABjCAYAAACPO76VAAAHpUlEQVR4nO2cfWjVZRTHn/u+tzu3uRfn1DnfykwpzUILEVIpK42K/hDLSkkNirBEQQj/EsOiIKgoLCdEg8iQoDR7MQNNTfINbUpzqXNLp9vutrt7d+/93f6J55zvI7vYDD3I+fx1nn3vfve3nfucc+55nufnm+N7KmsUEfhv9g0ohDpDEOoMQagzBKHOEIQ6QxDqDEGoMwShzhCEOkMQ6gxBqDMEoc4QRPCqn/gDZHuZQV2098n7YHzpbvJ5cGIMtGnDz1l7QuHFAa/ZkSqA8de76D3q1u4b1H0aY6757217dSaMg3Fqdgf68bXhHs/akStp/L0fDw18K7nuU7mxqDMEoc4QhC/XSp8vEoHxmTemWnv5wp2gzSk6Ye0p4TzQzqd7rN2ULgKtM0O5oC1dAlqhP2ntigDmmnkFKWu3susbY8ysz1fDeMya68gp/7Ku6TCMjyVGWjuVDYA2LNhl7UO9o0GbW3zc2u/cOQ00nRmCUGcI4qowdXoLTZ1Xpv8AL56cR2Xo6eQw0FJZqpJb+4eA1pOhcDc01Ata0qPfy+T4bPSmMWR6xmftEZEO0KYWNMO4n4WRNZ89B9qo9XsHfE9O4Z4KGDdeqrS2z4ev7e+n94sWJkB7eORJax+8C8ObzgxBqDMEoc4QhK/u7bcgZ9Q/8b6198fHwYu7MvnWLg9iOZlhMTzPlwLN76O3cMvAjnQh2U7LI+mFrB3xpwbUhoade8niZ6wqRGXxmMjfoI0PXbb28lOLQOvcXkPXnIN5iaeJVBr/pkCA2iFD8jFnTC2nvNt4j/N/MooY1BmCCGadvm1zikq4lmQJaKWhuLWvsPBiDIafs32loFXnUZgoC2JpWxSgaVzgx/Zn3AtbO8HCkjHGBP0UCtzw5pbP/Do7OyeDti9I77+ydjdos9dcsPYvfdWg/dQ10dqnY1j2XuyhLkMsgSV5Y1cVG50HTWeGINQZglBnCML3UN0qKG3nf/O7tXsy2H11cwiHtzWKAknQYmkqiScVtTjXxPzCCflo5Y2Xx8Zg7nHzF2+/uPRlMPd4rAxuiWMbpyhEf8fM0j9Bi7P36Ehjzqph7ZmyAJbdc1mrZumUR0DTmSEIdYYggunms/CDhnXzrV27uhG0eWW0MHJ/fjNoO3qp1Bsbxo0FZ1NDrX0wVgeal6XvstEQflsFnCUwHsJc+DWNMSbip00BQyJ9qPlIKwtjSczpcELhpf6otYPOvbT2l1i7JYth+Nnidrrm/Img6cwQhDpDEOoMQeTckJCLYM1wGLc+VmvtjikYQ1+e9b21V5U1gba5i1YMTyVw9ZC3R8pD3aDxststufMD2A0dFblsBoJ3f9081JygXMdbQcZgG8ctz3OV+SuG0sri7K9eB01nhiDUGYK4eq/tNZJuuQDjig9pXOG8dqcptnbDkpWgLVu73dpvVh0GbUP7bda+mCoGrZItGHnZa/9MJZ3uL18UCzmvrYl0WtvtGvOQxktnY4wpDVJI8wyW2Z0shGXDHmg6MwShzhCEOkMQuXOGuzvL52emozGyGadVkaXqubQe971+WU+bwTZtXAjankWbrL2tB1sHUT+1NWrz20FrS2L3leeb6lDngPdd4McytNujbrPbGTYsTfAND8YY4/dRLmhOlIM2LED/m1CHbmITizpDEOoMQeTOGVmnU5KleJf1zOBw8xB7jzHO2bzHT9A5i/0bPwBta4xisfvdwW2HcFLudhhG3Pmb+PcXty2fxzbVubmG465QVgYo95QfRU1nhiDUGYIYdDtk0Dihzx+lFTOvFzujJVspbN2xYDFoW6Z9au2fO28HbUIh7qdNQGcWWxc83Lh7dEsCdD8JJ7zxMyhdgXzQeKtmUj5uVOvyqCSPNvwKms4MQagzBKHOEMSNzxkOXjdbwXPLXkbteoz1935HeeDb/Cug8VU4Y4zpZquCbmmbZyhnxL2BN7/VhrHlcqbPXSggLrIlg8nRc6A937SAjS6BpjNDEOoMQdz0MAW43/gZ3vE/YLyHRaLqcCdo7oYzTrvzhAb+7TkawA1uvSxsxVMYwgrZRoPKMHZto366ubDBDvaRQ2OtPU7DlFzUGYJQZwhCVs74D6zY/JK1X1u8DbSmPlxdwzN++PlrT1M7ptQ5b7iwiB4tMSKIueY9dhKZH8k2xpiKIJXrMQ/PuFQeMAOiM0MQ6gxByA5TOR7mWPcJ7dmdtBSPpu3twic78E1mx2K4R3hBxWFr87MTxhgz48gSa7edKwPtzKMfW7uhG/faHo3Tg8Eyefh5jzZj+czRmSEIdYYg1BmCEJ0z+EY5dwNEurXN2l90TAet23lqWyxN5WVBEB+JwfPEg4uXglbMHghcbPDo8fyqedZ+YNdfoM2K0lnIYc6DLuur6N6wINaZIQp1hiAGfYxMEqc+wjD19PSDMObHut6t/g20uh3LrD3hBdSulUAJ7u09uYHOlUTKsZQd/cwpa2eTuN9KZ4Yg1BmCUGcI4pbIGe0vzoDx+CX4mI0Dp+kRGeW7w6CVbrn+56T/X+jMEIQ6QxC3RJi6VdCZIQh1hiDUGYJQZwhCnSEIdYYg1BmCUGcIQp0hCHWGINQZglBnCEKdIQh1hiDUGYJQZwhCnSGIfwBU0CsdwyaozQAAAABJRU5ErkJggg==\" id=\"image2ce0c00789\" transform=\"scale(1 -1) translate(0 -71.28)\" x=\"518.875472\" y=\"-112.824163\" width=\"71.28\" height=\"71.28\"/>\n   </g>\n   <g id=\"patch_78\">\n    <path d=\"M 518.875472 184.104163 \nL 518.875472 113.038125 \n\" style=\"fill: none; stroke: #000000; stroke-width: 0.8; stroke-linejoin: miter; stroke-linecap: square\"/>\n   </g>\n   <g id=\"patch_79\">\n    <path d=\"M 589.941509 184.104163 \nL 589.941509 113.038125 \n\" style=\"fill: none; stroke: #000000; stroke-width: 0.8; stroke-linejoin: miter; stroke-linecap: square\"/>\n   </g>\n   <g id=\"patch_80\">\n    <path d=\"M 518.875472 184.104163 \nL 589.941509 184.104163 \n\" style=\"fill: none; stroke: #000000; stroke-width: 0.8; stroke-linejoin: miter; stroke-linecap: square\"/>\n   </g>\n   <g id=\"patch_81\">\n    <path d=\"M 518.875472 113.038125 \nL 589.941509 113.038125 \n\" style=\"fill: none; stroke: #000000; stroke-width: 0.8; stroke-linejoin: miter; stroke-linecap: square\"/>\n   </g>\n   <g id=\"text_16\">\n    <!-- ankle boot -->\n    <g transform=\"translate(522.685366 107.038125) scale(0.12 -0.12)\">\n     <use xlink:href=\"#DejaVuSans-61\"/>\n     <use xlink:href=\"#DejaVuSans-6e\" x=\"61.279297\"/>\n     <use xlink:href=\"#DejaVuSans-6b\" x=\"124.658203\"/>\n     <use xlink:href=\"#DejaVuSans-6c\" x=\"182.568359\"/>\n     <use xlink:href=\"#DejaVuSans-65\" x=\"210.351562\"/>\n     <use xlink:href=\"#DejaVuSans-20\" x=\"271.875\"/>\n     <use xlink:href=\"#DejaVuSans-62\" x=\"303.662109\"/>\n     <use xlink:href=\"#DejaVuSans-6f\" x=\"367.138672\"/>\n     <use xlink:href=\"#DejaVuSans-6f\" x=\"428.320312\"/>\n     <use xlink:href=\"#DejaVuSans-74\" x=\"489.501953\"/>\n    </g>\n   </g>\n  </g>\n  <g id=\"axes_17\">\n   <g id=\"patch_82\">\n    <path d=\"M 604.154717 184.104163 \nL 675.220755 184.104163 \nL 675.220755 113.038125 \nL 604.154717 113.038125 \nz\n\" style=\"fill: #ffffff\"/>\n   </g>\n   <g clip-path=\"url(#p3ad51291d0)\">\n    <image xlink:href=\"data:image/png;base64,\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\" id=\"image773900a996\" transform=\"scale(1 -1) translate(0 -71.28)\" x=\"604.154717\" y=\"-112.824163\" width=\"71.28\" height=\"71.28\"/>\n   </g>\n   <g id=\"patch_83\">\n    <path d=\"M 604.154717 184.104163 \nL 604.154717 113.038125 \n\" style=\"fill: none; stroke: #000000; stroke-width: 0.8; stroke-linejoin: miter; stroke-linecap: square\"/>\n   </g>\n   <g id=\"patch_84\">\n    <path d=\"M 675.220755 184.104163 \nL 675.220755 113.038125 \n\" style=\"fill: none; stroke: #000000; stroke-width: 0.8; stroke-linejoin: miter; stroke-linecap: square\"/>\n   </g>\n   <g id=\"patch_85\">\n    <path d=\"M 604.154717 184.104163 \nL 675.220755 184.104163 \n\" style=\"fill: none; stroke: #000000; stroke-width: 0.8; stroke-linejoin: miter; stroke-linecap: square\"/>\n   </g>\n   <g id=\"patch_86\">\n    <path d=\"M 604.154717 113.038125 \nL 675.220755 113.038125 \n\" style=\"fill: none; stroke: #000000; stroke-width: 0.8; stroke-linejoin: miter; stroke-linecap: square\"/>\n   </g>\n   <g id=\"text_17\">\n    <!-- trouser -->\n    <g transform=\"translate(618.246173 107.038125) scale(0.12 -0.12)\">\n     <use xlink:href=\"#DejaVuSans-74\"/>\n     <use xlink:href=\"#DejaVuSans-72\" x=\"39.208984\"/>\n     <use xlink:href=\"#DejaVuSans-6f\" x=\"78.072266\"/>\n     <use xlink:href=\"#DejaVuSans-75\" x=\"139.253906\"/>\n     <use xlink:href=\"#DejaVuSans-73\" x=\"202.632812\"/>\n     <use xlink:href=\"#DejaVuSans-65\" x=\"254.732422\"/>\n     <use xlink:href=\"#DejaVuSans-72\" x=\"316.255859\"/>\n    </g>\n   </g>\n  </g>\n  <g id=\"axes_18\">\n   <g id=\"patch_87\">\n    <path d=\"M 689.433962 184.104163 \nL 760.5 184.104163 \nL 760.5 113.038125 \nL 689.433962 113.038125 \nz\n\" style=\"fill: #ffffff\"/>\n   </g>\n   <g clip-path=\"url(#peb7ff789fc)\">\n    <image xlink:href=\"data:image/png;base64,\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\" id=\"imagecb816abca7\" transform=\"scale(1 -1) translate(0 -71.28)\" x=\"689.433962\" y=\"-112.824163\" width=\"71.28\" height=\"71.28\"/>\n   </g>\n   <g id=\"patch_88\">\n    <path d=\"M 689.433962 184.104163 \nL 689.433962 113.038125 \n\" style=\"fill: none; stroke: #000000; stroke-width: 0.8; stroke-linejoin: miter; stroke-linecap: square\"/>\n   </g>\n   <g id=\"patch_89\">\n    <path d=\"M 760.5 184.104163 \nL 760.5 113.038125 \n\" style=\"fill: none; stroke: #000000; stroke-width: 0.8; stroke-linejoin: miter; stroke-linecap: square\"/>\n   </g>\n   <g id=\"patch_90\">\n    <path d=\"M 689.433962 184.104163 \nL 760.5 184.104163 \n\" style=\"fill: none; stroke: #000000; stroke-width: 0.8; stroke-linejoin: miter; stroke-linecap: square\"/>\n   </g>\n   <g id=\"patch_91\">\n    <path d=\"M 689.433962 113.038125 \nL 760.5 113.038125 \n\" style=\"fill: none; stroke: #000000; stroke-width: 0.8; stroke-linejoin: miter; stroke-linecap: square\"/>\n   </g>\n   <g id=\"text_18\">\n    <!-- t-shirt -->\n    <g transform=\"translate(707.036356 107.038125) scale(0.12 -0.12)\">\n     <use xlink:href=\"#DejaVuSans-74\"/>\n     <use xlink:href=\"#DejaVuSans-2d\" x=\"39.208984\"/>\n     <use xlink:href=\"#DejaVuSans-73\" x=\"75.292969\"/>\n     <use xlink:href=\"#DejaVuSans-68\" x=\"127.392578\"/>\n     <use xlink:href=\"#DejaVuSans-69\" x=\"190.771484\"/>\n     <use xlink:href=\"#DejaVuSans-72\" x=\"218.554688\"/>\n     <use xlink:href=\"#DejaVuSans-74\" x=\"259.667969\"/>\n    </g>\n   </g>\n  </g>\n </g>\n <defs>\n  <clipPath id=\"p43cc848c48\">\n   <rect x=\"7.2\" y=\"22.318125\" width=\"71.066038\" height=\"71.066038\"/>\n  </clipPath>\n  <clipPath id=\"pbb9f6c647a\">\n   <rect x=\"92.479245\" y=\"22.318125\" width=\"71.066038\" height=\"71.066038\"/>\n  </clipPath>\n  <clipPath id=\"p69bea3a6e2\">\n   <rect x=\"177.758491\" y=\"22.318125\" width=\"71.066038\" height=\"71.066038\"/>\n  </clipPath>\n  <clipPath id=\"pe204b7b5ad\">\n   <rect x=\"263.037736\" y=\"22.318125\" width=\"71.066038\" height=\"71.066038\"/>\n  </clipPath>\n  <clipPath id=\"pab5181fef7\">\n   <rect x=\"348.316981\" y=\"22.318125\" width=\"71.066038\" height=\"71.066038\"/>\n  </clipPath>\n  <clipPath id=\"p9561b9e5b2\">\n   <rect x=\"433.596226\" y=\"22.318125\" width=\"71.066038\" height=\"71.066038\"/>\n  </clipPath>\n  <clipPath id=\"p56b92ba629\">\n   <rect x=\"518.875472\" y=\"22.318125\" width=\"71.066038\" height=\"71.066038\"/>\n  </clipPath>\n  <clipPath id=\"pb3c61140f0\">\n   <rect x=\"604.154717\" y=\"22.318125\" width=\"71.066038\" height=\"71.066038\"/>\n  </clipPath>\n  <clipPath id=\"pc8b570443c\">\n   <rect x=\"689.433962\" y=\"22.318125\" width=\"71.066038\" height=\"71.066038\"/>\n  </clipPath>\n  <clipPath id=\"pf2b943b0ed\">\n   <rect x=\"7.2\" y=\"113.038125\" width=\"71.066038\" height=\"71.066038\"/>\n  </clipPath>\n  <clipPath id=\"p34f991490b\">\n   <rect x=\"92.479245\" y=\"113.038125\" width=\"71.066038\" height=\"71.066038\"/>\n  </clipPath>\n  <clipPath id=\"p6e5d62d2b4\">\n   <rect x=\"177.758491\" y=\"113.038125\" width=\"71.066038\" height=\"71.066038\"/>\n  </clipPath>\n  <clipPath id=\"p4ad6aecd45\">\n   <rect x=\"263.037736\" y=\"113.038125\" width=\"71.066038\" height=\"71.066038\"/>\n  </clipPath>\n  <clipPath id=\"pbd3bff8509\">\n   <rect x=\"348.316981\" y=\"113.038125\" width=\"71.066038\" height=\"71.066038\"/>\n  </clipPath>\n  <clipPath id=\"pfc002b3b5e\">\n   <rect x=\"433.596226\" y=\"113.038125\" width=\"71.066038\" height=\"71.066038\"/>\n  </clipPath>\n  <clipPath id=\"pd927436c3e\">\n   <rect x=\"518.875472\" y=\"113.038125\" width=\"71.066038\" height=\"71.066038\"/>\n  </clipPath>\n  <clipPath id=\"p3ad51291d0\">\n   <rect x=\"604.154717\" y=\"113.038125\" width=\"71.066038\" height=\"71.066038\"/>\n  </clipPath>\n  <clipPath id=\"peb7ff789fc\">\n   <rect x=\"689.433962\" y=\"113.038125\" width=\"71.066038\" height=\"71.066038\"/>\n  </clipPath>\n </defs>\n</svg>\n"
     },
     "metadata": {},
     "output_type": "display_data"
    }
   ],
   "execution_count": 112
  },
  {
   "metadata": {
    "ExecuteTime": {
     "end_time": "2024-06-03T06:17:17.747949Z",
     "start_time": "2024-06-03T06:17:11.652853Z"
    }
   },
   "cell_type": "code",
   "source": [
    "batch_size = 256\n",
    "def get_dataloader_workers():  #@save\n",
    "    return 4\n",
    "\n",
    "train_iter = data.DataLoader(mnist_train, batch_size, shuffle=True,\n",
    "                             num_workers=get_dataloader_workers())\n",
    "\n",
    "timer = d2l.Timer()\n",
    "for X, y in train_iter:\n",
    "    continue\n",
    "f'{timer.stop():.2f} sec'  # 读取训练数据所需的时间"
   ],
   "id": "e1e9567c1a3381b2",
   "outputs": [
    {
     "data": {
      "text/plain": [
       "'6.09 sec'"
      ]
     },
     "execution_count": 113,
     "metadata": {},
     "output_type": "execute_result"
    }
   ],
   "execution_count": 113
  },
  {
   "metadata": {
    "ExecuteTime": {
     "end_time": "2024-06-03T06:17:17.755679Z",
     "start_time": "2024-06-03T06:17:17.748958Z"
    }
   },
   "cell_type": "code",
   "source": [
    "def load_data_fashion_mnist(batch_size, resize=None):  #@save\n",
    "    # 用于获取和读取Fashion-MNIST数据集，返回训练集和验证集的数据迭代器，参数resize用来将图像大小调整为另一种形状\n",
    "    trans = [transforms.ToTensor()]\n",
    "    if resize:\n",
    "        trans.insert(0, transforms.Resize(resize))\n",
    "    trans = transforms.Compose(trans)\n",
    "    mnist_train = torchvision.datasets.FashionMNIST(\n",
    "        root=\"../data\", train=True, transform=trans, download=True)\n",
    "    mnist_test = torchvision.datasets.FashionMNIST(\n",
    "        root=\"../data\", train=False, transform=trans, download=True)\n",
    "    return (data.DataLoader(mnist_train, batch_size, shuffle=True,\n",
    "                            num_workers=get_dataloader_workers()),\n",
    "            data.DataLoader(mnist_test, batch_size, shuffle=False,\n",
    "                            num_workers=get_dataloader_workers()))"
   ],
   "id": "e5452f874a951881",
   "outputs": [],
   "execution_count": 114
  },
  {
   "metadata": {
    "ExecuteTime": {
     "end_time": "2024-06-03T06:17:22.303192Z",
     "start_time": "2024-06-03T06:17:17.757203Z"
    }
   },
   "cell_type": "code",
   "source": [
    "train_iter, test_iter = load_data_fashion_mnist(32, resize=64)  # 调用上面定义的函数\n",
    "for X, y in train_iter:\n",
    "    print(X.shape, X.dtype, y.shape, y.dtype)\n",
    "    break"
   ],
   "id": "60d8434af928b625",
   "outputs": [
    {
     "name": "stdout",
     "output_type": "stream",
     "text": [
      "torch.Size([32, 1, 64, 64]) torch.float32 torch.Size([32]) torch.int64\n"
     ]
    }
   ],
   "execution_count": 115
  },
  {
   "metadata": {},
   "cell_type": "markdown",
   "source": "### Softmax回归代码实现",
   "id": "3d1ccfe19b2d8f7"
  },
  {
   "metadata": {
    "ExecuteTime": {
     "end_time": "2024-06-03T06:17:22.365540Z",
     "start_time": "2024-06-03T06:17:22.305204Z"
    }
   },
   "cell_type": "code",
   "source": [
    "import torch\n",
    "from IPython import display\n",
    "from d2l import torch as d2l\n",
    "\n",
    "batch_size = 256 # 批量\n",
    "train_iter, test_iter = d2l.load_data_fashion_mnist(batch_size)"
   ],
   "id": "9fdb6b71417da866",
   "outputs": [],
   "execution_count": 116
  },
  {
   "metadata": {
    "ExecuteTime": {
     "end_time": "2024-06-03T06:17:22.372082Z",
     "start_time": "2024-06-03T06:17:22.366542Z"
    }
   },
   "cell_type": "code",
   "source": [
    "num_inputs = 784 # 28*28的图像\n",
    "num_outputs = 10 # 10个类别\n",
    "\n",
    "W = torch.normal(0, 0.01, size=(num_inputs, num_outputs), requires_grad=True) # 权重\n",
    "b = torch.zeros(num_outputs, requires_grad=True) # 偏置"
   ],
   "id": "38269d28c2730f9a",
   "outputs": [],
   "execution_count": 117
  },
  {
   "metadata": {},
   "cell_type": "markdown",
   "source": [
    "Softmax表达式：\n",
    "$$\n",
    "\\mathrm{softmax}(\\mathbf{X})_{ij} = \\frac{\\exp(\\mathbf{X}_{ij})}{\\sum_k \\exp(\\mathbf{X}_{ik})}.\n",
    "$$"
   ],
   "id": "baec8403186d4fef"
  },
  {
   "metadata": {
    "ExecuteTime": {
     "end_time": "2024-06-03T06:17:22.377575Z",
     "start_time": "2024-06-03T06:17:22.373085Z"
    }
   },
   "cell_type": "code",
   "source": [
    "def softmax(X):\n",
    "    X_exp = torch.exp(X)\n",
    "    partition = X_exp.sum(1, keepdim=True)\n",
    "    return X_exp / partition  # 广播机制"
   ],
   "id": "bc17dd739738036f",
   "outputs": [],
   "execution_count": 118
  },
  {
   "metadata": {
    "ExecuteTime": {
     "end_time": "2024-06-03T06:17:22.387238Z",
     "start_time": "2024-06-03T06:17:22.378577Z"
    }
   },
   "cell_type": "code",
   "source": [
    "X = torch.normal(0, 1, (2, 5)) # 标准正态分布，均值为0，标准差为1，生成一个2*5的矩阵\n",
    "X_prob = softmax(X) \n",
    "X_prob, X_prob.sum(1) # 按列相加"
   ],
   "id": "14016e324d05137d",
   "outputs": [
    {
     "data": {
      "text/plain": [
       "(tensor([[0.0497, 0.6599, 0.0534, 0.1666, 0.0704],\n",
       "         [0.1347, 0.2353, 0.5766, 0.0369, 0.0164]]),\n",
       " tensor([1.0000, 1.0000]))"
      ]
     },
     "execution_count": 119,
     "metadata": {},
     "output_type": "execute_result"
    }
   ],
   "execution_count": 119
  },
  {
   "metadata": {
    "ExecuteTime": {
     "end_time": "2024-06-03T06:17:22.392812Z",
     "start_time": "2024-06-03T06:17:22.388281Z"
    }
   },
   "cell_type": "code",
   "source": [
    "def net(X):\n",
    "    return softmax(torch.matmul(X.reshape((-1, W.shape[0])), W) + b) # 输入通过网络映射到输出"
   ],
   "id": "5e1450a1a7d8ceb8",
   "outputs": [],
   "execution_count": 120
  },
  {
   "metadata": {
    "ExecuteTime": {
     "end_time": "2024-06-03T06:17:22.399189Z",
     "start_time": "2024-06-03T06:17:22.393934Z"
    }
   },
   "cell_type": "code",
   "source": [
    "def cross_entropy(y_hat, y):\n",
    "    return - torch.log(y_hat[range(len(y_hat)), y]) # 交叉熵损失函数"
   ],
   "id": "eba80ef2ac044c8d",
   "outputs": [],
   "execution_count": 121
  },
  {
   "metadata": {
    "ExecuteTime": {
     "end_time": "2024-06-03T06:17:22.405359Z",
     "start_time": "2024-06-03T06:17:22.400346Z"
    }
   },
   "cell_type": "code",
   "source": [
    "def accuracy(y_hat, y):  #@save 分类精度\n",
    "    if len(y_hat.shape) > 1 and y_hat.shape[1] > 1:\n",
    "        y_hat = y_hat.argmax(axis=1)\n",
    "    cmp = y_hat.type(y.dtype) == y\n",
    "    return float(cmp.type(y.dtype).sum())"
   ],
   "id": "e6967911201aa3b5",
   "outputs": [],
   "execution_count": 122
  },
  {
   "metadata": {
    "ExecuteTime": {
     "end_time": "2024-06-03T06:17:22.412022Z",
     "start_time": "2024-06-03T06:17:22.407362Z"
    }
   },
   "cell_type": "code",
   "source": [
    "def evaluate_accuracy(net, data_iter):  #@save 计算在指定数据集上模型的精度\n",
    "    if isinstance(net, torch.nn.Module):\n",
    "        net.eval()  # 将模型设置为评估模式\n",
    "    metric = Accumulator(2)  # 正确预测数、预测总数\n",
    "    with torch.no_grad():\n",
    "        for X, y in data_iter:\n",
    "            metric.add(accuracy(net(X), y), y.numel())\n",
    "    return metric[0] / metric[1]"
   ],
   "id": "f953c21e693bc172",
   "outputs": [],
   "execution_count": 123
  },
  {
   "metadata": {
    "ExecuteTime": {
     "end_time": "2024-06-03T06:17:22.419568Z",
     "start_time": "2024-06-03T06:17:22.413395Z"
    }
   },
   "cell_type": "code",
   "source": [
    "class Accumulator:  #@save 用于对多个变量进行累加\n",
    "    def __init__(self, n):\n",
    "        self.data = [0.0] * n\n",
    "\n",
    "    def add(self, *args):\n",
    "        self.data = [a + float(b) for a, b in zip(self.data, args)]\n",
    "\n",
    "    def reset(self):\n",
    "        self.data = [0.0] * len(self.data)\n",
    "\n",
    "    def __getitem__(self, idx):\n",
    "        return self.data[idx]"
   ],
   "id": "18960f1d54ba4ff9",
   "outputs": [],
   "execution_count": 124
  },
  {
   "metadata": {
    "ExecuteTime": {
     "end_time": "2024-06-03T06:17:22.428280Z",
     "start_time": "2024-06-03T06:17:22.423069Z"
    }
   },
   "cell_type": "code",
   "source": [
    "def train_epoch_ch3(net, train_iter, loss, updater):  #@save 训练模型\n",
    "    # 将模型设置为训练模式\n",
    "    if isinstance(net, torch.nn.Module):\n",
    "        net.train()\n",
    "    # 训练损失总和、训练准确度总和、样本数\n",
    "    metric = Accumulator(3)\n",
    "    for X, y in train_iter:\n",
    "        # 计算梯度并更新参数\n",
    "        y_hat = net(X)\n",
    "        l = loss(y_hat, y)\n",
    "        if isinstance(updater, torch.optim.Optimizer):\n",
    "            # 使用PyTorch内置的优化器和损失函数\n",
    "            updater.zero_grad()\n",
    "            l.mean().backward()\n",
    "            updater.step()\n",
    "        else:\n",
    "            # 使用定制的优化器和损失函数\n",
    "            l.sum().backward()\n",
    "            updater(X.shape[0])\n",
    "        metric.add(float(l.sum()), accuracy(y_hat, y), y.numel())\n",
    "    # 返回训练损失和训练精度\n",
    "    return metric[0] / metric[2], metric[1] / metric[2]"
   ],
   "id": "e081d3f8fd369451",
   "outputs": [],
   "execution_count": 125
  },
  {
   "metadata": {
    "ExecuteTime": {
     "end_time": "2024-06-03T06:17:22.440599Z",
     "start_time": "2024-06-03T06:17:22.428280Z"
    }
   },
   "cell_type": "code",
   "source": [
    "class Animator:  #@save 在动画中绘制数据\n",
    "    def __init__(self, xlabel=None, ylabel=None, legend=None, xlim=None,\n",
    "                 ylim=None, xscale='linear', yscale='linear',\n",
    "                 fmts=('-', 'm--', 'g-.', 'r:'), nrows=1, ncols=1,\n",
    "                 figsize=(3.5, 2.5)):\n",
    "        # 增量地绘制多条线\n",
    "        if legend is None:\n",
    "            legend = []\n",
    "        d2l.use_svg_display()\n",
    "        self.fig, self.axes = d2l.plt.subplots(nrows, ncols, figsize=figsize)\n",
    "        if nrows * ncols == 1:\n",
    "            self.axes = [self.axes, ]\n",
    "        # 使用lambda函数捕获参数\n",
    "        self.config_axes = lambda: d2l.set_axes(\n",
    "            self.axes[0], xlabel, ylabel, xlim, ylim, xscale, yscale, legend)\n",
    "        self.X, self.Y, self.fmts = None, None, fmts\n",
    "\n",
    "    def add(self, x, y):\n",
    "        # 向图表中添加多个数据点\n",
    "        if not hasattr(y, \"__len__\"):\n",
    "            y = [y]\n",
    "        n = len(y)\n",
    "        if not hasattr(x, \"__len__\"):\n",
    "            x = [x] * n\n",
    "        if not self.X:\n",
    "            self.X = [[] for _ in range(n)]\n",
    "        if not self.Y:\n",
    "            self.Y = [[] for _ in range(n)]\n",
    "        for i, (a, b) in enumerate(zip(x, y)):\n",
    "            if a is not None and b is not None:\n",
    "                self.X[i].append(a)\n",
    "                self.Y[i].append(b)\n",
    "        self.axes[0].cla()\n",
    "        for x, y, fmt in zip(self.X, self.Y, self.fmts):\n",
    "            self.axes[0].plot(x, y, fmt)\n",
    "        self.config_axes()\n",
    "        display.display(self.fig)\n",
    "        display.clear_output(wait=True)"
   ],
   "id": "baff58211a65f0de",
   "outputs": [],
   "execution_count": 126
  },
  {
   "metadata": {
    "ExecuteTime": {
     "end_time": "2024-06-03T06:17:22.446795Z",
     "start_time": "2024-06-03T06:17:22.441607Z"
    }
   },
   "cell_type": "code",
   "source": [
    "def train_ch3(net, train_iter, test_iter, loss, num_epochs, updater):  #@save\n",
    "    animator = Animator(xlabel='epoch', xlim=[1, num_epochs], ylim=[0.3, 0.9],\n",
    "                        legend=['train loss', 'train acc', 'test acc'])\n",
    "    for epoch in range(num_epochs):\n",
    "        train_metrics = train_epoch_ch3(net, train_iter, loss, updater)\n",
    "        test_acc = evaluate_accuracy(net, test_iter)\n",
    "        animator.add(epoch + 1, train_metrics + (test_acc,))\n",
    "    train_loss, train_acc = train_metrics\n",
    "    assert train_loss < 0.5, train_loss\n",
    "    assert train_acc <= 1 and train_acc > 0.7, train_acc\n",
    "    assert test_acc <= 1 and test_acc > 0.7, test_acc"
   ],
   "id": "ef4ad82b0a1f9d66",
   "outputs": [],
   "execution_count": 127
  },
  {
   "metadata": {
    "ExecuteTime": {
     "end_time": "2024-06-03T06:17:22.452717Z",
     "start_time": "2024-06-03T06:17:22.448193Z"
    }
   },
   "cell_type": "code",
   "source": [
    "lr = 0.1 # 学习率\n",
    "\n",
    "def updater(batch_size):\n",
    "    return d2l.sgd([W, b], lr, batch_size)"
   ],
   "id": "f238892546c05ead",
   "outputs": [],
   "execution_count": 128
  },
  {
   "metadata": {},
   "cell_type": "code",
   "source": [
    "num_epochs = 5 # 迭代周期\n",
    "train_ch3(net, train_iter, test_iter, cross_entropy, num_epochs, updater)"
   ],
   "id": "458914cf48f313a2",
   "execution_count": 129,
   "outputs": []
  },
  {
   "metadata": {
    "ExecuteTime": {
     "end_time": "2024-06-03T06:18:23.650098Z",
     "start_time": "2024-06-03T06:18:18.494331Z"
    }
   },
   "cell_type": "code",
   "source": [
    "def predict_ch3(net, test_iter, n=6):  #@save 预测\n",
    "    for X, y in test_iter:\n",
    "        break\n",
    "    trues = d2l.get_fashion_mnist_labels(y)\n",
    "    preds = d2l.get_fashion_mnist_labels(net(X).argmax(axis=1))\n",
    "    titles = [true +'\\n' + pred for true, pred in zip(trues, preds)]\n",
    "    d2l.show_images(\n",
    "        X[0:n].reshape((n, 28, 28)), 1, n, titles=titles[0:n])\n",
    "\n",
    "predict_ch3(net, test_iter)"
   ],
   "id": "7b8acd068396c2b",
   "outputs": [
    {
     "data": {
      "text/plain": [
       "<Figure size 900x150 with 6 Axes>"
      ],
      "image/svg+xml": "<?xml version=\"1.0\" encoding=\"utf-8\" standalone=\"no\"?>\n<!DOCTYPE svg PUBLIC \"-//W3C//DTD SVG 1.1//EN\"\n  \"http://www.w3.org/Graphics/SVG/1.1/DTD/svg11.dtd\">\n<svg xmlns:xlink=\"http://www.w3.org/1999/xlink\" width=\"516.6pt\" height=\"114.698357pt\" viewBox=\"0 0 516.6 114.698357\" xmlns=\"http://www.w3.org/2000/svg\" version=\"1.1\">\n <metadata>\n  <rdf:RDF xmlns:dc=\"http://purl.org/dc/elements/1.1/\" xmlns:cc=\"http://creativecommons.org/ns#\" xmlns:rdf=\"http://www.w3.org/1999/02/22-rdf-syntax-ns#\">\n   <cc:Work>\n    <dc:type rdf:resource=\"http://purl.org/dc/dcmitype/StillImage\"/>\n    <dc:date>2024-06-03T14:18:23.621053</dc:date>\n    <dc:format>image/svg+xml</dc:format>\n    <dc:creator>\n     <cc:Agent>\n      <dc:title>Matplotlib v3.9.0, https://matplotlib.org/</dc:title>\n     </cc:Agent>\n    </dc:creator>\n   </cc:Work>\n  </rdf:RDF>\n </metadata>\n <defs>\n  <style type=\"text/css\">*{stroke-linejoin: round; stroke-linecap: butt}</style>\n </defs>\n <g id=\"figure_1\">\n  <g id=\"patch_1\">\n   <path d=\"M 0 114.698357 \nL 516.6 114.698357 \nL 516.6 0 \nL 0 0 \nz\n\" style=\"fill: #ffffff\"/>\n  </g>\n  <g id=\"axes_1\">\n   <g id=\"patch_2\">\n    <path d=\"M 7.2 107.498357 \nL 78.942857 107.498357 \nL 78.942857 35.7555 \nL 7.2 35.7555 \nz\n\" style=\"fill: #ffffff\"/>\n   </g>\n   <g clip-path=\"url(#p2c79418790)\">\n    <image xlink:href=\"data:image/png;base64,\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\" id=\"image84b287342c\" transform=\"scale(1 -1) translate(0 -72)\" x=\"7.2\" y=\"-35.498357\" width=\"72\" height=\"72\"/>\n   </g>\n   <g id=\"patch_3\">\n    <path d=\"M 7.2 107.498357 \nL 7.2 35.7555 \n\" style=\"fill: none; stroke: #000000; stroke-width: 0.8; stroke-linejoin: miter; stroke-linecap: square\"/>\n   </g>\n   <g id=\"patch_4\">\n    <path d=\"M 78.942857 107.498357 \nL 78.942857 35.7555 \n\" style=\"fill: none; stroke: #000000; stroke-width: 0.8; stroke-linejoin: miter; stroke-linecap: square\"/>\n   </g>\n   <g id=\"patch_5\">\n    <path d=\"M 7.2 107.498357 \nL 78.942857 107.498357 \n\" style=\"fill: none; stroke: #000000; stroke-width: 0.8; stroke-linejoin: miter; stroke-linecap: square\"/>\n   </g>\n   <g id=\"patch_6\">\n    <path d=\"M 7.2 35.7555 \nL 78.942857 35.7555 \n\" style=\"fill: none; stroke: #000000; stroke-width: 0.8; stroke-linejoin: miter; stroke-linecap: square\"/>\n   </g>\n   <g id=\"text_1\">\n    <!-- ankle boot -->\n    <g transform=\"translate(11.348304 16.318125) scale(0.12 -0.12)\">\n     <defs>\n      <path id=\"DejaVuSans-61\" d=\"M 2194 1759 \nQ 1497 1759 1228 1600 \nQ 959 1441 959 1056 \nQ 959 750 1161 570 \nQ 1363 391 1709 391 \nQ 2188 391 2477 730 \nQ 2766 1069 2766 1631 \nL 2766 1759 \nL 2194 1759 \nz\nM 3341 1997 \nL 3341 0 \nL 2766 0 \nL 2766 531 \nQ 2569 213 2275 61 \nQ 1981 -91 1556 -91 \nQ 1019 -91 701 211 \nQ 384 513 384 1019 \nQ 384 1609 779 1909 \nQ 1175 2209 1959 2209 \nL 2766 2209 \nL 2766 2266 \nQ 2766 2663 2505 2880 \nQ 2244 3097 1772 3097 \nQ 1472 3097 1187 3025 \nQ 903 2953 641 2809 \nL 641 3341 \nQ 956 3463 1253 3523 \nQ 1550 3584 1831 3584 \nQ 2591 3584 2966 3190 \nQ 3341 2797 3341 1997 \nz\n\" transform=\"scale(0.015625)\"/>\n      <path id=\"DejaVuSans-6e\" d=\"M 3513 2113 \nL 3513 0 \nL 2938 0 \nL 2938 2094 \nQ 2938 2591 2744 2837 \nQ 2550 3084 2163 3084 \nQ 1697 3084 1428 2787 \nQ 1159 2491 1159 1978 \nL 1159 0 \nL 581 0 \nL 581 3500 \nL 1159 3500 \nL 1159 2956 \nQ 1366 3272 1645 3428 \nQ 1925 3584 2291 3584 \nQ 2894 3584 3203 3211 \nQ 3513 2838 3513 2113 \nz\n\" transform=\"scale(0.015625)\"/>\n      <path id=\"DejaVuSans-6b\" d=\"M 581 4863 \nL 1159 4863 \nL 1159 1991 \nL 2875 3500 \nL 3609 3500 \nL 1753 1863 \nL 3688 0 \nL 2938 0 \nL 1159 1709 \nL 1159 0 \nL 581 0 \nL 581 4863 \nz\n\" transform=\"scale(0.015625)\"/>\n      <path id=\"DejaVuSans-6c\" d=\"M 603 4863 \nL 1178 4863 \nL 1178 0 \nL 603 0 \nL 603 4863 \nz\n\" transform=\"scale(0.015625)\"/>\n      <path id=\"DejaVuSans-65\" d=\"M 3597 1894 \nL 3597 1613 \nL 953 1613 \nQ 991 1019 1311 708 \nQ 1631 397 2203 397 \nQ 2534 397 2845 478 \nQ 3156 559 3463 722 \nL 3463 178 \nQ 3153 47 2828 -22 \nQ 2503 -91 2169 -91 \nQ 1331 -91 842 396 \nQ 353 884 353 1716 \nQ 353 2575 817 3079 \nQ 1281 3584 2069 3584 \nQ 2775 3584 3186 3129 \nQ 3597 2675 3597 1894 \nz\nM 3022 2063 \nQ 3016 2534 2758 2815 \nQ 2500 3097 2075 3097 \nQ 1594 3097 1305 2825 \nQ 1016 2553 972 2059 \nL 3022 2063 \nz\n\" transform=\"scale(0.015625)\"/>\n      <path id=\"DejaVuSans-20\" transform=\"scale(0.015625)\"/>\n      <path id=\"DejaVuSans-62\" d=\"M 3116 1747 \nQ 3116 2381 2855 2742 \nQ 2594 3103 2138 3103 \nQ 1681 3103 1420 2742 \nQ 1159 2381 1159 1747 \nQ 1159 1113 1420 752 \nQ 1681 391 2138 391 \nQ 2594 391 2855 752 \nQ 3116 1113 3116 1747 \nz\nM 1159 2969 \nQ 1341 3281 1617 3432 \nQ 1894 3584 2278 3584 \nQ 2916 3584 3314 3078 \nQ 3713 2572 3713 1747 \nQ 3713 922 3314 415 \nQ 2916 -91 2278 -91 \nQ 1894 -91 1617 61 \nQ 1341 213 1159 525 \nL 1159 0 \nL 581 0 \nL 581 4863 \nL 1159 4863 \nL 1159 2969 \nz\n\" transform=\"scale(0.015625)\"/>\n      <path id=\"DejaVuSans-6f\" d=\"M 1959 3097 \nQ 1497 3097 1228 2736 \nQ 959 2375 959 1747 \nQ 959 1119 1226 758 \nQ 1494 397 1959 397 \nQ 2419 397 2687 759 \nQ 2956 1122 2956 1747 \nQ 2956 2369 2687 2733 \nQ 2419 3097 1959 3097 \nz\nM 1959 3584 \nQ 2709 3584 3137 3096 \nQ 3566 2609 3566 1747 \nQ 3566 888 3137 398 \nQ 2709 -91 1959 -91 \nQ 1206 -91 779 398 \nQ 353 888 353 1747 \nQ 353 2609 779 3096 \nQ 1206 3584 1959 3584 \nz\n\" transform=\"scale(0.015625)\"/>\n      <path id=\"DejaVuSans-74\" d=\"M 1172 4494 \nL 1172 3500 \nL 2356 3500 \nL 2356 3053 \nL 1172 3053 \nL 1172 1153 \nQ 1172 725 1289 603 \nQ 1406 481 1766 481 \nL 2356 481 \nL 2356 0 \nL 1766 0 \nQ 1100 0 847 248 \nQ 594 497 594 1153 \nL 594 3053 \nL 172 3053 \nL 172 3500 \nL 594 3500 \nL 594 4494 \nL 1172 4494 \nz\n\" transform=\"scale(0.015625)\"/>\n     </defs>\n     <use xlink:href=\"#DejaVuSans-61\"/>\n     <use xlink:href=\"#DejaVuSans-6e\" x=\"61.279297\"/>\n     <use xlink:href=\"#DejaVuSans-6b\" x=\"124.658203\"/>\n     <use xlink:href=\"#DejaVuSans-6c\" x=\"182.568359\"/>\n     <use xlink:href=\"#DejaVuSans-65\" x=\"210.351562\"/>\n     <use xlink:href=\"#DejaVuSans-20\" x=\"271.875\"/>\n     <use xlink:href=\"#DejaVuSans-62\" x=\"303.662109\"/>\n     <use xlink:href=\"#DejaVuSans-6f\" x=\"367.138672\"/>\n     <use xlink:href=\"#DejaVuSans-6f\" x=\"428.320312\"/>\n     <use xlink:href=\"#DejaVuSans-74\" x=\"489.501953\"/>\n    </g>\n    <!-- ankle boot -->\n    <g transform=\"translate(11.348304 29.7555) scale(0.12 -0.12)\">\n     <use xlink:href=\"#DejaVuSans-61\"/>\n     <use xlink:href=\"#DejaVuSans-6e\" x=\"61.279297\"/>\n     <use xlink:href=\"#DejaVuSans-6b\" x=\"124.658203\"/>\n     <use xlink:href=\"#DejaVuSans-6c\" x=\"182.568359\"/>\n     <use xlink:href=\"#DejaVuSans-65\" x=\"210.351562\"/>\n     <use xlink:href=\"#DejaVuSans-20\" x=\"271.875\"/>\n     <use xlink:href=\"#DejaVuSans-62\" x=\"303.662109\"/>\n     <use xlink:href=\"#DejaVuSans-6f\" x=\"367.138672\"/>\n     <use xlink:href=\"#DejaVuSans-6f\" x=\"428.320312\"/>\n     <use xlink:href=\"#DejaVuSans-74\" x=\"489.501953\"/>\n    </g>\n   </g>\n  </g>\n  <g id=\"axes_2\">\n   <g id=\"patch_7\">\n    <path d=\"M 93.291429 107.498357 \nL 165.034286 107.498357 \nL 165.034286 35.7555 \nL 93.291429 35.7555 \nz\n\" style=\"fill: #ffffff\"/>\n   </g>\n   <g clip-path=\"url(#p826d417c9e)\">\n    <image xlink:href=\"data:image/png;base64,\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\" id=\"image366dd3176d\" transform=\"scale(1 -1) translate(0 -72)\" x=\"93.291429\" y=\"-35.498357\" width=\"72\" height=\"72\"/>\n   </g>\n   <g id=\"patch_8\">\n    <path d=\"M 93.291429 107.498357 \nL 93.291429 35.7555 \n\" style=\"fill: none; stroke: #000000; stroke-width: 0.8; stroke-linejoin: miter; stroke-linecap: square\"/>\n   </g>\n   <g id=\"patch_9\">\n    <path d=\"M 165.034286 107.498357 \nL 165.034286 35.7555 \n\" style=\"fill: none; stroke: #000000; stroke-width: 0.8; stroke-linejoin: miter; stroke-linecap: square\"/>\n   </g>\n   <g id=\"patch_10\">\n    <path d=\"M 93.291429 107.498357 \nL 165.034286 107.498357 \n\" style=\"fill: none; stroke: #000000; stroke-width: 0.8; stroke-linejoin: miter; stroke-linecap: square\"/>\n   </g>\n   <g id=\"patch_11\">\n    <path d=\"M 93.291429 35.7555 \nL 165.034286 35.7555 \n\" style=\"fill: none; stroke: #000000; stroke-width: 0.8; stroke-linejoin: miter; stroke-linecap: square\"/>\n   </g>\n   <g id=\"text_2\">\n    <!-- pullover -->\n    <g transform=\"translate(104.836607 16.318125) scale(0.12 -0.12)\">\n     <defs>\n      <path id=\"DejaVuSans-70\" d=\"M 1159 525 \nL 1159 -1331 \nL 581 -1331 \nL 581 3500 \nL 1159 3500 \nL 1159 2969 \nQ 1341 3281 1617 3432 \nQ 1894 3584 2278 3584 \nQ 2916 3584 3314 3078 \nQ 3713 2572 3713 1747 \nQ 3713 922 3314 415 \nQ 2916 -91 2278 -91 \nQ 1894 -91 1617 61 \nQ 1341 213 1159 525 \nz\nM 3116 1747 \nQ 3116 2381 2855 2742 \nQ 2594 3103 2138 3103 \nQ 1681 3103 1420 2742 \nQ 1159 2381 1159 1747 \nQ 1159 1113 1420 752 \nQ 1681 391 2138 391 \nQ 2594 391 2855 752 \nQ 3116 1113 3116 1747 \nz\n\" transform=\"scale(0.015625)\"/>\n      <path id=\"DejaVuSans-75\" d=\"M 544 1381 \nL 544 3500 \nL 1119 3500 \nL 1119 1403 \nQ 1119 906 1312 657 \nQ 1506 409 1894 409 \nQ 2359 409 2629 706 \nQ 2900 1003 2900 1516 \nL 2900 3500 \nL 3475 3500 \nL 3475 0 \nL 2900 0 \nL 2900 538 \nQ 2691 219 2414 64 \nQ 2138 -91 1772 -91 \nQ 1169 -91 856 284 \nQ 544 659 544 1381 \nz\nM 1991 3584 \nL 1991 3584 \nz\n\" transform=\"scale(0.015625)\"/>\n      <path id=\"DejaVuSans-76\" d=\"M 191 3500 \nL 800 3500 \nL 1894 563 \nL 2988 3500 \nL 3597 3500 \nL 2284 0 \nL 1503 0 \nL 191 3500 \nz\n\" transform=\"scale(0.015625)\"/>\n      <path id=\"DejaVuSans-72\" d=\"M 2631 2963 \nQ 2534 3019 2420 3045 \nQ 2306 3072 2169 3072 \nQ 1681 3072 1420 2755 \nQ 1159 2438 1159 1844 \nL 1159 0 \nL 581 0 \nL 581 3500 \nL 1159 3500 \nL 1159 2956 \nQ 1341 3275 1631 3429 \nQ 1922 3584 2338 3584 \nQ 2397 3584 2469 3576 \nQ 2541 3569 2628 3553 \nL 2631 2963 \nz\n\" transform=\"scale(0.015625)\"/>\n     </defs>\n     <use xlink:href=\"#DejaVuSans-70\"/>\n     <use xlink:href=\"#DejaVuSans-75\" x=\"63.476562\"/>\n     <use xlink:href=\"#DejaVuSans-6c\" x=\"126.855469\"/>\n     <use xlink:href=\"#DejaVuSans-6c\" x=\"154.638672\"/>\n     <use xlink:href=\"#DejaVuSans-6f\" x=\"182.421875\"/>\n     <use xlink:href=\"#DejaVuSans-76\" x=\"243.603516\"/>\n     <use xlink:href=\"#DejaVuSans-65\" x=\"302.783203\"/>\n     <use xlink:href=\"#DejaVuSans-72\" x=\"364.306641\"/>\n    </g>\n    <!-- pullover -->\n    <g transform=\"translate(104.836607 29.7555) scale(0.12 -0.12)\">\n     <use xlink:href=\"#DejaVuSans-70\"/>\n     <use xlink:href=\"#DejaVuSans-75\" x=\"63.476562\"/>\n     <use xlink:href=\"#DejaVuSans-6c\" x=\"126.855469\"/>\n     <use xlink:href=\"#DejaVuSans-6c\" x=\"154.638672\"/>\n     <use xlink:href=\"#DejaVuSans-6f\" x=\"182.421875\"/>\n     <use xlink:href=\"#DejaVuSans-76\" x=\"243.603516\"/>\n     <use xlink:href=\"#DejaVuSans-65\" x=\"302.783203\"/>\n     <use xlink:href=\"#DejaVuSans-72\" x=\"364.306641\"/>\n    </g>\n   </g>\n  </g>\n  <g id=\"axes_3\">\n   <g id=\"patch_12\">\n    <path d=\"M 179.382857 107.498357 \nL 251.125714 107.498357 \nL 251.125714 35.7555 \nL 179.382857 35.7555 \nz\n\" style=\"fill: #ffffff\"/>\n   </g>\n   <g clip-path=\"url(#p2b47155697)\">\n    <image xlink:href=\"data:image/png;base64,\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\" id=\"imageeae007200f\" transform=\"scale(1 -1) translate(0 -72)\" x=\"179.382857\" y=\"-35.498357\" width=\"72\" height=\"72\"/>\n   </g>\n   <g id=\"patch_13\">\n    <path d=\"M 179.382857 107.498357 \nL 179.382857 35.7555 \n\" style=\"fill: none; stroke: #000000; stroke-width: 0.8; stroke-linejoin: miter; stroke-linecap: square\"/>\n   </g>\n   <g id=\"patch_14\">\n    <path d=\"M 251.125714 107.498357 \nL 251.125714 35.7555 \n\" style=\"fill: none; stroke: #000000; stroke-width: 0.8; stroke-linejoin: miter; stroke-linecap: square\"/>\n   </g>\n   <g id=\"patch_15\">\n    <path d=\"M 179.382857 107.498357 \nL 251.125714 107.498357 \n\" style=\"fill: none; stroke: #000000; stroke-width: 0.8; stroke-linejoin: miter; stroke-linecap: square\"/>\n   </g>\n   <g id=\"patch_16\">\n    <path d=\"M 179.382857 35.7555 \nL 251.125714 35.7555 \n\" style=\"fill: none; stroke: #000000; stroke-width: 0.8; stroke-linejoin: miter; stroke-linecap: square\"/>\n   </g>\n   <g id=\"text_3\">\n    <!-- trouser -->\n    <g transform=\"translate(193.812723 16.318125) scale(0.12 -0.12)\">\n     <defs>\n      <path id=\"DejaVuSans-73\" d=\"M 2834 3397 \nL 2834 2853 \nQ 2591 2978 2328 3040 \nQ 2066 3103 1784 3103 \nQ 1356 3103 1142 2972 \nQ 928 2841 928 2578 \nQ 928 2378 1081 2264 \nQ 1234 2150 1697 2047 \nL 1894 2003 \nQ 2506 1872 2764 1633 \nQ 3022 1394 3022 966 \nQ 3022 478 2636 193 \nQ 2250 -91 1575 -91 \nQ 1294 -91 989 -36 \nQ 684 19 347 128 \nL 347 722 \nQ 666 556 975 473 \nQ 1284 391 1588 391 \nQ 1994 391 2212 530 \nQ 2431 669 2431 922 \nQ 2431 1156 2273 1281 \nQ 2116 1406 1581 1522 \nL 1381 1569 \nQ 847 1681 609 1914 \nQ 372 2147 372 2553 \nQ 372 3047 722 3315 \nQ 1072 3584 1716 3584 \nQ 2034 3584 2315 3537 \nQ 2597 3491 2834 3397 \nz\n\" transform=\"scale(0.015625)\"/>\n     </defs>\n     <use xlink:href=\"#DejaVuSans-74\"/>\n     <use xlink:href=\"#DejaVuSans-72\" x=\"39.208984\"/>\n     <use xlink:href=\"#DejaVuSans-6f\" x=\"78.072266\"/>\n     <use xlink:href=\"#DejaVuSans-75\" x=\"139.253906\"/>\n     <use xlink:href=\"#DejaVuSans-73\" x=\"202.632812\"/>\n     <use xlink:href=\"#DejaVuSans-65\" x=\"254.732422\"/>\n     <use xlink:href=\"#DejaVuSans-72\" x=\"316.255859\"/>\n    </g>\n    <!-- trouser -->\n    <g transform=\"translate(193.812723 29.7555) scale(0.12 -0.12)\">\n     <use xlink:href=\"#DejaVuSans-74\"/>\n     <use xlink:href=\"#DejaVuSans-72\" x=\"39.208984\"/>\n     <use xlink:href=\"#DejaVuSans-6f\" x=\"78.072266\"/>\n     <use xlink:href=\"#DejaVuSans-75\" x=\"139.253906\"/>\n     <use xlink:href=\"#DejaVuSans-73\" x=\"202.632812\"/>\n     <use xlink:href=\"#DejaVuSans-65\" x=\"254.732422\"/>\n     <use xlink:href=\"#DejaVuSans-72\" x=\"316.255859\"/>\n    </g>\n   </g>\n  </g>\n  <g id=\"axes_4\">\n   <g id=\"patch_17\">\n    <path d=\"M 265.474286 107.498357 \nL 337.217143 107.498357 \nL 337.217143 35.7555 \nL 265.474286 35.7555 \nz\n\" style=\"fill: #ffffff\"/>\n   </g>\n   <g clip-path=\"url(#p2b054bba71)\">\n    <image xlink:href=\"data:image/png;base64,\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\" id=\"imagee6eadec732\" transform=\"scale(1 -1) translate(0 -72)\" x=\"265.474286\" y=\"-35.498357\" width=\"72\" height=\"72\"/>\n   </g>\n   <g id=\"patch_18\">\n    <path d=\"M 265.474286 107.498357 \nL 265.474286 35.7555 \n\" style=\"fill: none; stroke: #000000; stroke-width: 0.8; stroke-linejoin: miter; stroke-linecap: square\"/>\n   </g>\n   <g id=\"patch_19\">\n    <path d=\"M 337.217143 107.498357 \nL 337.217143 35.7555 \n\" style=\"fill: none; stroke: #000000; stroke-width: 0.8; stroke-linejoin: miter; stroke-linecap: square\"/>\n   </g>\n   <g id=\"patch_20\">\n    <path d=\"M 265.474286 107.498357 \nL 337.217143 107.498357 \n\" style=\"fill: none; stroke: #000000; stroke-width: 0.8; stroke-linejoin: miter; stroke-linecap: square\"/>\n   </g>\n   <g id=\"patch_21\">\n    <path d=\"M 265.474286 35.7555 \nL 337.217143 35.7555 \n\" style=\"fill: none; stroke: #000000; stroke-width: 0.8; stroke-linejoin: miter; stroke-linecap: square\"/>\n   </g>\n   <g id=\"text_4\">\n    <!-- trouser -->\n    <g transform=\"translate(279.904152 16.318125) scale(0.12 -0.12)\">\n     <use xlink:href=\"#DejaVuSans-74\"/>\n     <use xlink:href=\"#DejaVuSans-72\" x=\"39.208984\"/>\n     <use xlink:href=\"#DejaVuSans-6f\" x=\"78.072266\"/>\n     <use xlink:href=\"#DejaVuSans-75\" x=\"139.253906\"/>\n     <use xlink:href=\"#DejaVuSans-73\" x=\"202.632812\"/>\n     <use xlink:href=\"#DejaVuSans-65\" x=\"254.732422\"/>\n     <use xlink:href=\"#DejaVuSans-72\" x=\"316.255859\"/>\n    </g>\n    <!-- trouser -->\n    <g transform=\"translate(279.904152 29.7555) scale(0.12 -0.12)\">\n     <use xlink:href=\"#DejaVuSans-74\"/>\n     <use xlink:href=\"#DejaVuSans-72\" x=\"39.208984\"/>\n     <use xlink:href=\"#DejaVuSans-6f\" x=\"78.072266\"/>\n     <use xlink:href=\"#DejaVuSans-75\" x=\"139.253906\"/>\n     <use xlink:href=\"#DejaVuSans-73\" x=\"202.632812\"/>\n     <use xlink:href=\"#DejaVuSans-65\" x=\"254.732422\"/>\n     <use xlink:href=\"#DejaVuSans-72\" x=\"316.255859\"/>\n    </g>\n   </g>\n  </g>\n  <g id=\"axes_5\">\n   <g id=\"patch_22\">\n    <path d=\"M 351.565714 107.498357 \nL 423.308571 107.498357 \nL 423.308571 35.7555 \nL 351.565714 35.7555 \nz\n\" style=\"fill: #ffffff\"/>\n   </g>\n   <g clip-path=\"url(#p9cb0340c11)\">\n    <image xlink:href=\"data:image/png;base64,\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\" id=\"image8aa4063180\" transform=\"scale(1 -1) translate(0 -72)\" x=\"351.565714\" y=\"-35.498357\" width=\"72\" height=\"72\"/>\n   </g>\n   <g id=\"patch_23\">\n    <path d=\"M 351.565714 107.498357 \nL 351.565714 35.7555 \n\" style=\"fill: none; stroke: #000000; stroke-width: 0.8; stroke-linejoin: miter; stroke-linecap: square\"/>\n   </g>\n   <g id=\"patch_24\">\n    <path d=\"M 423.308571 107.498357 \nL 423.308571 35.7555 \n\" style=\"fill: none; stroke: #000000; stroke-width: 0.8; stroke-linejoin: miter; stroke-linecap: square\"/>\n   </g>\n   <g id=\"patch_25\">\n    <path d=\"M 351.565714 107.498357 \nL 423.308571 107.498357 \n\" style=\"fill: none; stroke: #000000; stroke-width: 0.8; stroke-linejoin: miter; stroke-linecap: square\"/>\n   </g>\n   <g id=\"patch_26\">\n    <path d=\"M 351.565714 35.7555 \nL 423.308571 35.7555 \n\" style=\"fill: none; stroke: #000000; stroke-width: 0.8; stroke-linejoin: miter; stroke-linecap: square\"/>\n   </g>\n   <g id=\"text_5\">\n    <!-- shirt -->\n    <g transform=\"translate(374.023393 16.318125) scale(0.12 -0.12)\">\n     <defs>\n      <path id=\"DejaVuSans-68\" d=\"M 3513 2113 \nL 3513 0 \nL 2938 0 \nL 2938 2094 \nQ 2938 2591 2744 2837 \nQ 2550 3084 2163 3084 \nQ 1697 3084 1428 2787 \nQ 1159 2491 1159 1978 \nL 1159 0 \nL 581 0 \nL 581 4863 \nL 1159 4863 \nL 1159 2956 \nQ 1366 3272 1645 3428 \nQ 1925 3584 2291 3584 \nQ 2894 3584 3203 3211 \nQ 3513 2838 3513 2113 \nz\n\" transform=\"scale(0.015625)\"/>\n      <path id=\"DejaVuSans-69\" d=\"M 603 3500 \nL 1178 3500 \nL 1178 0 \nL 603 0 \nL 603 3500 \nz\nM 603 4863 \nL 1178 4863 \nL 1178 4134 \nL 603 4134 \nL 603 4863 \nz\n\" transform=\"scale(0.015625)\"/>\n     </defs>\n     <use xlink:href=\"#DejaVuSans-73\"/>\n     <use xlink:href=\"#DejaVuSans-68\" x=\"52.099609\"/>\n     <use xlink:href=\"#DejaVuSans-69\" x=\"115.478516\"/>\n     <use xlink:href=\"#DejaVuSans-72\" x=\"143.261719\"/>\n     <use xlink:href=\"#DejaVuSans-74\" x=\"184.375\"/>\n    </g>\n    <!-- shirt -->\n    <g transform=\"translate(374.023393 29.7555) scale(0.12 -0.12)\">\n     <use xlink:href=\"#DejaVuSans-73\"/>\n     <use xlink:href=\"#DejaVuSans-68\" x=\"52.099609\"/>\n     <use xlink:href=\"#DejaVuSans-69\" x=\"115.478516\"/>\n     <use xlink:href=\"#DejaVuSans-72\" x=\"143.261719\"/>\n     <use xlink:href=\"#DejaVuSans-74\" x=\"184.375\"/>\n    </g>\n   </g>\n  </g>\n  <g id=\"axes_6\">\n   <g id=\"patch_27\">\n    <path d=\"M 437.657143 107.498357 \nL 509.4 107.498357 \nL 509.4 35.7555 \nL 437.657143 35.7555 \nz\n\" style=\"fill: #ffffff\"/>\n   </g>\n   <g clip-path=\"url(#pbde2715dd4)\">\n    <image xlink:href=\"data:image/png;base64,\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\" id=\"imagef3d6a2afc4\" transform=\"scale(1 -1) translate(0 -72)\" x=\"437.657143\" y=\"-35.498357\" width=\"72\" height=\"72\"/>\n   </g>\n   <g id=\"patch_28\">\n    <path d=\"M 437.657143 107.498357 \nL 437.657143 35.7555 \n\" style=\"fill: none; stroke: #000000; stroke-width: 0.8; stroke-linejoin: miter; stroke-linecap: square\"/>\n   </g>\n   <g id=\"patch_29\">\n    <path d=\"M 509.4 107.498357 \nL 509.4 35.7555 \n\" style=\"fill: none; stroke: #000000; stroke-width: 0.8; stroke-linejoin: miter; stroke-linecap: square\"/>\n   </g>\n   <g id=\"patch_30\">\n    <path d=\"M 437.657143 107.498357 \nL 509.4 107.498357 \n\" style=\"fill: none; stroke: #000000; stroke-width: 0.8; stroke-linejoin: miter; stroke-linecap: square\"/>\n   </g>\n   <g id=\"patch_31\">\n    <path d=\"M 437.657143 35.7555 \nL 509.4 35.7555 \n\" style=\"fill: none; stroke: #000000; stroke-width: 0.8; stroke-linejoin: miter; stroke-linecap: square\"/>\n   </g>\n   <g id=\"text_6\">\n    <!-- trouser -->\n    <g transform=\"translate(452.087009 16.318125) scale(0.12 -0.12)\">\n     <use xlink:href=\"#DejaVuSans-74\"/>\n     <use xlink:href=\"#DejaVuSans-72\" x=\"39.208984\"/>\n     <use xlink:href=\"#DejaVuSans-6f\" x=\"78.072266\"/>\n     <use xlink:href=\"#DejaVuSans-75\" x=\"139.253906\"/>\n     <use xlink:href=\"#DejaVuSans-73\" x=\"202.632812\"/>\n     <use xlink:href=\"#DejaVuSans-65\" x=\"254.732422\"/>\n     <use xlink:href=\"#DejaVuSans-72\" x=\"316.255859\"/>\n    </g>\n    <!-- trouser -->\n    <g transform=\"translate(452.087009 29.7555) scale(0.12 -0.12)\">\n     <use xlink:href=\"#DejaVuSans-74\"/>\n     <use xlink:href=\"#DejaVuSans-72\" x=\"39.208984\"/>\n     <use xlink:href=\"#DejaVuSans-6f\" x=\"78.072266\"/>\n     <use xlink:href=\"#DejaVuSans-75\" x=\"139.253906\"/>\n     <use xlink:href=\"#DejaVuSans-73\" x=\"202.632812\"/>\n     <use xlink:href=\"#DejaVuSans-65\" x=\"254.732422\"/>\n     <use xlink:href=\"#DejaVuSans-72\" x=\"316.255859\"/>\n    </g>\n   </g>\n  </g>\n </g>\n <defs>\n  <clipPath id=\"p2c79418790\">\n   <rect x=\"7.2\" y=\"35.7555\" width=\"71.742857\" height=\"71.742857\"/>\n  </clipPath>\n  <clipPath id=\"p826d417c9e\">\n   <rect x=\"93.291429\" y=\"35.7555\" width=\"71.742857\" height=\"71.742857\"/>\n  </clipPath>\n  <clipPath id=\"p2b47155697\">\n   <rect x=\"179.382857\" y=\"35.7555\" width=\"71.742857\" height=\"71.742857\"/>\n  </clipPath>\n  <clipPath id=\"p2b054bba71\">\n   <rect x=\"265.474286\" y=\"35.7555\" width=\"71.742857\" height=\"71.742857\"/>\n  </clipPath>\n  <clipPath id=\"p9cb0340c11\">\n   <rect x=\"351.565714\" y=\"35.7555\" width=\"71.742857\" height=\"71.742857\"/>\n  </clipPath>\n  <clipPath id=\"pbde2715dd4\">\n   <rect x=\"437.657143\" y=\"35.7555\" width=\"71.742857\" height=\"71.742857\"/>\n  </clipPath>\n </defs>\n</svg>\n"
     },
     "metadata": {},
     "output_type": "display_data"
    }
   ],
   "execution_count": 130
  },
  {
   "metadata": {},
   "cell_type": "markdown",
   "source": [
    "### Softmax回归简介实现\n",
    "使用Fashion-MNIST数据集，并保持批量大小为256"
   ],
   "id": "6634f8ec5f493b3e"
  },
  {
   "metadata": {},
   "cell_type": "code",
   "source": [
    "import torch\n",
    "from torch import nn\n",
    "from d2l import torch as d2l\n",
    "\n",
    "batch_size = 256\n",
    "train_iter, test_iter = d2l.load_data_fashion_mnist(batch_size)\n",
    "net = nn.Sequential(nn.Flatten(), nn.Linear(784, 10))\n",
    "\n",
    "def init_weights(m):\n",
    "    if type(m) == nn.Linear:\n",
    "        nn.init.normal_(m.weight, std=0.01)\n",
    "\n",
    "net.apply(init_weights);\n",
    "loss = nn.CrossEntropyLoss(reduction='none') \n",
    "trainer = torch.optim.SGD(net.parameters(), lr=0.1) # 使用学习率为0.1的小批量随机梯度下降作为优化算法\n",
    "num_epochs = 10\n",
    "d2l.train_ch3(net, train_iter, test_iter, loss, num_epochs, trainer)"
   ],
   "id": "c37b2cb7d39d09d6",
   "execution_count": 131,
   "outputs": []
  },
  {
   "metadata": {
    "ExecuteTime": {
     "end_time": "2024-06-03T06:20:23.464722Z",
     "start_time": "2024-06-03T06:20:23.461069Z"
    }
   },
   "cell_type": "code",
   "source": "",
   "id": "d98062606d648c6f",
   "outputs": [],
   "execution_count": 131
  },
  {
   "metadata": {},
   "cell_type": "markdown",
   "source": [
    "## 多层感知机\n",
    "感知机是一个二分类模型，只适用于P问题，不能拟合XOR函数，求解算法等价于使用批量大小为1的梯度下降。\n",
    "\n",
    "多层感知机使用隐藏层和激活函数来得到非线性模型，常用激活函数是Sigmoid、Tanh、ReLU\n",
    "\n",
    "ReLU函数：$$\\operatorname{ReLU}(x) = \\max(x, 0).$$\n",
    "\n",
    "Sigmoid函数(将输入投影到(0,1))：$$\\operatorname{sigmoid}(x) = \\frac{1}{1 + \\exp(-x)}.$$\n",
    "\n",
    "Tanh函数：$$\\operatorname{tanh}(x) = \\frac{1 - \\exp(-2x)}{1 + \\exp(-2x)}.$$\n",
    "\n",
    "超参数为隐藏层数、每层隐藏层大小\n"
   ],
   "id": "6850218a5164447e"
  },
  {
   "metadata": {},
   "cell_type": "markdown",
   "source": "### 多层感知机简洁实现",
   "id": "cbc4a62397831d40"
  },
  {
   "metadata": {},
   "cell_type": "code",
   "source": [
    "import torch\n",
    "from torch import nn\n",
    "from d2l import torch as d2l\n",
    "\n",
    "batch_size, lr, num_epochs = 256, 0.1, 10\n",
    "train_iter, test_iter = d2l.load_data_fashion_mnist(batch_size)\n",
    "net = nn.Sequential(nn.Flatten(),\n",
    "                    nn.Linear(784, 256),\n",
    "                    nn.ReLU(), # 激活函数\n",
    "                    nn.Linear(256, 10))\n",
    "\n",
    "def init_weights(m):\n",
    "    if type(m) == nn.Linear:\n",
    "        nn.init.normal_(m.weight, std=0.01)\n",
    "        \n",
    "net.apply(init_weights);\n",
    "loss = nn.CrossEntropyLoss(reduction='none') # 交叉损失熵，损失函数\n",
    "trainer = torch.optim.SGD(net.parameters(), lr=lr) # 优化器\n",
    "\n",
    "d2l.train_ch3(net, train_iter, test_iter, loss, num_epochs, trainer) #训练"
   ],
   "id": "aa06ab749ad9e5e6",
   "execution_count": 132,
   "outputs": []
  },
  {
   "metadata": {},
   "cell_type": "markdown",
   "source": [
    "### 模型选择、过拟合、欠拟合\n",
    "训练数据集用于训练模型参数，验证数据集用于选择模型超参数(评估模型好坏)，测试数据集是只用一次的数据集。\n",
    "\n",
    "一个数据集可分为如下结构：\n",
    "\n",
    "((训练+验证)，测试)    通常在代码中验证数据集取名为test。   \n",
    "\n",
    "若一个数据集不大，通常使用k-折交叉验证方法。\n",
    "\n",
    "模型容量需要匹配数据复杂度，否则会导致欠拟合和过拟合。用泛化误差和训练误差之间的差异来判断模型过拟合和欠拟合的情况。\n",
    "\n",
    "如何估计模型容量：\n",
    "- 参数的个数\n",
    "- 参数值的选择范围\n",
    "\n",
    "### 权重衰退\n",
    "通过限制参数值的选择范围来控制模型容量。\n",
    "\n",
    "权重衰退通过L2正则项使得模型参数不会过大，从而控制模型复杂度。正则项权重是控制模型复杂度的超参数。\n",
    "\n",
    "$$L(\\mathbf{w}, b) + \\frac{\\lambda}{2} \\|\\mathbf{w}\\|^2,$$\n",
    "\n",
    "### 丢弃法\n",
    "\n",
    "将一些输出项随机置0来控制模型复杂度，常作用在多层感知机的隐藏层输出上，丢弃概率是控制模型复杂度的超参数。\n",
    "$$\n",
    "\\begin{aligned}\n",
    "h' =\n",
    "\\begin{cases}\n",
    "    0 & \\text{ 概率为 } p \\\\\n",
    "    \\frac{h}{1-p} & \\text{ 其他情况}\n",
    "\\end{cases}\n",
    "\\end{aligned}\n",
    "$$\n",
    "\n",
    "### 数值稳定性、模型初始化和激活函数\n",
    "当数值过大或者过小时，都会导致数值问题。(梯度爆炸、梯度消失)\n",
    "\n",
    "常发生于深度模型中，因为会对$n$个数累乘。\n",
    "\n",
    "合理的权重初始值和激活函数的选取可以提升数值稳定性。\n",
    "\n"
   ],
   "id": "1d18c51fdfacbc12"
  },
  {
   "metadata": {},
   "cell_type": "markdown",
   "source": [
    "-----\n",
    "截止至2024/6/3"
   ],
   "id": "d9a48392ab42b650"
  },
  {
   "metadata": {},
   "cell_type": "markdown",
   "source": [
    "-----\n",
    "ing..."
   ],
   "id": "919074178edce33a"
  },
  {
   "metadata": {},
   "cell_type": "code",
   "outputs": [],
   "execution_count": null,
   "source": "",
   "id": "edd529fab4b49f97"
  }
 ],
 "metadata": {
  "kernelspec": {
   "display_name": "Base",
   "language": "python",
   "name": "base"
  },
  "language_info": {
   "codemirror_mode": {
    "name": "ipython",
    "version": 2
   },
   "file_extension": ".py",
   "mimetype": "text/x-python",
   "name": "python",
   "nbconvert_exporter": "python",
   "pygments_lexer": "ipython2",
   "version": "2.7.6"
  }
 },
 "nbformat": 4,
 "nbformat_minor": 5
}
