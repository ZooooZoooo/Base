{
 "cells": [
  {
   "metadata": {
    "ExecuteTime": {
     "end_time": "2024-06-02T07:56:07.147456Z",
     "start_time": "2024-06-02T07:56:05.003284Z"
    }
   },
   "cell_type": "code",
   "source": [
    "# Deep Learning Basic Knowledge\n",
    "\n",
    "## 预备知识\n",
    "### 数据操作\n",
    "\n",
    "import torch\n",
    "\n",
    "\n",
    "\n",
    "### 数据预处理\n",
    "\n",
    "哈哈哈哈测试\n",
    "\n",
    "## 线性神经网络\n",
    "\n",
    "### 线性回归\n",
    "\n",
    "\n",
    "\n",
    "## 多层感知机\n"
   ],
   "id": "c4ac583cef56751",
   "outputs": [],
   "execution_count": 1
  },
  {
   "metadata": {},
   "cell_type": "markdown",
   "source": "",
   "id": "87512bdb3492d1b8"
  },
  {
   "metadata": {
    "ExecuteTime": {
     "end_time": "2024-06-01T09:12:02.850744Z",
     "start_time": "2024-06-01T09:12:02.839114Z"
    }
   },
   "cell_type": "code",
   "source": "",
   "id": "d4eeb2fcc9c2613e",
   "outputs": [],
   "execution_count": 1
  }
 ],
 "metadata": {
  "kernelspec": {
   "display_name": "Base",
   "language": "python",
   "name": "base"
  },
  "language_info": {
   "codemirror_mode": {
    "name": "ipython",
    "version": 2
   },
   "file_extension": ".py",
   "mimetype": "text/x-python",
   "name": "python",
   "nbconvert_exporter": "python",
   "pygments_lexer": "ipython2",
   "version": "2.7.6"
  }
 },
 "nbformat": 4,
 "nbformat_minor": 5
}
