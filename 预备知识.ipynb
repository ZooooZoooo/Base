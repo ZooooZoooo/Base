{
 "cells": [
  {
   "metadata": {},
   "cell_type": "markdown",
   "source": [
    "# 预备知识_Preliminaries\n",
    "## 数据操作\n",
    "*本节总结：深度学习存储和操作数据的主要接口是张量，其功能包括基本数学运算、广播、索引、切片、内存节省和转换其他Python对象。*\n",
    "### 创建\n",
    "张量是由数值组成的数组，具有一个轴的张量对应数学上的 *向量*，具有两个轴的张量对应数学上的 *矩阵*。"
   ],
   "id": "f772f0e61089fe8"
  },
  {
   "metadata": {
    "ExecuteTime": {
     "end_time": "2024-06-26T03:07:10.349587Z",
     "start_time": "2024-06-26T03:07:09.454204Z"
    }
   },
   "cell_type": "code",
   "source": [
    "import torch\n",
    "\n",
    "x = torch.arange(12)  # arange创建向量，默认为整数\n",
    "x"
   ],
   "id": "8e41d48e6f0fc5ef",
   "outputs": [
    {
     "ename": "OSError",
     "evalue": "[WinError 127] 找不到指定的程序。 Error loading \"D:\\conda\\envs\\A1\\lib\\site-packages\\torch\\lib\\c10_cuda.dll\" or one of its dependencies.",
     "output_type": "error",
     "traceback": [
      "\u001B[1;31m---------------------------------------------------------------------------\u001B[0m",
      "\u001B[1;31mOSError\u001B[0m                                   Traceback (most recent call last)",
      "Cell \u001B[1;32mIn[1], line 1\u001B[0m\n\u001B[1;32m----> 1\u001B[0m \u001B[38;5;28;01mimport\u001B[39;00m \u001B[38;5;21;01mtorch\u001B[39;00m\n\u001B[0;32m      3\u001B[0m x \u001B[38;5;241m=\u001B[39m torch\u001B[38;5;241m.\u001B[39marange(\u001B[38;5;241m12\u001B[39m)  \u001B[38;5;66;03m# arange创建向量，默认为整数\u001B[39;00m\n\u001B[0;32m      4\u001B[0m x\n",
      "File \u001B[1;32mD:\\conda\\envs\\A1\\lib\\site-packages\\torch\\__init__.py:130\u001B[0m\n\u001B[0;32m    128\u001B[0m     err \u001B[38;5;241m=\u001B[39m ctypes\u001B[38;5;241m.\u001B[39mWinError(last_error)\n\u001B[0;32m    129\u001B[0m     err\u001B[38;5;241m.\u001B[39mstrerror \u001B[38;5;241m+\u001B[39m\u001B[38;5;241m=\u001B[39m \u001B[38;5;124mf\u001B[39m\u001B[38;5;124m'\u001B[39m\u001B[38;5;124m Error loading \u001B[39m\u001B[38;5;124m\"\u001B[39m\u001B[38;5;132;01m{\u001B[39;00mdll\u001B[38;5;132;01m}\u001B[39;00m\u001B[38;5;124m\"\u001B[39m\u001B[38;5;124m or one of its dependencies.\u001B[39m\u001B[38;5;124m'\u001B[39m\n\u001B[1;32m--> 130\u001B[0m     \u001B[38;5;28;01mraise\u001B[39;00m err\n\u001B[0;32m    131\u001B[0m \u001B[38;5;28;01melif\u001B[39;00m res \u001B[38;5;129;01mis\u001B[39;00m \u001B[38;5;129;01mnot\u001B[39;00m \u001B[38;5;28;01mNone\u001B[39;00m:\n\u001B[0;32m    132\u001B[0m     is_loaded \u001B[38;5;241m=\u001B[39m \u001B[38;5;28;01mTrue\u001B[39;00m\n",
      "\u001B[1;31mOSError\u001B[0m: [WinError 127] 找不到指定的程序。 Error loading \"D:\\conda\\envs\\A1\\lib\\site-packages\\torch\\lib\\c10_cuda.dll\" or one of its dependencies."
     ]
    }
   ],
   "execution_count": 1
  },
  {
   "metadata": {
    "ExecuteTime": {
     "end_time": "2024-06-26T03:06:37.098593Z",
     "start_time": "2024-06-26T03:06:37.072162Z"
    }
   },
   "cell_type": "code",
   "source": [
    "x.shape  # 形状\n",
    "x.numel()  # 元素总数"
   ],
   "id": "b743a458a547ec0a",
   "outputs": [
    {
     "ename": "NameError",
     "evalue": "name 'x' is not defined",
     "output_type": "error",
     "traceback": [
      "\u001B[1;31m---------------------------------------------------------------------------\u001B[0m",
      "\u001B[1;31mNameError\u001B[0m                                 Traceback (most recent call last)",
      "Cell \u001B[1;32mIn[36], line 1\u001B[0m\n\u001B[1;32m----> 1\u001B[0m \u001B[43mx\u001B[49m\u001B[38;5;241m.\u001B[39mshape  \u001B[38;5;66;03m# 形状\u001B[39;00m\n\u001B[0;32m      2\u001B[0m x\u001B[38;5;241m.\u001B[39mnumel()\n",
      "\u001B[1;31mNameError\u001B[0m: name 'x' is not defined"
     ]
    }
   ],
   "execution_count": 36
  },
  {
   "metadata": {
    "ExecuteTime": {
     "end_time": "2024-06-26T03:06:37.130229Z",
     "start_time": "2024-06-26T03:06:37.107595Z"
    }
   },
   "cell_type": "code",
   "source": [
    "X = x.reshape(3, 4)  # 改变形状\n",
    "X"
   ],
   "id": "97fcad1f74280bfc",
   "outputs": [
    {
     "ename": "NameError",
     "evalue": "name 'x' is not defined",
     "output_type": "error",
     "traceback": [
      "\u001B[1;31m---------------------------------------------------------------------------\u001B[0m",
      "\u001B[1;31mNameError\u001B[0m                                 Traceback (most recent call last)",
      "Cell \u001B[1;32mIn[37], line 1\u001B[0m\n\u001B[1;32m----> 1\u001B[0m X \u001B[38;5;241m=\u001B[39m \u001B[43mx\u001B[49m\u001B[38;5;241m.\u001B[39mreshape(\u001B[38;5;241m3\u001B[39m, \u001B[38;5;241m4\u001B[39m)  \u001B[38;5;66;03m# 改变形状\u001B[39;00m\n\u001B[0;32m      2\u001B[0m X\n",
      "\u001B[1;31mNameError\u001B[0m: name 'x' is not defined"
     ]
    }
   ],
   "execution_count": 37
  },
  {
   "metadata": {
    "ExecuteTime": {
     "end_time": "2024-06-26T03:06:37.318159Z",
     "start_time": "2024-06-26T03:06:37.285874Z"
    }
   },
   "cell_type": "code",
   "source": [
    "torch.zeros((2, 3, 4))  # 创建一个形状为（2,3,4）的张量，所有元素都设置为0\n",
    "torch.ones((2, 3, 4))  # 创建一个形状为（2,3,4）的张量，所有元素都设置为1"
   ],
   "id": "bebd0975f33590dc",
   "outputs": [
    {
     "ename": "NameError",
     "evalue": "name 'torch' is not defined",
     "output_type": "error",
     "traceback": [
      "\u001B[1;31m---------------------------------------------------------------------------\u001B[0m",
      "\u001B[1;31mNameError\u001B[0m                                 Traceback (most recent call last)",
      "Cell \u001B[1;32mIn[38], line 1\u001B[0m\n\u001B[1;32m----> 1\u001B[0m \u001B[43mtorch\u001B[49m\u001B[38;5;241m.\u001B[39mzeros((\u001B[38;5;241m2\u001B[39m, \u001B[38;5;241m3\u001B[39m, \u001B[38;5;241m4\u001B[39m))  \u001B[38;5;66;03m# 创建一个形状为（2,3,4）的张量，所有元素都设置为0\u001B[39;00m\n\u001B[0;32m      2\u001B[0m torch\u001B[38;5;241m.\u001B[39mones((\u001B[38;5;241m2\u001B[39m, \u001B[38;5;241m3\u001B[39m, \u001B[38;5;241m4\u001B[39m))\n",
      "\u001B[1;31mNameError\u001B[0m: name 'torch' is not defined"
     ]
    }
   ],
   "execution_count": 38
  },
  {
   "metadata": {
    "ExecuteTime": {
     "end_time": "2024-06-26T03:06:37.396657Z",
     "start_time": "2024-06-26T03:06:37.372335Z"
    }
   },
   "cell_type": "code",
   "source": [
    "torch.randn(3, 4)  # 每个元素都从均值为0、标准差为1的标准高斯分布（正态分布）中随机采样。\n",
    "torch.tensor([[2, 1, 4, 3], [1, 2, 3, 4], [4, 3, 2, 1]])  # 从0开始"
   ],
   "id": "e0a22f14b516ee30",
   "outputs": [
    {
     "ename": "NameError",
     "evalue": "name 'torch' is not defined",
     "output_type": "error",
     "traceback": [
      "\u001B[1;31m---------------------------------------------------------------------------\u001B[0m",
      "\u001B[1;31mNameError\u001B[0m                                 Traceback (most recent call last)",
      "Cell \u001B[1;32mIn[39], line 1\u001B[0m\n\u001B[1;32m----> 1\u001B[0m \u001B[43mtorch\u001B[49m\u001B[38;5;241m.\u001B[39mrandn(\u001B[38;5;241m3\u001B[39m, \u001B[38;5;241m4\u001B[39m)  \u001B[38;5;66;03m# 每个元素都从均值为0、标准差为1的标准高斯分布（正态分布）中随机采样。\u001B[39;00m\n\u001B[0;32m      2\u001B[0m torch\u001B[38;5;241m.\u001B[39mtensor([[\u001B[38;5;241m2\u001B[39m, \u001B[38;5;241m1\u001B[39m, \u001B[38;5;241m4\u001B[39m, \u001B[38;5;241m3\u001B[39m], [\u001B[38;5;241m1\u001B[39m, \u001B[38;5;241m2\u001B[39m, \u001B[38;5;241m3\u001B[39m, \u001B[38;5;241m4\u001B[39m], [\u001B[38;5;241m4\u001B[39m, \u001B[38;5;241m3\u001B[39m, \u001B[38;5;241m2\u001B[39m, \u001B[38;5;241m1\u001B[39m]])\n",
      "\u001B[1;31mNameError\u001B[0m: name 'torch' is not defined"
     ]
    }
   ],
   "execution_count": 39
  },
  {
   "metadata": {},
   "cell_type": "markdown",
   "source": [
    "### 运算符\n",
    "简单的元素运算如下："
   ],
   "id": "6af71574cff75f1d"
  },
  {
   "metadata": {
    "ExecuteTime": {
     "end_time": "2024-06-26T03:06:37.458429Z",
     "start_time": "2024-06-26T03:06:37.429385Z"
    }
   },
   "cell_type": "code",
   "source": [
    "x = torch.tensor([1.0, 2, 4, 8])\n",
    "y = torch.tensor([2, 2, 2, 2])\n",
    "x + y, x - y, x * y, x / y, x ** y  # **是求幂运算\n",
    "torch.exp(x)  # 求幂"
   ],
   "id": "64e0da0a241aef8d",
   "outputs": [
    {
     "ename": "NameError",
     "evalue": "name 'torch' is not defined",
     "output_type": "error",
     "traceback": [
      "\u001B[1;31m---------------------------------------------------------------------------\u001B[0m",
      "\u001B[1;31mNameError\u001B[0m                                 Traceback (most recent call last)",
      "Cell \u001B[1;32mIn[40], line 1\u001B[0m\n\u001B[1;32m----> 1\u001B[0m x \u001B[38;5;241m=\u001B[39m \u001B[43mtorch\u001B[49m\u001B[38;5;241m.\u001B[39mtensor([\u001B[38;5;241m1.0\u001B[39m, \u001B[38;5;241m2\u001B[39m, \u001B[38;5;241m4\u001B[39m, \u001B[38;5;241m8\u001B[39m])\n\u001B[0;32m      2\u001B[0m y \u001B[38;5;241m=\u001B[39m torch\u001B[38;5;241m.\u001B[39mtensor([\u001B[38;5;241m2\u001B[39m, \u001B[38;5;241m2\u001B[39m, \u001B[38;5;241m2\u001B[39m, \u001B[38;5;241m2\u001B[39m])\n\u001B[0;32m      3\u001B[0m x \u001B[38;5;241m+\u001B[39m y, x \u001B[38;5;241m-\u001B[39m y, x \u001B[38;5;241m*\u001B[39m y, x \u001B[38;5;241m/\u001B[39m y, x \u001B[38;5;241m*\u001B[39m\u001B[38;5;241m*\u001B[39m y  \u001B[38;5;66;03m# **是求幂运算\u001B[39;00m\n",
      "\u001B[1;31mNameError\u001B[0m: name 'torch' is not defined"
     ]
    }
   ],
   "execution_count": 40
  },
  {
   "metadata": {
    "ExecuteTime": {
     "end_time": "2024-06-26T03:06:37.536866Z",
     "start_time": "2024-06-26T03:06:37.507553Z"
    }
   },
   "cell_type": "code",
   "source": [
    "# 连结张量\n",
    "X = torch.arange(12, dtype=torch.float32).reshape((3, 4))\n",
    "Y = torch.tensor([[2.0, 1, 4, 3], [1, 2, 3, 4], [4, 3, 2, 1]])\n",
    "(torch.cat((X, Y), dim=0), torch.cat((X, Y), dim=1))  # 0为按行拼接，1为按列拼接"
   ],
   "id": "cc72c854c09e1b47",
   "outputs": [
    {
     "ename": "NameError",
     "evalue": "name 'torch' is not defined",
     "output_type": "error",
     "traceback": [
      "\u001B[1;31m---------------------------------------------------------------------------\u001B[0m",
      "\u001B[1;31mNameError\u001B[0m                                 Traceback (most recent call last)",
      "Cell \u001B[1;32mIn[41], line 2\u001B[0m\n\u001B[0;32m      1\u001B[0m \u001B[38;5;66;03m# 连结张量\u001B[39;00m\n\u001B[1;32m----> 2\u001B[0m X \u001B[38;5;241m=\u001B[39m \u001B[43mtorch\u001B[49m\u001B[38;5;241m.\u001B[39marange(\u001B[38;5;241m12\u001B[39m, dtype\u001B[38;5;241m=\u001B[39mtorch\u001B[38;5;241m.\u001B[39mfloat32)\u001B[38;5;241m.\u001B[39mreshape((\u001B[38;5;241m3\u001B[39m, \u001B[38;5;241m4\u001B[39m))\n\u001B[0;32m      3\u001B[0m Y \u001B[38;5;241m=\u001B[39m torch\u001B[38;5;241m.\u001B[39mtensor([[\u001B[38;5;241m2.0\u001B[39m, \u001B[38;5;241m1\u001B[39m, \u001B[38;5;241m4\u001B[39m, \u001B[38;5;241m3\u001B[39m], [\u001B[38;5;241m1\u001B[39m, \u001B[38;5;241m2\u001B[39m, \u001B[38;5;241m3\u001B[39m, \u001B[38;5;241m4\u001B[39m], [\u001B[38;5;241m4\u001B[39m, \u001B[38;5;241m3\u001B[39m, \u001B[38;5;241m2\u001B[39m, \u001B[38;5;241m1\u001B[39m]])\n\u001B[0;32m      4\u001B[0m (torch\u001B[38;5;241m.\u001B[39mcat((X, Y), dim\u001B[38;5;241m=\u001B[39m\u001B[38;5;241m0\u001B[39m), torch\u001B[38;5;241m.\u001B[39mcat((X, Y), dim\u001B[38;5;241m=\u001B[39m\u001B[38;5;241m1\u001B[39m))\n",
      "\u001B[1;31mNameError\u001B[0m: name 'torch' is not defined"
     ]
    }
   ],
   "execution_count": 41
  },
  {
   "metadata": {},
   "cell_type": "markdown",
   "source": [
    "### 广播机制\n",
    "即使形状不同，仍可以通过 ** 广播机制 ** 来执行按元素操作。例如："
   ],
   "id": "b99c098260708685"
  },
  {
   "metadata": {
    "ExecuteTime": {
     "end_time": "2024-06-26T03:06:37.599857Z",
     "start_time": "2024-06-26T03:06:37.571097Z"
    }
   },
   "cell_type": "code",
   "source": [
    "a = torch.arange(3).reshape((3, 1))\n",
    "b = torch.arange(2).reshape((1, 2))\n",
    "a, b"
   ],
   "id": "32a6132cfb6896f8",
   "outputs": [
    {
     "ename": "NameError",
     "evalue": "name 'torch' is not defined",
     "output_type": "error",
     "traceback": [
      "\u001B[1;31m---------------------------------------------------------------------------\u001B[0m",
      "\u001B[1;31mNameError\u001B[0m                                 Traceback (most recent call last)",
      "Cell \u001B[1;32mIn[42], line 1\u001B[0m\n\u001B[1;32m----> 1\u001B[0m a \u001B[38;5;241m=\u001B[39m \u001B[43mtorch\u001B[49m\u001B[38;5;241m.\u001B[39marange(\u001B[38;5;241m3\u001B[39m)\u001B[38;5;241m.\u001B[39mreshape((\u001B[38;5;241m3\u001B[39m, \u001B[38;5;241m1\u001B[39m))\n\u001B[0;32m      2\u001B[0m b \u001B[38;5;241m=\u001B[39m torch\u001B[38;5;241m.\u001B[39marange(\u001B[38;5;241m2\u001B[39m)\u001B[38;5;241m.\u001B[39mreshape((\u001B[38;5;241m1\u001B[39m, \u001B[38;5;241m2\u001B[39m))\n\u001B[0;32m      3\u001B[0m a, b\n",
      "\u001B[1;31mNameError\u001B[0m: name 'torch' is not defined"
     ]
    }
   ],
   "execution_count": 42
  },
  {
   "metadata": {
    "ExecuteTime": {
     "end_time": "2024-06-26T03:06:37.631145Z",
     "start_time": "2024-06-26T03:06:37.602868Z"
    }
   },
   "cell_type": "code",
   "source": "a + b",
   "id": "39d895ca5ad3324f",
   "outputs": [
    {
     "ename": "NameError",
     "evalue": "name 'a' is not defined",
     "output_type": "error",
     "traceback": [
      "\u001B[1;31m---------------------------------------------------------------------------\u001B[0m",
      "\u001B[1;31mNameError\u001B[0m                                 Traceback (most recent call last)",
      "Cell \u001B[1;32mIn[43], line 1\u001B[0m\n\u001B[1;32m----> 1\u001B[0m \u001B[43ma\u001B[49m \u001B[38;5;241m+\u001B[39m b\n",
      "\u001B[1;31mNameError\u001B[0m: name 'a' is not defined"
     ]
    }
   ],
   "execution_count": 43
  },
  {
   "metadata": {},
   "cell_type": "markdown",
   "source": "### 索引和切片",
   "id": "5381b86dc7e29b62"
  },
  {
   "metadata": {
    "ExecuteTime": {
     "end_time": "2024-06-26T03:06:37.663731Z",
     "start_time": "2024-06-26T03:06:37.644589Z"
    }
   },
   "cell_type": "code",
   "source": "X[-1], X[1:3]  # 第一个元素的索引是0，-1为最后一个元素，1:3为第二个和第3个元素（左闭右开）",
   "id": "b5e24d49284c65a7",
   "outputs": [
    {
     "ename": "NameError",
     "evalue": "name 'X' is not defined",
     "output_type": "error",
     "traceback": [
      "\u001B[1;31m---------------------------------------------------------------------------\u001B[0m",
      "\u001B[1;31mNameError\u001B[0m                                 Traceback (most recent call last)",
      "Cell \u001B[1;32mIn[44], line 1\u001B[0m\n\u001B[1;32m----> 1\u001B[0m \u001B[43mX\u001B[49m[\u001B[38;5;241m-\u001B[39m\u001B[38;5;241m1\u001B[39m], X[\u001B[38;5;241m1\u001B[39m:\u001B[38;5;241m3\u001B[39m]\n",
      "\u001B[1;31mNameError\u001B[0m: name 'X' is not defined"
     ]
    }
   ],
   "execution_count": 44
  },
  {
   "metadata": {
    "ExecuteTime": {
     "end_time": "2024-06-26T03:06:37.695429Z",
     "start_time": "2024-06-26T03:06:37.680937Z"
    }
   },
   "cell_type": "code",
   "source": [
    "X[1, 2] = 9  # 更改元素\n",
    "X"
   ],
   "id": "19476778320b732d",
   "outputs": [
    {
     "ename": "NameError",
     "evalue": "name 'X' is not defined",
     "output_type": "error",
     "traceback": [
      "\u001B[1;31m---------------------------------------------------------------------------\u001B[0m",
      "\u001B[1;31mNameError\u001B[0m                                 Traceback (most recent call last)",
      "Cell \u001B[1;32mIn[45], line 1\u001B[0m\n\u001B[1;32m----> 1\u001B[0m \u001B[43mX\u001B[49m[\u001B[38;5;241m1\u001B[39m, \u001B[38;5;241m2\u001B[39m] \u001B[38;5;241m=\u001B[39m \u001B[38;5;241m9\u001B[39m  \u001B[38;5;66;03m# 更改元素\u001B[39;00m\n\u001B[0;32m      2\u001B[0m X\n",
      "\u001B[1;31mNameError\u001B[0m: name 'X' is not defined"
     ]
    }
   ],
   "execution_count": 45
  },
  {
   "metadata": {
    "ExecuteTime": {
     "end_time": "2024-06-26T03:06:37.774776Z",
     "start_time": "2024-06-26T03:06:37.739200Z"
    }
   },
   "cell_type": "code",
   "source": [
    "X[0:2, :] = 12  # 访问第一行和第二行的所有元素，并赋值为12\n",
    "X"
   ],
   "id": "c0894468c128774b",
   "outputs": [
    {
     "ename": "NameError",
     "evalue": "name 'X' is not defined",
     "output_type": "error",
     "traceback": [
      "\u001B[1;31m---------------------------------------------------------------------------\u001B[0m",
      "\u001B[1;31mNameError\u001B[0m                                 Traceback (most recent call last)",
      "Cell \u001B[1;32mIn[46], line 1\u001B[0m\n\u001B[1;32m----> 1\u001B[0m \u001B[43mX\u001B[49m[\u001B[38;5;241m0\u001B[39m:\u001B[38;5;241m2\u001B[39m, :] \u001B[38;5;241m=\u001B[39m \u001B[38;5;241m12\u001B[39m  \u001B[38;5;66;03m# 访问第一行和第二行的所有元素，并赋值为12\u001B[39;00m\n\u001B[0;32m      2\u001B[0m X\n",
      "\u001B[1;31mNameError\u001B[0m: name 'X' is not defined"
     ]
    }
   ],
   "execution_count": 46
  },
  {
   "metadata": {},
   "cell_type": "markdown",
   "source": [
    "### 节省内存\n",
    "浅拷贝和深拷贝？\n",
    "一般采用 ** X[:] = X + Y ** 或 ** X += Y ** 来减少操作的开销"
   ],
   "id": "ed8d0ed15e2206a8"
  },
  {
   "metadata": {},
   "cell_type": "markdown",
   "source": [
    "### 转换为其他python对象\n",
    "张量和NumPy张量相互转换"
   ],
   "id": "cf9ac3eb17b6a3a6"
  },
  {
   "metadata": {},
   "cell_type": "code",
   "source": [
    "import torch\n",
    "\n",
    "A = X.numpy()\n",
    "B = torch.tensor(A)\n",
    "type(A), type(B)"
   ],
   "id": "3ae639e73ef6e18a",
   "outputs": [],
   "execution_count": null
  },
  {
   "metadata": {},
   "cell_type": "markdown",
   "source": "",
   "id": "47692834edee73fc"
  },
  {
   "metadata": {},
   "cell_type": "markdown",
   "source": "将张量转换为Python标量，可以调用item函数或Python的内置函数",
   "id": "8c3d50109d07165a"
  },
  {
   "metadata": {
    "ExecuteTime": {
     "end_time": "2024-06-26T03:06:37.837221Z",
     "start_time": "2024-06-26T03:06:37.808534Z"
    }
   },
   "cell_type": "code",
   "source": [
    "a = torch.tensor([3.5])\n",
    "a, a.item(), float(a), int(a)"
   ],
   "id": "68401a7c57a384f7",
   "outputs": [
    {
     "ename": "NameError",
     "evalue": "name 'torch' is not defined",
     "output_type": "error",
     "traceback": [
      "\u001B[1;31m---------------------------------------------------------------------------\u001B[0m",
      "\u001B[1;31mNameError\u001B[0m                                 Traceback (most recent call last)",
      "Cell \u001B[1;32mIn[47], line 1\u001B[0m\n\u001B[1;32m----> 1\u001B[0m a \u001B[38;5;241m=\u001B[39m \u001B[43mtorch\u001B[49m\u001B[38;5;241m.\u001B[39mtensor([\u001B[38;5;241m3.5\u001B[39m])\n\u001B[0;32m      2\u001B[0m a, a\u001B[38;5;241m.\u001B[39mitem(), \u001B[38;5;28mfloat\u001B[39m(a), \u001B[38;5;28mint\u001B[39m(a)\n",
      "\u001B[1;31mNameError\u001B[0m: name 'torch' is not defined"
     ]
    }
   ],
   "execution_count": 47
  },
  {
   "metadata": {},
   "cell_type": "markdown",
   "source": [
    "## 数据预处理\n",
    "上一节中主要介绍了深度学习主要针对的数据对象类型及操作，这一节介绍如何将数据导入并简单处理。\n",
    "\n",
    "*本节总结：用pandas处理缺失的数据时，可根据情况选择用插值法和删除。*"
   ],
   "id": "fc4acad78a3186e3"
  },
  {
   "metadata": {},
   "cell_type": "code",
   "source": "### 读取数据集",
   "id": "386563dc24730aee",
   "outputs": [],
   "execution_count": null
  },
  {
   "metadata": {
    "ExecuteTime": {
     "end_time": "2024-06-26T03:06:37.900489Z",
     "start_time": "2024-06-26T03:06:37.864263Z"
    }
   },
   "cell_type": "code",
   "source": [
    "import os\n",
    "import pandas as pd\n",
    "\n",
    "os.makedirs(os.path.join('..', 'data'), exist_ok=True)\n",
    "data_file = os.path.join('..', 'data', 'test1.csv')  # 创建数据集，并存储在test1.csv文件\n",
    "with open(data_file, 'w') as f:\n",
    "    f.write('NumRooms,Alley,Price\\n')  # 列名\n",
    "    f.write('NA,Pave,127500\\n')  # 数据\n",
    "    f.write('2,NA,106000\\n')\n",
    "    f.write('4,NA,178100\\n')\n",
    "    f.write('NA,NA,140000\\n')\n",
    "data = pd.read_csv(data_file)\n",
    "print(data)"
   ],
   "id": "c22d4b2c2ba6ca00",
   "outputs": [
    {
     "ename": "AttributeError",
     "evalue": "module 'pandas' has no attribute 'read_csv'",
     "output_type": "error",
     "traceback": [
      "\u001B[1;31m---------------------------------------------------------------------------\u001B[0m",
      "\u001B[1;31mAttributeError\u001B[0m                            Traceback (most recent call last)",
      "Cell \u001B[1;32mIn[48], line 12\u001B[0m\n\u001B[0;32m     10\u001B[0m     f\u001B[38;5;241m.\u001B[39mwrite(\u001B[38;5;124m'\u001B[39m\u001B[38;5;124m4,NA,178100\u001B[39m\u001B[38;5;130;01m\\n\u001B[39;00m\u001B[38;5;124m'\u001B[39m)\n\u001B[0;32m     11\u001B[0m     f\u001B[38;5;241m.\u001B[39mwrite(\u001B[38;5;124m'\u001B[39m\u001B[38;5;124mNA,NA,140000\u001B[39m\u001B[38;5;130;01m\\n\u001B[39;00m\u001B[38;5;124m'\u001B[39m)\n\u001B[1;32m---> 12\u001B[0m data \u001B[38;5;241m=\u001B[39m \u001B[43mpd\u001B[49m\u001B[38;5;241;43m.\u001B[39;49m\u001B[43mread_csv\u001B[49m(data_file)\n\u001B[0;32m     13\u001B[0m \u001B[38;5;28mprint\u001B[39m(data)\n",
      "\u001B[1;31mAttributeError\u001B[0m: module 'pandas' has no attribute 'read_csv'"
     ]
    }
   ],
   "execution_count": 48
  },
  {
   "metadata": {},
   "cell_type": "markdown",
   "source": [
    "### 处理缺失值\n",
    "插值法或删除"
   ],
   "id": "89774883550f805a"
  },
  {
   "metadata": {},
   "cell_type": "code",
   "source": [
    "inputs, outputs = data.iloc[:, 0:2], data.iloc[:, 2]\n",
    "inputs = inputs.fillna(inputs.mean(numeric_only=True))  # 用纯数字元素的均值替换空缺值\n",
    "print(inputs)\n",
    "inputs = pd.get_dummies(inputs, dummy_na=True)  # 转换，分类为True和False\n",
    "print(inputs)"
   ],
   "id": "26788202cf32c43c",
   "outputs": [],
   "execution_count": null
  },
  {
   "metadata": {},
   "cell_type": "markdown",
   "source": [
    "### 转换为张量格式\n",
    "将数据转换为张量格式"
   ],
   "id": "997fc339dde512ea"
  },
  {
   "metadata": {
    "ExecuteTime": {
     "end_time": "2024-06-26T03:06:38.072216Z",
     "start_time": "2024-06-26T03:06:37.929068Z"
    }
   },
   "cell_type": "code",
   "source": [
    "import torch\n",
    "\n",
    "X = torch.tensor(inputs.to_numpy(dtype=float))  # 转换为张量\n",
    "y = torch.tensor(outputs.to_numpy(dtype=float))\n",
    "X, y"
   ],
   "id": "652cc35bb29b6cc6",
   "outputs": [
    {
     "ename": "OSError",
     "evalue": "[WinError 127] 找不到指定的程序。 Error loading \"D:\\conda\\envs\\A1\\lib\\site-packages\\torch\\lib\\c10_cuda.dll\" or one of its dependencies.",
     "output_type": "error",
     "traceback": [
      "\u001B[1;31m---------------------------------------------------------------------------\u001B[0m",
      "\u001B[1;31mOSError\u001B[0m                                   Traceback (most recent call last)",
      "Cell \u001B[1;32mIn[49], line 1\u001B[0m\n\u001B[1;32m----> 1\u001B[0m \u001B[38;5;28;01mimport\u001B[39;00m \u001B[38;5;21;01mtorch\u001B[39;00m\n\u001B[0;32m      3\u001B[0m X \u001B[38;5;241m=\u001B[39m torch\u001B[38;5;241m.\u001B[39mtensor(inputs\u001B[38;5;241m.\u001B[39mto_numpy(dtype\u001B[38;5;241m=\u001B[39m\u001B[38;5;28mfloat\u001B[39m))  \u001B[38;5;66;03m# 转换为张量\u001B[39;00m\n\u001B[0;32m      4\u001B[0m y \u001B[38;5;241m=\u001B[39m torch\u001B[38;5;241m.\u001B[39mtensor(outputs\u001B[38;5;241m.\u001B[39mto_numpy(dtype\u001B[38;5;241m=\u001B[39m\u001B[38;5;28mfloat\u001B[39m))\n",
      "File \u001B[1;32mD:\\conda\\envs\\A1\\lib\\site-packages\\torch\\__init__.py:130\u001B[0m\n\u001B[0;32m    128\u001B[0m     err \u001B[38;5;241m=\u001B[39m ctypes\u001B[38;5;241m.\u001B[39mWinError(last_error)\n\u001B[0;32m    129\u001B[0m     err\u001B[38;5;241m.\u001B[39mstrerror \u001B[38;5;241m+\u001B[39m\u001B[38;5;241m=\u001B[39m \u001B[38;5;124mf\u001B[39m\u001B[38;5;124m'\u001B[39m\u001B[38;5;124m Error loading \u001B[39m\u001B[38;5;124m\"\u001B[39m\u001B[38;5;132;01m{\u001B[39;00mdll\u001B[38;5;132;01m}\u001B[39;00m\u001B[38;5;124m\"\u001B[39m\u001B[38;5;124m or one of its dependencies.\u001B[39m\u001B[38;5;124m'\u001B[39m\n\u001B[1;32m--> 130\u001B[0m     \u001B[38;5;28;01mraise\u001B[39;00m err\n\u001B[0;32m    131\u001B[0m \u001B[38;5;28;01melif\u001B[39;00m res \u001B[38;5;129;01mis\u001B[39;00m \u001B[38;5;129;01mnot\u001B[39;00m \u001B[38;5;28;01mNone\u001B[39;00m:\n\u001B[0;32m    132\u001B[0m     is_loaded \u001B[38;5;241m=\u001B[39m \u001B[38;5;28;01mTrue\u001B[39;00m\n",
      "\u001B[1;31mOSError\u001B[0m: [WinError 127] 找不到指定的程序。 Error loading \"D:\\conda\\envs\\A1\\lib\\site-packages\\torch\\lib\\c10_cuda.dll\" or one of its dependencies."
     ]
    }
   ],
   "execution_count": 49
  },
  {
   "metadata": {},
   "cell_type": "markdown",
   "source": [
    "## 线性代数\n",
    "简单记录一下。"
   ],
   "id": "c02774baa14f6f13"
  },
  {
   "metadata": {},
   "cell_type": "markdown",
   "source": [
    "\n",
    "$x$、$y$和$z$：标量变量，仅包含一个数值 * torch.tensor(3.0) *\n",
    "\n",
    "$\\mathbb\n",
    "{R}$：所有实数标量的空间 - 实数集合\n",
    "\n",
    "$\\mathbf\n",
    "{x}$、$\\mathbf\n",
    "{y}$和$\\mathbf\n",
    "{z})$：向量，标量值组成的列表 * torch.arange(4) *\n",
    "\n",
    "$\\mathbf\n",
    "{X}$、$\\mathbf\n",
    "{X} \\ in  \\mathbb\n",
    "{R} ^ {m \\times\n",
    "n}$：矩阵，具有两个轴的张量 * torch.arange(20).reshape(5, 4) *\n",
    "\n",
    "$\\mathbf\n",
    "{a} ^\\top$：转置 *A.T*\n",
    "\n",
    "           张量：具有任意数量轴的$n$维数组的通用方法，向量是一阶张量，矩阵是二阶张量\n",
    "\n",
    "矩阵和矩阵的运算，两个矩阵的按元素乘法被称为他们的Hadamard积。\n",
    "\n",
    "求和：sum(axis=0)\n",
    "对每一列进行求和，sum(axis=1)\n",
    "对每一行进行求和，sum(axis=[0, 1]) = sum()\n",
    "整个矩阵求和\n",
    "\n",
    "均值：A.mean(), A.sum() / A.numel()\n",
    "\n",
    "两个向量相乘为点积，矩阵 - 向量积，矩阵 - 矩阵(m * n，n * k --> m * k)"
   ],
   "id": "1bba734e635db470"
  },
  {
   "metadata": {},
   "cell_type": "markdown",
   "source": [
    "\n",
    "## 范数\n",
    "L2范数：$$\\ | \\mathbf\n",
    "{x}\\ | _2 = \\sqrt\n",
    "{\\sum_\n",
    "{i = 1} ^ n\n",
    "x_i ^ 2}, $$"
   ],
   "id": "1f756aaff9c118b0"
  },
  {
   "metadata": {},
   "cell_type": "code",
   "source": [
    "u = torch.tensor([3.0, -4.0])\n",
    "torch.norm(u)"
   ],
   "id": "88c5b7a16421ce6b",
   "outputs": [],
   "execution_count": null
  },
  {
   "metadata": {},
   "cell_type": "markdown",
   "source": "L1范数：$$\\ | \\mathbf{x}\\ | _1 = \\sum_{i=1} ^ n \\left | x_i \\right |.$$",
   "id": "95e76be33e938626"
  },
  {
   "metadata": {},
   "cell_type": "markdown",
   "source": "torch.abs(u).sum()",
   "id": "9500f23299341850"
  },
  {
   "metadata": {},
   "cell_type": "markdown",
   "source": [
    "Frobenius范数：\n",
    "$$\\ | \\mathbf{X}\\ | _F = \\sqrt{\\sum_{i=1} ^ m \\sum_{j=1} ^ n x_{ij} ^ 2}.$$"
   ],
   "id": "be8f535e4a96fd40"
  },
  {
   "metadata": {},
   "cell_type": "code",
   "source": "torch.norm(torch.ones((4, 9)))",
   "id": "4785f581e036f727",
   "outputs": [],
   "execution_count": null
  },
  {
   "metadata": {},
   "cell_type": "markdown",
   "source": [
    "## 微积分\n",
    "* 本节小结：微分和积分是微积分的两个分支，前者可以应用于深度学习中的优化问题。梯度是一个向量，其分量是多变量函数相对于其所有变量的偏导数。链式法则可以用来微分复合函数。*\n",
    "\n",
    "### 导数和微分\n",
    "具体实例："
   ],
   "id": "ce1bd3ad7e935519"
  },
  {
   "metadata": {},
   "cell_type": "code",
   "source": [
    "import numpy as np\n",
    "from matplotlib_inline import backend_inline\n",
    "from d2l import torch as d2l  # 一定要用0.17.5版本的d2l，更高版本因为更新的原因会报错\n",
    "\n",
    "def f(x):\n",
    "    return 3 * x ** 2 - 4 * x"
   ],
   "id": "c93795e3787c17d6",
   "outputs": [],
   "execution_count": null
  },
  {
   "metadata": {},
   "cell_type": "code",
   "source": [
    "def numerical_lim(f, x, h):\n",
    "    return (f(x + h) - f(x)) / h\n",
    "\n",
    "h = 0.1\n",
    "for i in range(5):\n",
    "    print(f'h={h:.5f}, numerical limit={numerical_lim(f, 1, h):.5f}')\n",
    "    h *= 0.1"
   ],
   "id": "60eadec7f22d19d5",
   "outputs": [],
   "execution_count": null
  },
  {
   "metadata": {},
   "cell_type": "code",
   "source": [
    "def use_svg_display():  #@save\n",
    "    \"\"\"使用svg格式在Jupyter中显示绘图\"\"\"\n",
    "    backend_inline.set_matplotlib_formats('svg')"
   ],
   "id": "9c521fe939f06d7a",
   "outputs": [],
   "execution_count": null
  },
  {
   "metadata": {},
   "cell_type": "code",
   "source": [
    "def set_figsize(figsize=(3.5, 2.5)):  #@save\n",
    "    \"\"\"设置matplotlib的图表大小\"\"\"\n",
    "    use_svg_display()\n",
    "    d2l.plt.rcParams['figure.figsize'] = figsize"
   ],
   "id": "2c2df5d3d2a62f9",
   "outputs": [],
   "execution_count": null
  },
  {
   "metadata": {
    "ExecuteTime": {
     "end_time": "2024-06-26T03:06:38.118619Z",
     "start_time": "2024-06-26T03:06:38.103381Z"
    }
   },
   "cell_type": "code",
   "source": [
    "#@save\n",
    "def set_axes(axes, xlabel, ylabel, xlim, ylim, xscale, yscale, legend):\n",
    "    \"\"\"设置matplotlib的轴\"\"\"\n",
    "    axes.set_xlabel(xlabel)\n",
    "    axes.set_ylabel(ylabel)\n",
    "    axes.set_xscale(xscale)\n",
    "    axes.set_yscale(yscale)\n",
    "    axes.set_xlim(xlim)\n",
    "    axes.set_ylim(ylim)\n",
    "    if legend:\n",
    "        axes.legend(legend)\n",
    "    axes.grid()"
   ],
   "id": "9d2e97b0ea28367d",
   "outputs": [],
   "execution_count": 50
  },
  {
   "metadata": {
    "ExecuteTime": {
     "end_time": "2024-06-26T03:06:38.149360Z",
     "start_time": "2024-06-26T03:06:38.135805Z"
    }
   },
   "cell_type": "code",
   "source": [
    "#@save\n",
    "def plot(X, Y=None, xlabel=None, ylabel=None, legend=None, xlim=None,\n",
    "         ylim=None, xscale='linear', yscale='linear',\n",
    "         fmts=('-', 'm--', 'g-.', 'r:'), figsize=(3.5, 2.5), axes=None):\n",
    "    \"\"\"绘制数据点\"\"\"\n",
    "    if legend is None:\n",
    "        legend = []\n",
    "\n",
    "    set_figsize(figsize)\n",
    "    axes = axes if axes else d2l.plt.gca()\n",
    "\n",
    "    # 如果X有一个轴，输出True\n",
    "    def has_one_axis(X):\n",
    "        return (hasattr(X, \"ndim\") and X.ndim == 1 or isinstance(X, list)\n",
    "                and not hasattr(X[0], \"__len__\"))\n",
    "\n",
    "    if has_one_axis(X):\n",
    "        X = [X]\n",
    "    if Y is None:\n",
    "        X, Y = [[]] * len(X), X\n",
    "    elif has_one_axis(Y):\n",
    "        Y = [Y]\n",
    "    if len(X) != len(Y):\n",
    "        X = X * len(Y)\n",
    "    axes.cla()\n",
    "    for x, y, fmt in zip(X, Y, fmts):\n",
    "        if len(x):\n",
    "            axes.plot(x, y, fmt)\n",
    "        else:\n",
    "            axes.plot(y, fmt)\n",
    "    set_axes(axes, xlabel, ylabel, xlim, ylim, xscale, yscale, legend)"
   ],
   "id": "c27d631ebb5f2b15",
   "outputs": [],
   "execution_count": 51
  },
  {
   "metadata": {
    "ExecuteTime": {
     "end_time": "2024-06-26T03:06:38.211247Z",
     "start_time": "2024-06-26T03:06:38.184310Z"
    }
   },
   "cell_type": "code",
   "source": [
    "x = np.arange(0, 3, 0.1)\n",
    "plot(x, [f(x), 2 * x - 3], 'x', 'f(x)', legend=['f(x)', 'Tangent line (x=1)'])"
   ],
   "id": "7a36311f1c70d603",
   "outputs": [
    {
     "ename": "AttributeError",
     "evalue": "module 'numpy' has no attribute 'arange'",
     "output_type": "error",
     "traceback": [
      "\u001B[1;31m---------------------------------------------------------------------------\u001B[0m",
      "\u001B[1;31mAttributeError\u001B[0m                            Traceback (most recent call last)",
      "Cell \u001B[1;32mIn[52], line 1\u001B[0m\n\u001B[1;32m----> 1\u001B[0m x \u001B[38;5;241m=\u001B[39m \u001B[43mnp\u001B[49m\u001B[38;5;241;43m.\u001B[39;49m\u001B[43marange\u001B[49m(\u001B[38;5;241m0\u001B[39m, \u001B[38;5;241m3\u001B[39m, \u001B[38;5;241m0.1\u001B[39m)\n\u001B[0;32m      2\u001B[0m plot(x, [f(x), \u001B[38;5;241m2\u001B[39m \u001B[38;5;241m*\u001B[39m x \u001B[38;5;241m-\u001B[39m \u001B[38;5;241m3\u001B[39m], \u001B[38;5;124m'\u001B[39m\u001B[38;5;124mx\u001B[39m\u001B[38;5;124m'\u001B[39m, \u001B[38;5;124m'\u001B[39m\u001B[38;5;124mf(x)\u001B[39m\u001B[38;5;124m'\u001B[39m, legend\u001B[38;5;241m=\u001B[39m[\u001B[38;5;124m'\u001B[39m\u001B[38;5;124mf(x)\u001B[39m\u001B[38;5;124m'\u001B[39m, \u001B[38;5;124m'\u001B[39m\u001B[38;5;124mTangent line (x=1)\u001B[39m\u001B[38;5;124m'\u001B[39m])\n",
      "\u001B[1;31mAttributeError\u001B[0m: module 'numpy' has no attribute 'arange'"
     ]
    }
   ],
   "execution_count": 52
  },
  {
   "metadata": {},
   "cell_type": "markdown",
   "source": [
    "微分的定义\n",
    "\n",
    "梯度\n",
    "\n",
    "链式法则求解多元函数微分\n",
    "\n",
    "### 自动求导\n",
    "*本节小结：这一节再多看几遍*\n",
    "\n",
    "计算图：将代码分解成操作子；将计算表示为一个无环图\n",
    "\n",
    "自动求导的两种模式：正向积累和反向积累\n",
    "\n",
    "链式法则 $$\\frac\n",
    "{dy}\n",
    "{dx} = \\frac\n",
    "{dy}\n",
    "{du} \\frac\n",
    "{du}\n",
    "{dx}.$$\n",
    "\n",
    "下面对函数$y = 2\\mathbf\n",
    "{x} ^ {\\top}\\mathbf\n",
    "{x}$关于列向量$\\mathbf\n",
    "{x}$求导："
   ],
   "id": "4ec0482d4bd054bd"
  },
  {
   "metadata": {
    "ExecuteTime": {
     "end_time": "2024-06-26T03:06:38.349839Z",
     "start_time": "2024-06-26T03:06:38.213374Z"
    }
   },
   "cell_type": "code",
   "source": [
    "import torch\n",
    "\n",
    "x = torch.arange(4.0, requires_grad=True)  # 在x里面存储梯度\n",
    "x.grad  # 默认为None\n",
    "y = 2 * torch.dot(x, x)\n",
    "y.backward()  # 反向传播\n",
    "x.grad\n",
    "# 在默认情况下，PyTorch会累积梯度，我们需要清除之前的值 x.grad.zero_()\n",
    "# 在绝大多数情况下，很少对向量进行求导，都是对标量。y.sum().backward()\n",
    "# u = y.detach() 把u看作是一个关于y的常量\n",
    "# 还可以利用Python控制流（例如，条件、循环或任意函数调用），来计算导数"
   ],
   "id": "2bdb07aabd757095",
   "outputs": [
    {
     "ename": "OSError",
     "evalue": "[WinError 127] 找不到指定的程序。 Error loading \"D:\\conda\\envs\\A1\\lib\\site-packages\\torch\\lib\\c10_cuda.dll\" or one of its dependencies.",
     "output_type": "error",
     "traceback": [
      "\u001B[1;31m---------------------------------------------------------------------------\u001B[0m",
      "\u001B[1;31mOSError\u001B[0m                                   Traceback (most recent call last)",
      "Cell \u001B[1;32mIn[53], line 1\u001B[0m\n\u001B[1;32m----> 1\u001B[0m \u001B[38;5;28;01mimport\u001B[39;00m \u001B[38;5;21;01mtorch\u001B[39;00m\n\u001B[0;32m      3\u001B[0m x \u001B[38;5;241m=\u001B[39m torch\u001B[38;5;241m.\u001B[39marange(\u001B[38;5;241m4.0\u001B[39m, requires_grad\u001B[38;5;241m=\u001B[39m\u001B[38;5;28;01mTrue\u001B[39;00m)  \u001B[38;5;66;03m# 在x里面存储梯度\u001B[39;00m\n\u001B[0;32m      4\u001B[0m x\u001B[38;5;241m.\u001B[39mgrad  \u001B[38;5;66;03m# 默认为None\u001B[39;00m\n",
      "File \u001B[1;32mD:\\conda\\envs\\A1\\lib\\site-packages\\torch\\__init__.py:130\u001B[0m\n\u001B[0;32m    128\u001B[0m     err \u001B[38;5;241m=\u001B[39m ctypes\u001B[38;5;241m.\u001B[39mWinError(last_error)\n\u001B[0;32m    129\u001B[0m     err\u001B[38;5;241m.\u001B[39mstrerror \u001B[38;5;241m+\u001B[39m\u001B[38;5;241m=\u001B[39m \u001B[38;5;124mf\u001B[39m\u001B[38;5;124m'\u001B[39m\u001B[38;5;124m Error loading \u001B[39m\u001B[38;5;124m\"\u001B[39m\u001B[38;5;132;01m{\u001B[39;00mdll\u001B[38;5;132;01m}\u001B[39;00m\u001B[38;5;124m\"\u001B[39m\u001B[38;5;124m or one of its dependencies.\u001B[39m\u001B[38;5;124m'\u001B[39m\n\u001B[1;32m--> 130\u001B[0m     \u001B[38;5;28;01mraise\u001B[39;00m err\n\u001B[0;32m    131\u001B[0m \u001B[38;5;28;01melif\u001B[39;00m res \u001B[38;5;129;01mis\u001B[39;00m \u001B[38;5;129;01mnot\u001B[39;00m \u001B[38;5;28;01mNone\u001B[39;00m:\n\u001B[0;32m    132\u001B[0m     is_loaded \u001B[38;5;241m=\u001B[39m \u001B[38;5;28;01mTrue\u001B[39;00m\n",
      "\u001B[1;31mOSError\u001B[0m: [WinError 127] 找不到指定的程序。 Error loading \"D:\\conda\\envs\\A1\\lib\\site-packages\\torch\\lib\\c10_cuda.dll\" or one of its dependencies."
     ]
    }
   ],
   "execution_count": 53
  },
  {
   "metadata": {},
   "cell_type": "code",
   "source": "",
   "id": "492557aff6fc3bd",
   "outputs": [],
   "execution_count": null
  }
 ],
 "metadata": {
  "kernelspec": {
   "display_name": "A1",
   "language": "python",
   "name": "a1"
  },
  "language_info": {
   "codemirror_mode": {
    "name": "ipython",
    "version": 2
   },
   "file_extension": ".py",
   "mimetype": "text/x-python",
   "name": "python",
   "nbconvert_exporter": "python",
   "pygments_lexer": "ipython2",
   "version": "2.7.6"
  }
 },
 "nbformat": 4,
 "nbformat_minor": 5
}
