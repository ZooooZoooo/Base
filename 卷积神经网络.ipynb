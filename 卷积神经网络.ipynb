{
 "cells": [
  {
   "metadata": {},
   "cell_type": "markdown",
   "source": [
    "# 卷积神经网络\n",
    "## 从全连接层到卷积\n",
    "卷积层 = 全连接层 + 平移不变性 + 局部性\n",
    "\n",
    "## 图像卷积\n",
    "二维交叉相关和二维卷积差不多，多了一个负号，在实际应用中没有区别。\n",
    "\n",
    "卷积层将输入和核矩阵进行交叉相关，加上偏移后得到输出。\n",
    "\n",
    "核矩阵和偏移是可学习的参数，核矩阵的大小是超参数。\n",
    "\n",
    "说白了，就是利用卷积核将高维的输入映射为低维的输出，实现特征提取。"
   ],
   "id": "16126d8a0da69cb0"
  },
  {
   "metadata": {
    "ExecuteTime": {
     "end_time": "2024-06-30T11:30:34.435186Z",
     "start_time": "2024-06-30T11:30:30.464366Z"
    }
   },
   "cell_type": "code",
   "source": [
    "import torch\n",
    "from torch import nn\n",
    "from d2l import torch as d2l\n",
    "\n",
    "def corr2d(X, K):  #@save 计算二维互相关运算\n",
    "    h, w = K.shape\n",
    "    Y = torch.zeros((X.shape[0] - h + 1, X.shape[1] - w + 1))\n",
    "    for i in range(Y.shape[0]):\n",
    "        for j in range(Y.shape[1]):\n",
    "            Y[i, j] = (X[i:i + h, j:j + w] * K).sum()\n",
    "    return Y"
   ],
   "id": "e697e9e883047e81",
   "outputs": [],
   "execution_count": 1
  },
  {
   "metadata": {
    "ExecuteTime": {
     "end_time": "2024-06-30T11:30:34.451196Z",
     "start_time": "2024-06-30T11:30:34.437185Z"
    }
   },
   "cell_type": "code",
   "source": [
    "X = torch.tensor([[0.0, 1.0, 2.0], [3.0, 4.0, 5.0], [6.0, 7.0, 8.0]])\n",
    "K = torch.tensor([[0.0, 1.0], [2.0, 3.0]])\n",
    "corr2d(X, K) # 验证一下"
   ],
   "id": "72b32c83e632af03",
   "outputs": [
    {
     "data": {
      "text/plain": [
       "tensor([[19., 25.],\n",
       "        [37., 43.]])"
      ]
     },
     "execution_count": 2,
     "metadata": {},
     "output_type": "execute_result"
    }
   ],
   "execution_count": 2
  },
  {
   "metadata": {
    "ExecuteTime": {
     "end_time": "2024-06-30T11:30:34.467521Z",
     "start_time": "2024-06-30T11:30:34.453197Z"
    }
   },
   "cell_type": "code",
   "source": [
    "class Conv2D(nn.Module): # 继承nn.Module实现类\n",
    "    def __init__(self, kernel_size):\n",
    "        super().__init__()\n",
    "        self.weight = nn.Parameter(torch.rand(kernel_size))\n",
    "        self.bias = nn.Parameter(torch.zeros(1))\n",
    "\n",
    "    def forward(self, x):\n",
    "        return corr2d(x, self.weight) + self.bias"
   ],
   "id": "172cb4a1bc297539",
   "outputs": [],
   "execution_count": 3
  },
  {
   "metadata": {
    "ExecuteTime": {
     "end_time": "2024-06-30T11:30:34.482732Z",
     "start_time": "2024-06-30T11:30:34.469988Z"
    }
   },
   "cell_type": "code",
   "source": [
    "X = torch.ones((6, 8))\n",
    "X[:, 2:6] = 0\n",
    "X # 边缘图像"
   ],
   "id": "e2ff593f2ed8ec21",
   "outputs": [
    {
     "data": {
      "text/plain": [
       "tensor([[1., 1., 0., 0., 0., 0., 1., 1.],\n",
       "        [1., 1., 0., 0., 0., 0., 1., 1.],\n",
       "        [1., 1., 0., 0., 0., 0., 1., 1.],\n",
       "        [1., 1., 0., 0., 0., 0., 1., 1.],\n",
       "        [1., 1., 0., 0., 0., 0., 1., 1.],\n",
       "        [1., 1., 0., 0., 0., 0., 1., 1.]])"
      ]
     },
     "execution_count": 4,
     "metadata": {},
     "output_type": "execute_result"
    }
   ],
   "execution_count": 4
  },
  {
   "metadata": {
    "ExecuteTime": {
     "end_time": "2024-06-30T11:30:34.498591Z",
     "start_time": "2024-06-30T11:30:34.485974Z"
    }
   },
   "cell_type": "code",
   "source": [
    "K = torch.tensor([[1.0, -1.0]]) # 卷积核\n",
    "Y = corr2d(X, K)\n",
    "Y"
   ],
   "id": "bd9d3e6c72e260c6",
   "outputs": [
    {
     "data": {
      "text/plain": [
       "tensor([[ 0.,  1.,  0.,  0.,  0., -1.,  0.],\n",
       "        [ 0.,  1.,  0.,  0.,  0., -1.,  0.],\n",
       "        [ 0.,  1.,  0.,  0.,  0., -1.,  0.],\n",
       "        [ 0.,  1.,  0.,  0.,  0., -1.,  0.],\n",
       "        [ 0.,  1.,  0.,  0.,  0., -1.,  0.],\n",
       "        [ 0.,  1.,  0.,  0.,  0., -1.,  0.]])"
      ]
     },
     "execution_count": 5,
     "metadata": {},
     "output_type": "execute_result"
    }
   ],
   "execution_count": 5
  },
  {
   "metadata": {
    "ExecuteTime": {
     "end_time": "2024-06-30T11:30:34.513996Z",
     "start_time": "2024-06-30T11:30:34.500893Z"
    }
   },
   "cell_type": "code",
   "source": "corr2d(X.t(), K) # 经过转置后，该卷积核无法检测水平边缘。",
   "id": "d31a463ceed77627",
   "outputs": [
    {
     "data": {
      "text/plain": [
       "tensor([[0., 0., 0., 0., 0.],\n",
       "        [0., 0., 0., 0., 0.],\n",
       "        [0., 0., 0., 0., 0.],\n",
       "        [0., 0., 0., 0., 0.],\n",
       "        [0., 0., 0., 0., 0.],\n",
       "        [0., 0., 0., 0., 0.],\n",
       "        [0., 0., 0., 0., 0.],\n",
       "        [0., 0., 0., 0., 0.]])"
      ]
     },
     "execution_count": 6,
     "metadata": {},
     "output_type": "execute_result"
    }
   ],
   "execution_count": 6
  },
  {
   "metadata": {
    "ExecuteTime": {
     "end_time": "2024-06-30T11:30:34.545190Z",
     "start_time": "2024-06-30T11:30:34.515532Z"
    }
   },
   "cell_type": "code",
   "source": [
    "# 如何自动学习卷积核，而不是手动设置？\n",
    "# 构造一个二维卷积层，它具有1个输出通道和形状为（1，2）的卷积核\n",
    "conv2d = nn.Conv2d(1,1, kernel_size=(1, 2), bias=False)\n",
    "# 核的形状可以设置，但具体数值还需进一步学习\n",
    "# 这个二维卷积层使用四维输入和输出格式（批量大小、通道、高度、宽度），\n",
    "# 其中批量大小和通道数都为1\n",
    "X = X.reshape((1, 1, 6, 8)) # 输入\n",
    "Y = Y.reshape((1, 1, 6, 7)) # 输出\n",
    "lr = 3e-2  # 学习率\n",
    "\n",
    "for i in range(10):\n",
    "    Y_hat = conv2d(X)\n",
    "    l = (Y_hat - Y) ** 2\n",
    "    conv2d.zero_grad()\n",
    "    l.sum().backward()\n",
    "    # 迭代卷积核\n",
    "    conv2d.weight.data[:] -= lr * conv2d.weight.grad\n",
    "    if (i + 1) % 2 == 0:\n",
    "        print(f'epoch {i+1}, loss {l.sum():.3f}')"
   ],
   "id": "b81f70f2f26d41fb",
   "outputs": [
    {
     "name": "stdout",
     "output_type": "stream",
     "text": [
      "epoch 2, loss 2.701\n",
      "epoch 4, loss 0.596\n",
      "epoch 6, loss 0.159\n",
      "epoch 8, loss 0.051\n",
      "epoch 10, loss 0.018\n"
     ]
    }
   ],
   "execution_count": 7
  },
  {
   "metadata": {
    "ExecuteTime": {
     "end_time": "2024-06-30T11:30:34.560651Z",
     "start_time": "2024-06-30T11:30:34.547344Z"
    }
   },
   "cell_type": "code",
   "source": "conv2d.weight.data.reshape((1, 2))",
   "id": "36661353722788c4",
   "outputs": [
    {
     "data": {
      "text/plain": [
       "tensor([[ 1.0058, -0.9791]])"
      ]
     },
     "execution_count": 8,
     "metadata": {},
     "output_type": "execute_result"
    }
   ],
   "execution_count": 8
  },
  {
   "metadata": {},
   "cell_type": "markdown",
   "source": [
    "## 卷积层里的填充和步幅\n",
    "填充和步幅是卷积层的超参数\n",
    "\n",
    "填充在输入周围添加额外的行/列，来控制输出形状的减少量\n",
    "\n",
    "假设输入形状为$n_h\\times n_w$，卷积核形状为$k_h\\times k_w$，那么输出形状将是$(n_h-k_h+1) \\times (n_w-k_w+1)$。\n",
    "\n",
    "如果我们添加$p_h$行填充（大约一半在顶部，一半在底部）和$p_w$列填充（左侧大约一半，右侧一半），则输出形状将为\n",
    "\n",
    "$$(n_h-k_h+p_h+1)\\times(n_w-k_w+p_w+1)。$$\n",
    "\n",
    "这意味着输出的高度和宽度将分别增加$p_h$和$p_w$。\n",
    "\n",
    "通常取$p_h=k_h-1$和$p_w=k_w-1$，当$k_h$是奇数，在上下两侧填充$p_h/2$行。当$k_h$是偶数，则在上侧填充$\\lceil p_h/2\\rceil$行，在下侧填充$\\lfloor p_h/2\\rfloor$行。\n",
    "\n",
    "卷积核的高度和宽度通常为奇数。\n",
    "\n",
    "步幅是每次滑动核窗口时的行/列的步长，可以成倍的减少输出形状\n",
    "\n",
    "通常，当垂直步幅为$s_h$、水平步幅为$s_w$时，输出形状为：\n",
    "\n",
    "$$\\lfloor(n_h-k_h+p_h+s_h)/s_h\\rfloor \\times \\lfloor(n_w-k_w+p_w+s_w)/s_w\\rfloor.$$\n",
    "\n",
    "如果$p_h=k_h-1$和$p_w=k_w-1$，则输出形状为$\\lfloor(n_h+s_h-1)/s_h\\rfloor \\times \\lfloor(n_w+s_w-1)/s_w\\rfloor$。\n",
    "\n",
    "如果输入的高度和宽度可以被垂直和水平步幅整除，则输出形状将为$(n_h/s_h) \\times (n_w/s_w)$。"
   ],
   "id": "e5a09d4cb133a604"
  },
  {
   "metadata": {
    "ExecuteTime": {
     "end_time": "2024-06-30T11:30:34.576734Z",
     "start_time": "2024-06-30T11:30:34.561878Z"
    }
   },
   "cell_type": "code",
   "source": [
    "# 在所有侧边填充1个像素\n",
    "import torch\n",
    "from torch import nn\n",
    "\n",
    "# 为了方便起见，我们定义了一个计算卷积层的函数。\n",
    "# 此函数初始化卷积层权重，并对输入和输出提高和缩减相应的维数\n",
    "def comp_conv2d(conv2d, X):\n",
    "    # 这里的（1，1）表示批量大小和通道数都是1\n",
    "    X = X.reshape((1, 1) + X.shape)\n",
    "    Y = conv2d(X)\n",
    "    # 省略前两个维度：批量大小和通道\n",
    "    return Y.reshape(Y.shape[2:])\n",
    "\n",
    "# 请注意，这里每边都填充了1行或1列，因此总共添加了2行或2列\n",
    "conv2d = nn.Conv2d(1, 1, kernel_size=3, padding=1)\n",
    "X = torch.rand(size=(8, 8))\n",
    "comp_conv2d(conv2d, X).shape"
   ],
   "id": "2c4cc38b5c1b22b1",
   "outputs": [
    {
     "data": {
      "text/plain": [
       "torch.Size([8, 8])"
      ]
     },
     "execution_count": 9,
     "metadata": {},
     "output_type": "execute_result"
    }
   ],
   "execution_count": 9
  },
  {
   "metadata": {
    "ExecuteTime": {
     "end_time": "2024-06-30T11:30:34.592737Z",
     "start_time": "2024-06-30T11:30:34.578734Z"
    }
   },
   "cell_type": "code",
   "source": [
    "# 填充不同的高度和宽度 2，1\n",
    "conv2d = nn.Conv2d(1, 1, kernel_size=(5, 3), padding=(2, 1))\n",
    "comp_conv2d(conv2d, X).shape"
   ],
   "id": "30281e156643503d",
   "outputs": [
    {
     "data": {
      "text/plain": [
       "torch.Size([8, 8])"
      ]
     },
     "execution_count": 10,
     "metadata": {},
     "output_type": "execute_result"
    }
   ],
   "execution_count": 10
  },
  {
   "metadata": {
    "ExecuteTime": {
     "end_time": "2024-06-30T11:30:34.608729Z",
     "start_time": "2024-06-30T11:30:34.595738Z"
    }
   },
   "cell_type": "code",
   "source": [
    "# 高度和宽度的步幅为2\n",
    "conv2d = nn.Conv2d(1, 1, kernel_size=3, padding=1, stride=2)\n",
    "comp_conv2d(conv2d, X).shape"
   ],
   "id": "12dba4a9f99b1506",
   "outputs": [
    {
     "data": {
      "text/plain": [
       "torch.Size([4, 4])"
      ]
     },
     "execution_count": 11,
     "metadata": {},
     "output_type": "execute_result"
    }
   ],
   "execution_count": 11
  },
  {
   "metadata": {
    "ExecuteTime": {
     "end_time": "2024-06-30T11:30:34.624632Z",
     "start_time": "2024-06-30T11:30:34.610729Z"
    }
   },
   "cell_type": "code",
   "source": [
    "# 高度和宽度的步幅为3、4，填充0和1\n",
    "conv2d = nn.Conv2d(1, 1, kernel_size=(3, 5), padding=(0, 1), stride=(3, 4))\n",
    "comp_conv2d(conv2d, X).shape"
   ],
   "id": "6cbd81957964e162",
   "outputs": [
    {
     "data": {
      "text/plain": [
       "torch.Size([2, 2])"
      ]
     },
     "execution_count": 12,
     "metadata": {},
     "output_type": "execute_result"
    }
   ],
   "execution_count": 12
  }
 ],
 "metadata": {
  "kernelspec": {
   "display_name": "Python 3",
   "language": "python",
   "name": "python3"
  },
  "language_info": {
   "codemirror_mode": {
    "name": "ipython",
    "version": 2
   },
   "file_extension": ".py",
   "mimetype": "text/x-python",
   "name": "python",
   "nbconvert_exporter": "python",
   "pygments_lexer": "ipython2",
   "version": "2.7.6"
  }
 },
 "nbformat": 4,
 "nbformat_minor": 5
}
